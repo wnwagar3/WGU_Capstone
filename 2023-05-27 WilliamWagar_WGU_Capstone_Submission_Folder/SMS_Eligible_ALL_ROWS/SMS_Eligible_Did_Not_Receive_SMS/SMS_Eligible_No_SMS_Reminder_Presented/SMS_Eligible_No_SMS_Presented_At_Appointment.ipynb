{
 "cells": [
  {
   "cell_type": "code",
   "execution_count": 1,
   "id": "d7a2c9ac",
   "metadata": {},
   "outputs": [],
   "source": [
    "# import basic libraries for dataframe usage and viz\n",
    "import numpy as np\n",
    "import pandas as pd\n",
    "import matplotlib.pyplot as plt\n",
    "import seaborn as sns\n",
    "import os"
   ]
  },
  {
   "cell_type": "code",
   "execution_count": 2,
   "id": "92c5f648",
   "metadata": {},
   "outputs": [
    {
     "data": {
      "text/plain": [
       "['.ipynb_checkpoints',\n",
       " 'SMS_Eligible_No_SMS_Presented_At_Appointment.ipynb',\n",
       " 'sms_not_received_appointment_presented.csv']"
      ]
     },
     "execution_count": 2,
     "metadata": {},
     "output_type": "execute_result"
    }
   ],
   "source": [
    "os.listdir()"
   ]
  },
  {
   "cell_type": "code",
   "execution_count": 3,
   "id": "5719e4f7",
   "metadata": {},
   "outputs": [],
   "source": [
    "# this function will greatly simplify getting percentages based on condition\n",
    "# this can be used as a template if you want to change the equality operator to inequality (>,<, etc..)\n",
    "def column_percentage_calculator(df, column_name, condition):\n",
    "    total_rows = df.shape[0]\n",
    "    num_matched_rows = len(df.loc[(df[column_name] == condition)])\n",
    "    percentage_matches_condition = (num_matched_rows / total_rows) * 100\n",
    "    return percentage_matches_condition"
   ]
  },
  {
   "cell_type": "markdown",
   "id": "b3911a03",
   "metadata": {},
   "source": [
    "## It can be assumed that each row that is in data frame was eligible to receive a SMS reminder as the csv it is based on contains only rows from the original dataset that were eligible to recieve SMS reminders."
   ]
  },
  {
   "cell_type": "code",
   "execution_count": 4,
   "id": "150ad081",
   "metadata": {},
   "outputs": [
    {
     "data": {
      "text/html": [
       "<div>\n",
       "<style scoped>\n",
       "    .dataframe tbody tr th:only-of-type {\n",
       "        vertical-align: middle;\n",
       "    }\n",
       "\n",
       "    .dataframe tbody tr th {\n",
       "        vertical-align: top;\n",
       "    }\n",
       "\n",
       "    .dataframe thead th {\n",
       "        text-align: right;\n",
       "    }\n",
       "</style>\n",
       "<table border=\"1\" class=\"dataframe\">\n",
       "  <thead>\n",
       "    <tr style=\"text-align: right;\">\n",
       "      <th></th>\n",
       "      <th>Gender</th>\n",
       "      <th>Age</th>\n",
       "      <th>Scholarship</th>\n",
       "      <th>Hipertension</th>\n",
       "      <th>Diabetes</th>\n",
       "      <th>Alcoholism</th>\n",
       "      <th>Handicap</th>\n",
       "      <th>SMS_received</th>\n",
       "      <th>No-show</th>\n",
       "      <th>Days_Between</th>\n",
       "      <th>Day_Num</th>\n",
       "      <th>Age Group</th>\n",
       "      <th>Interval Group</th>\n",
       "    </tr>\n",
       "  </thead>\n",
       "  <tbody>\n",
       "    <tr>\n",
       "      <th>0</th>\n",
       "      <td>M</td>\n",
       "      <td>62</td>\n",
       "      <td>0</td>\n",
       "      <td>0</td>\n",
       "      <td>0</td>\n",
       "      <td>0</td>\n",
       "      <td>0</td>\n",
       "      <td>0</td>\n",
       "      <td>0</td>\n",
       "      <td>22</td>\n",
       "      <td>4</td>\n",
       "      <td>Older Adult and Seniors</td>\n",
       "      <td>2 - 30</td>\n",
       "    </tr>\n",
       "    <tr>\n",
       "      <th>1</th>\n",
       "      <td>F</td>\n",
       "      <td>60</td>\n",
       "      <td>0</td>\n",
       "      <td>0</td>\n",
       "      <td>0</td>\n",
       "      <td>0</td>\n",
       "      <td>0</td>\n",
       "      <td>0</td>\n",
       "      <td>0</td>\n",
       "      <td>10</td>\n",
       "      <td>4</td>\n",
       "      <td>Older Adult and Seniors</td>\n",
       "      <td>2 - 30</td>\n",
       "    </tr>\n",
       "    <tr>\n",
       "      <th>2</th>\n",
       "      <td>F</td>\n",
       "      <td>69</td>\n",
       "      <td>0</td>\n",
       "      <td>1</td>\n",
       "      <td>0</td>\n",
       "      <td>0</td>\n",
       "      <td>0</td>\n",
       "      <td>0</td>\n",
       "      <td>0</td>\n",
       "      <td>2</td>\n",
       "      <td>4</td>\n",
       "      <td>Older Adult and Seniors</td>\n",
       "      <td>2 - 30</td>\n",
       "    </tr>\n",
       "    <tr>\n",
       "      <th>3</th>\n",
       "      <td>M</td>\n",
       "      <td>2</td>\n",
       "      <td>0</td>\n",
       "      <td>0</td>\n",
       "      <td>0</td>\n",
       "      <td>0</td>\n",
       "      <td>0</td>\n",
       "      <td>0</td>\n",
       "      <td>0</td>\n",
       "      <td>10</td>\n",
       "      <td>4</td>\n",
       "      <td>Youth</td>\n",
       "      <td>2 - 30</td>\n",
       "    </tr>\n",
       "    <tr>\n",
       "      <th>4</th>\n",
       "      <td>M</td>\n",
       "      <td>1</td>\n",
       "      <td>0</td>\n",
       "      <td>0</td>\n",
       "      <td>0</td>\n",
       "      <td>0</td>\n",
       "      <td>0</td>\n",
       "      <td>0</td>\n",
       "      <td>0</td>\n",
       "      <td>10</td>\n",
       "      <td>4</td>\n",
       "      <td>Youth</td>\n",
       "      <td>2 - 30</td>\n",
       "    </tr>\n",
       "  </tbody>\n",
       "</table>\n",
       "</div>"
      ],
      "text/plain": [
       "  Gender  Age  Scholarship  Hipertension  Diabetes  Alcoholism  Handicap  \\\n",
       "0      M   62            0             0         0           0         0   \n",
       "1      F   60            0             0         0           0         0   \n",
       "2      F   69            0             1         0           0         0   \n",
       "3      M    2            0             0         0           0         0   \n",
       "4      M    1            0             0         0           0         0   \n",
       "\n",
       "   SMS_received  No-show  Days_Between  Day_Num                Age Group  \\\n",
       "0             0        0            22        4  Older Adult and Seniors   \n",
       "1             0        0            10        4  Older Adult and Seniors   \n",
       "2             0        0             2        4  Older Adult and Seniors   \n",
       "3             0        0            10        4                    Youth   \n",
       "4             0        0            10        4                    Youth   \n",
       "\n",
       "  Interval Group  \n",
       "0         2 - 30  \n",
       "1         2 - 30  \n",
       "2         2 - 30  \n",
       "3         2 - 30  \n",
       "4         2 - 30  "
      ]
     },
     "execution_count": 4,
     "metadata": {},
     "output_type": "execute_result"
    }
   ],
   "source": [
    "# import df with pandas and visually inspect the head \n",
    "sms_not_received_appointment_presented_df = pd.read_csv('sms_not_received_appointment_presented.csv')\n",
    "sms_not_received_appointment_presented_df.head()"
   ]
  },
  {
   "cell_type": "code",
   "execution_count": 5,
   "id": "f52db9bf",
   "metadata": {},
   "outputs": [
    {
     "data": {
      "text/html": [
       "<div>\n",
       "<style scoped>\n",
       "    .dataframe tbody tr th:only-of-type {\n",
       "        vertical-align: middle;\n",
       "    }\n",
       "\n",
       "    .dataframe tbody tr th {\n",
       "        vertical-align: top;\n",
       "    }\n",
       "\n",
       "    .dataframe thead th {\n",
       "        text-align: right;\n",
       "    }\n",
       "</style>\n",
       "<table border=\"1\" class=\"dataframe\">\n",
       "  <thead>\n",
       "    <tr style=\"text-align: right;\">\n",
       "      <th></th>\n",
       "      <th>Age</th>\n",
       "      <th>Scholarship</th>\n",
       "      <th>Hipertension</th>\n",
       "      <th>Diabetes</th>\n",
       "      <th>Alcoholism</th>\n",
       "      <th>Handicap</th>\n",
       "      <th>SMS_received</th>\n",
       "      <th>No-show</th>\n",
       "      <th>Days_Between</th>\n",
       "      <th>Day_Num</th>\n",
       "    </tr>\n",
       "  </thead>\n",
       "  <tbody>\n",
       "    <tr>\n",
       "      <th>count</th>\n",
       "      <td>16439.000000</td>\n",
       "      <td>16439.000000</td>\n",
       "      <td>16439.000000</td>\n",
       "      <td>16439.000000</td>\n",
       "      <td>16439.000000</td>\n",
       "      <td>16439.000000</td>\n",
       "      <td>16439.0</td>\n",
       "      <td>16439.0</td>\n",
       "      <td>16439.000000</td>\n",
       "      <td>16439.000000</td>\n",
       "    </tr>\n",
       "    <tr>\n",
       "      <th>mean</th>\n",
       "      <td>39.248008</td>\n",
       "      <td>0.082243</td>\n",
       "      <td>0.215767</td>\n",
       "      <td>0.072693</td>\n",
       "      <td>0.023602</td>\n",
       "      <td>0.018067</td>\n",
       "      <td>0.0</td>\n",
       "      <td>0.0</td>\n",
       "      <td>15.588053</td>\n",
       "      <td>1.751019</td>\n",
       "    </tr>\n",
       "    <tr>\n",
       "      <th>std</th>\n",
       "      <td>23.800168</td>\n",
       "      <td>0.274744</td>\n",
       "      <td>0.411366</td>\n",
       "      <td>0.259640</td>\n",
       "      <td>0.151812</td>\n",
       "      <td>0.133197</td>\n",
       "      <td>0.0</td>\n",
       "      <td>0.0</td>\n",
       "      <td>15.169514</td>\n",
       "      <td>1.513614</td>\n",
       "    </tr>\n",
       "    <tr>\n",
       "      <th>min</th>\n",
       "      <td>0.000000</td>\n",
       "      <td>0.000000</td>\n",
       "      <td>0.000000</td>\n",
       "      <td>0.000000</td>\n",
       "      <td>0.000000</td>\n",
       "      <td>0.000000</td>\n",
       "      <td>0.0</td>\n",
       "      <td>0.0</td>\n",
       "      <td>2.000000</td>\n",
       "      <td>0.000000</td>\n",
       "    </tr>\n",
       "    <tr>\n",
       "      <th>25%</th>\n",
       "      <td>19.000000</td>\n",
       "      <td>0.000000</td>\n",
       "      <td>0.000000</td>\n",
       "      <td>0.000000</td>\n",
       "      <td>0.000000</td>\n",
       "      <td>0.000000</td>\n",
       "      <td>0.0</td>\n",
       "      <td>0.0</td>\n",
       "      <td>5.000000</td>\n",
       "      <td>0.000000</td>\n",
       "    </tr>\n",
       "    <tr>\n",
       "      <th>50%</th>\n",
       "      <td>40.000000</td>\n",
       "      <td>0.000000</td>\n",
       "      <td>0.000000</td>\n",
       "      <td>0.000000</td>\n",
       "      <td>0.000000</td>\n",
       "      <td>0.000000</td>\n",
       "      <td>0.0</td>\n",
       "      <td>0.0</td>\n",
       "      <td>11.000000</td>\n",
       "      <td>2.000000</td>\n",
       "    </tr>\n",
       "    <tr>\n",
       "      <th>75%</th>\n",
       "      <td>58.000000</td>\n",
       "      <td>0.000000</td>\n",
       "      <td>0.000000</td>\n",
       "      <td>0.000000</td>\n",
       "      <td>0.000000</td>\n",
       "      <td>0.000000</td>\n",
       "      <td>0.0</td>\n",
       "      <td>0.0</td>\n",
       "      <td>22.000000</td>\n",
       "      <td>3.000000</td>\n",
       "    </tr>\n",
       "    <tr>\n",
       "      <th>max</th>\n",
       "      <td>98.000000</td>\n",
       "      <td>1.000000</td>\n",
       "      <td>1.000000</td>\n",
       "      <td>1.000000</td>\n",
       "      <td>1.000000</td>\n",
       "      <td>1.000000</td>\n",
       "      <td>0.0</td>\n",
       "      <td>0.0</td>\n",
       "      <td>90.000000</td>\n",
       "      <td>5.000000</td>\n",
       "    </tr>\n",
       "  </tbody>\n",
       "</table>\n",
       "</div>"
      ],
      "text/plain": [
       "                Age   Scholarship  Hipertension      Diabetes    Alcoholism  \\\n",
       "count  16439.000000  16439.000000  16439.000000  16439.000000  16439.000000   \n",
       "mean      39.248008      0.082243      0.215767      0.072693      0.023602   \n",
       "std       23.800168      0.274744      0.411366      0.259640      0.151812   \n",
       "min        0.000000      0.000000      0.000000      0.000000      0.000000   \n",
       "25%       19.000000      0.000000      0.000000      0.000000      0.000000   \n",
       "50%       40.000000      0.000000      0.000000      0.000000      0.000000   \n",
       "75%       58.000000      0.000000      0.000000      0.000000      0.000000   \n",
       "max       98.000000      1.000000      1.000000      1.000000      1.000000   \n",
       "\n",
       "           Handicap  SMS_received  No-show  Days_Between       Day_Num  \n",
       "count  16439.000000       16439.0  16439.0  16439.000000  16439.000000  \n",
       "mean       0.018067           0.0      0.0     15.588053      1.751019  \n",
       "std        0.133197           0.0      0.0     15.169514      1.513614  \n",
       "min        0.000000           0.0      0.0      2.000000      0.000000  \n",
       "25%        0.000000           0.0      0.0      5.000000      0.000000  \n",
       "50%        0.000000           0.0      0.0     11.000000      2.000000  \n",
       "75%        0.000000           0.0      0.0     22.000000      3.000000  \n",
       "max        1.000000           0.0      0.0     90.000000      5.000000  "
      ]
     },
     "execution_count": 5,
     "metadata": {},
     "output_type": "execute_result"
    }
   ],
   "source": [
    "sms_not_received_appointment_presented_df.describe()"
   ]
  },
  {
   "cell_type": "code",
   "execution_count": 6,
   "id": "ebfc0ac4",
   "metadata": {},
   "outputs": [
    {
     "name": "stdout",
     "output_type": "stream",
     "text": [
      "<class 'pandas.core.frame.DataFrame'>\n",
      "RangeIndex: 16439 entries, 0 to 16438\n",
      "Data columns (total 13 columns):\n",
      " #   Column          Non-Null Count  Dtype \n",
      "---  ------          --------------  ----- \n",
      " 0   Gender          16439 non-null  object\n",
      " 1   Age             16439 non-null  int64 \n",
      " 2   Scholarship     16439 non-null  int64 \n",
      " 3   Hipertension    16439 non-null  int64 \n",
      " 4   Diabetes        16439 non-null  int64 \n",
      " 5   Alcoholism      16439 non-null  int64 \n",
      " 6   Handicap        16439 non-null  int64 \n",
      " 7   SMS_received    16439 non-null  int64 \n",
      " 8   No-show         16439 non-null  int64 \n",
      " 9   Days_Between    16439 non-null  int64 \n",
      " 10  Day_Num         16439 non-null  int64 \n",
      " 11  Age Group       16439 non-null  object\n",
      " 12  Interval Group  16439 non-null  object\n",
      "dtypes: int64(10), object(3)\n",
      "memory usage: 1.6+ MB\n"
     ]
    }
   ],
   "source": [
    "# examine df structure\n",
    "sms_not_received_appointment_presented_df.info()"
   ]
  },
  {
   "cell_type": "markdown",
   "id": "28800761",
   "metadata": {},
   "source": [
    "# AGE"
   ]
  },
  {
   "cell_type": "code",
   "execution_count": 7,
   "id": "9368ac30",
   "metadata": {},
   "outputs": [
    {
     "data": {
      "text/plain": [
       "<AxesSubplot:ylabel='Frequency'>"
      ]
     },
     "execution_count": 7,
     "metadata": {},
     "output_type": "execute_result"
    },
    {
     "data": {
      "image/png": "[encoded data removed]",
      "text/plain": [
       "<Figure size 500x500 with 1 Axes>"
      ]
     },
     "metadata": {},
     "output_type": "display_data"
    }
   ],
   "source": [
    "sms_not_received_appointment_presented_df.Age.plot(kind='hist', figsize=(5,5), color='red')"
   ]
  },
  {
   "cell_type": "code",
   "execution_count": 8,
   "id": "b74db858",
   "metadata": {},
   "outputs": [
    {
     "name": "stdout",
     "output_type": "stream",
     "text": [
      "40.0 is the median age.\n"
     ]
    }
   ],
   "source": [
    "# calculate the median age for appointments that DID RECEIVE SMS REMINDER BUT NO SHOW\n",
    "age_median = sms_not_received_appointment_presented_df.Age.median()\n",
    "print('{} is the median age.'.format(age_median))"
   ]
  },
  {
   "cell_type": "markdown",
   "id": "a7560c0f",
   "metadata": {},
   "source": [
    "# DAYS_BETWEEN"
   ]
  },
  {
   "cell_type": "code",
   "execution_count": 9,
   "id": "95e5d947",
   "metadata": {},
   "outputs": [
    {
     "data": {
      "text/plain": [
       "<AxesSubplot:ylabel='Frequency'>"
      ]
     },
     "execution_count": 9,
     "metadata": {},
     "output_type": "execute_result"
    },
    {
     "data": {
      "image/png": "[encoded data removed]",
      "text/plain": [
       "<Figure size 500x300 with 1 Axes>"
      ]
     },
     "metadata": {},
     "output_type": "display_data"
    }
   ],
   "source": [
    "# visualize 'Days_Between' column distribution\n",
    "sms_not_received_appointment_presented_df.Days_Between.plot(kind='hist', figsize=(5,3), color='blue')"
   ]
  },
  {
   "cell_type": "markdown",
   "id": "e9df919f",
   "metadata": {},
   "source": [
    "# GENDER"
   ]
  },
  {
   "cell_type": "code",
   "execution_count": 10,
   "id": "54c24922",
   "metadata": {},
   "outputs": [
    {
     "name": "stdout",
     "output_type": "stream",
     "text": [
      "34.63% of SMS-eligible appointments that DID NOT RECEIVE SMS REMINDER AND PRESENTED were for male patients.\n",
      "65.37% of SMS-eligible appointments that DID NOT RECEIVE SMS REMINDER AND PRESENTED were for female patients.\n"
     ]
    }
   ],
   "source": [
    "# calculate percent each gender that DID RECEIVE SMS REMINDER BUT NO SHOW' rows with column_percentage_calculator already defined\n",
    "not_receive_SMS_present_male_percent = column_percentage_calculator(sms_not_received_appointment_presented_df, 'Gender', 'M')\n",
    "not_receive_SMS_present_female_percent = column_percentage_calculator(sms_not_received_appointment_presented_df, 'Gender', 'F')\n",
    "print('{}% of SMS-eligible appointments that DID NOT RECEIVE SMS REMINDER AND PRESENTED were for male patients.'.format(round(not_receive_SMS_present_male_percent, 2)))\n",
    "print('{}% of SMS-eligible appointments that DID NOT RECEIVE SMS REMINDER AND PRESENTED were for female patients.'.format(round(not_receive_SMS_present_female_percent, 2)))"
   ]
  },
  {
   "cell_type": "code",
   "execution_count": 11,
   "id": "a3b6a97c",
   "metadata": {},
   "outputs": [
    {
     "data": {
      "text/plain": [
       "Text(0.5, 1.0, 'No SMS Reminder But Presented Gender Percentage')"
      ]
     },
     "execution_count": 11,
     "metadata": {},
     "output_type": "execute_result"
    },
    {
     "data": {
      "image/png": "[encoded data removed]",
      "text/plain": [
       "<Figure size 640x480 with 1 Axes>"
      ]
     },
     "metadata": {},
     "output_type": "display_data"
    }
   ],
   "source": [
    "# visualize gender binary distribution\n",
    "gender_percents = [not_receive_SMS_present_male_percent, not_receive_SMS_present_female_percent ]\n",
    "labels = ['Male', 'Female']\n",
    "\n",
    "fig, ax = plt.subplots()\n",
    "ax.pie(gender_percents, labels = labels)\n",
    "ax.set_title('No SMS Reminder But Presented Gender Percentage')"
   ]
  },
  {
   "cell_type": "markdown",
   "id": "ee1f8529",
   "metadata": {},
   "source": [
    "# INTERVAL GROUP"
   ]
  },
  {
   "cell_type": "code",
   "execution_count": 12,
   "id": "6b4af3be",
   "metadata": {},
   "outputs": [
    {
     "name": "stdout",
     "output_type": "stream",
     "text": [
      "Percentage of SMS-Eligible appointments that DID NOT RECEIVE SMS REMINDER BUT PRESENTED scheduled between 2 and 30 days out ---> 86.43%\n",
      "Percentage of SMS-Eligible appointments that DID NOT RECEIVE SMS REMINDER BUT PRESENTED scheduled between 31 and 60 days out ---> 10.96%\n",
      "Percentage of SMS-Eligible appointments that DID NOT RECEIVE SMS REMINDER BUT PRESENTED scheduled between 61 and 90 days out ---> 2.61%\n"
     ]
    }
   ],
   "source": [
    "# obtain percentages of Interval Groups using the column_percentage_calculator function defined earlier \n",
    "two_to_thirty_percentage = column_percentage_calculator(sms_not_received_appointment_presented_df, 'Interval Group', '2 - 30')\n",
    "num_thirtyone_to_sixty_percentage = column_percentage_calculator(sms_not_received_appointment_presented_df, 'Interval Group', '31 - 60')\n",
    "num_sixtyone_to_ninety_percentage = column_percentage_calculator(sms_not_received_appointment_presented_df, 'Interval Group', '61 - 90')\n",
    "\n",
    "print('Percentage of SMS-Eligible appointments that DID NOT RECEIVE SMS REMINDER BUT PRESENTED scheduled between 2 and 30 days out ---> {}%'.format(round(two_to_thirty_percentage,2)))\n",
    "print('Percentage of SMS-Eligible appointments that DID NOT RECEIVE SMS REMINDER BUT PRESENTED scheduled between 31 and 60 days out ---> {}%'.format(round(num_thirtyone_to_sixty_percentage, 2)))\n",
    "print('Percentage of SMS-Eligible appointments that DID NOT RECEIVE SMS REMINDER BUT PRESENTED scheduled between 61 and 90 days out ---> {}%'.format(round(num_sixtyone_to_ninety_percentage, 2)))"
   ]
  },
  {
   "cell_type": "code",
   "execution_count": 13,
   "id": "5fafed96",
   "metadata": {},
   "outputs": [
    {
     "data": {
      "text/plain": [
       "<AxesSubplot:>"
      ]
     },
     "execution_count": 13,
     "metadata": {},
     "output_type": "execute_result"
    },
    {
     "data": {
      "image/png": "[encoded data removed]",
      "text/plain": [
       "<Figure size 500x300 with 1 Axes>"
      ]
     },
     "metadata": {},
     "output_type": "display_data"
    }
   ],
   "source": [
    "# visualize Interval Group categorical distribution in a bar plot\n",
    "sms_not_received_appointment_presented_df['Interval Group'].value_counts().plot(kind='bar', figsize =(5,3), color='green')"
   ]
  },
  {
   "cell_type": "markdown",
   "id": "4758ab5b",
   "metadata": {},
   "source": [
    "# AGE BRACKETS"
   ]
  },
  {
   "cell_type": "code",
   "execution_count": 14,
   "id": "a367a8af",
   "metadata": {},
   "outputs": [
    {
     "name": "stdout",
     "output_type": "stream",
     "text": [
      "Percentage of SMS-Eligible appointments that DID NOT RECEIVE SMS REMINDER BUT PRESENTED for Youths 24.51%\n",
      "Percentage of SMS-Eligible appointments that DID NOT RECEIVE SMS REMINDER BUT PRESENTED for Young Adults 21.05%\n",
      "Percentage of SMS-Eligible appointments that DID NOT RECEIVE SMS REMINDER BUT PRESENTED for Adults 25.4%\n",
      "Percentage of SMS-Eligible appointments that DID NOT RECEIVE SMS REMINDER BUT PRESENTED for Older Adults and Seniors 29.04%\n"
     ]
    }
   ],
   "source": [
    "# calculate percentage for age group categorical column values\n",
    "sms_eligible_youth_percentage = column_percentage_calculator(sms_not_received_appointment_presented_df, 'Age Group', 'Youth')\n",
    "sms_eligible_young_adult_percentage = column_percentage_calculator(sms_not_received_appointment_presented_df, 'Age Group', 'Young Adult')\n",
    "sms_eligible_adult_percentage = column_percentage_calculator(sms_not_received_appointment_presented_df, 'Age Group', 'Adult')\n",
    "sms_eligible_older_adult_percentage = column_percentage_calculator(sms_not_received_appointment_presented_df, 'Age Group', 'Older Adult and Seniors')\n",
    "\n",
    "print('Percentage of SMS-Eligible appointments that DID NOT RECEIVE SMS REMINDER BUT PRESENTED for Youths {}%'.format(round(sms_eligible_youth_percentage, 2)))\n",
    "print('Percentage of SMS-Eligible appointments that DID NOT RECEIVE SMS REMINDER BUT PRESENTED for Young Adults {}%'.format(round(sms_eligible_young_adult_percentage, 2)))\n",
    "print('Percentage of SMS-Eligible appointments that DID NOT RECEIVE SMS REMINDER BUT PRESENTED for Adults {}%'.format(round(sms_eligible_adult_percentage, 2)))\n",
    "print('Percentage of SMS-Eligible appointments that DID NOT RECEIVE SMS REMINDER BUT PRESENTED for Older Adults and Seniors {}%'.format(round(sms_eligible_older_adult_percentage, 2)))"
   ]
  },
  {
   "cell_type": "markdown",
   "id": "f5916f53",
   "metadata": {},
   "source": [
    "# CONDITIONS"
   ]
  },
  {
   "cell_type": "markdown",
   "id": "ba0d5ba3",
   "metadata": {},
   "source": [
    "__As each 'condition' is it's own column and the values are only binary (0 for no, 1 for yes), the percentages for these variables WRT to all ROWS THAT DID NOT RECEIVE SMS REMINDER AND PRESENTED AT THE APPOINTMENT was obtained from the .describe() command and its output above. These values and respective labels will be used to visualize these variables on a bar graph.__"
   ]
  },
  {
   "cell_type": "code",
   "execution_count": 15,
   "id": "d6eaa476",
   "metadata": {},
   "outputs": [
    {
     "data": {
      "text/plain": [
       "[Text(0, 0, 'Handicap'),\n",
       " Text(1, 0, 'Alcoholism'),\n",
       " Text(2, 0, 'Diabetes'),\n",
       " Text(3, 0, 'Scholarship Program'),\n",
       " Text(4, 0, 'Hypertension')]"
      ]
     },
     "execution_count": 15,
     "metadata": {},
     "output_type": "execute_result"
    },
    {
     "data": {
      "image/png": "[encoded data removed]",
      "text/plain": [
       "<Figure size 500x500 with 1 Axes>"
      ]
     },
     "metadata": {},
     "output_type": "display_data"
    }
   ],
   "source": [
    "# create pandas series to graph and list of respective labels\n",
    "condition_percents = pd.Series([1.33,  1.52, 7.27, 8.2, 21.58])\n",
    "labels = ['Handicap', 'Alcoholism', 'Diabetes', 'Scholarship Program', 'Hypertension']\n",
    "\n",
    "\n",
    "# plot graph of variable condition percentages\n",
    "plt.figure(figsize=(5,5))\n",
    "ax = condition_percents.plot(kind='bar')\n",
    "ax.set_title('Variable Condition Percents of NO SMS AND PRESENTED Appointments')\n",
    "ax.set_xlabel('Variable Conditions in NO SMS AND PRESENTED Appointments Data Set')\n",
    "ax.set_ylabel('Percent of Total Data Set')\n",
    "ax.set_xticklabels(labels, rotation=45, ha='right')"
   ]
  },
  {
   "cell_type": "markdown",
   "id": "ed472dd4",
   "metadata": {},
   "source": [
    "# These are descriptive statistics of ROWS THAT DID NOT RECEIVE SMS REMINDER AND PRESENTED AT APPOINTMENT. \n",
    "\n",
    "- __The average age for NO SMS-RECEIVED and PRESENTED appointments is 39 (39.25 rounded).__\n",
    "- __The median age for NO SMS-RECEIVED and PRESENTED appointments is 40.__\n",
    "- __The average time between the ScheduledDay and AppointmentDay for NO SMS-RECEIVED and PRESENTED appointments is 16 (15.59 rounded) days.__\n",
    "- __Approximately 8.2% of NO SMS-RECEIVED and PRESENTED appointments are for patients enrolled in the 'scholarship' program (explained earlier in analysis).__\n",
    "- __Approximately 21.58% of NO SMS-RECEIVED and PRESENTED are for patients suffering from hipertension (hypertension).__\n",
    "- __Approximately 7.27% of NO SMS-RECEIVED and PRESENTED are for patients suffering from diabetes.__\n",
    "- __Approximately 1.52% of NO SMS-RECEIVED and PRESENTED are for patients suffering from alcoholism.__\n",
    "- __Approximately 1.33% of NO SMS-RECEIVED and PRESENTED are for patients identifying as handicapped.__\n",
    "- __Approximately 34.63% of NO SMS-RECEIVED and PRESENTED rows were for appointments for male patients.__\n",
    "- __Approximately 65.37% of NO SMS-RECEIVED and PRESENTED elibible rows were for appointments for female patients.__\n",
    "- __Approximately 24.51% of NO SMS-RECEIVED and PRESENTED for Youths.__\n",
    "- __Approximately 21.05% of NO SMS-RECEIVED and PRESENTED for Young Adults.__ \n",
    "- __Approximately 25.40% of NO SMS-RECEIVED and PRESENTED for Adults.__\n",
    "- __Approximately 29.04% of NO SMS-RECEIVED and PRESENTED for Older Adults and Seniors.__ \n",
    "- __Approximately 86.43%% of NO SMS-RECEIVED and PRESENTED were scheduled between 2 and 30 days out.__\n",
    "- __Approximately 10.96% of NO SMS-RECEIVED and PRESENTED scheduled between 31 and 60 days out.__\n",
    "- __Approximately 2.61% of NO SMS-RECEIVED and PRESENTED scheduled between 61 and 90 days out.__"
   ]
  },
  {
   "cell_type": "code",
   "execution_count": 16,
   "id": "d0341102",
   "metadata": {},
   "outputs": [
    {
     "data": {
      "text/plain": [
       "True"
      ]
     },
     "execution_count": 16,
     "metadata": {},
     "output_type": "execute_result"
    }
   ],
   "source": [
    "1 == 1"
   ]
  },
  {
   "cell_type": "markdown",
   "id": "ee426ca1",
   "metadata": {},
   "source": [
    "# This is the end of this section of EDA for ROWS THAT DID NOT RECEIVE SMS REMINDER AND PRESENTED AT THE APPOINTMENT"
   ]
  }
 ],
 "metadata": {
  "kernelspec": {
   "display_name": "Python 3 (ipykernel)",
   "language": "python",
   "name": "python3"
  },
  "language_info": {
   "codemirror_mode": {
    "name": "ipython",
    "version": 3
   },
   "file_extension": ".py",
   "mimetype": "text/x-python",
   "name": "python",
   "nbconvert_exporter": "python",
   "pygments_lexer": "ipython3",
   "version": "3.9.13"
  }
 },
 "nbformat": 4,
 "nbformat_minor": 5
}
