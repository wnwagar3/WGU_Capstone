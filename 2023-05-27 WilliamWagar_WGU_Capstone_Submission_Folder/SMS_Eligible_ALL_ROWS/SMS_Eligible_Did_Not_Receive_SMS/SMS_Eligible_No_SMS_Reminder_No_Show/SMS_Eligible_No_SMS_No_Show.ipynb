{
 "cells": [
  {
   "cell_type": "code",
   "execution_count": 1,
   "id": "8ede9965",
   "metadata": {},
   "outputs": [],
   "source": [
    "# import basic libraries for dataframe usage and viz\n",
    "import numpy as np\n",
    "import pandas as pd\n",
    "import matplotlib.pyplot as plt\n",
    "import seaborn as sns\n",
    "import os"
   ]
  },
  {
   "cell_type": "code",
   "execution_count": 2,
   "id": "d2e9aaa9",
   "metadata": {},
   "outputs": [
    {
     "data": {
      "text/plain": [
       "['.ipynb_checkpoints',\n",
       " 'SMS_Eligible_No_SMS_No_Show.ipynb',\n",
       " 'sms_not_received_appointment_no_show.csv']"
      ]
     },
     "execution_count": 2,
     "metadata": {},
     "output_type": "execute_result"
    }
   ],
   "source": [
    "## remove this cell before submitting\n",
    "\n",
    "os.listdir()"
   ]
  },
  {
   "cell_type": "code",
   "execution_count": 3,
   "id": "c07c3d4f",
   "metadata": {},
   "outputs": [],
   "source": [
    "# this function will greatly simplify getting percentages based on condition\n",
    "# this can be used as a template if you want to change the equality operator to inequality (>,<, etc..)\n",
    "def column_percentage_calculator(df, column_name, condition):\n",
    "    total_rows = df.shape[0]\n",
    "    num_matched_rows = len(df.loc[(df[column_name] == condition)])\n",
    "    percentage_matches_condition = (num_matched_rows / total_rows) * 100\n",
    "    return percentage_matches_condition"
   ]
  },
  {
   "cell_type": "markdown",
   "id": "84cc8307",
   "metadata": {},
   "source": [
    "## It can be assumed that each row that is in data frame was eligible to receive a SMS reminder as the csv it is based on contains only rows from the original dataset that were eligible to recieve SMS reminders."
   ]
  },
  {
   "cell_type": "code",
   "execution_count": 4,
   "id": "51a174c1",
   "metadata": {},
   "outputs": [
    {
     "data": {
      "text/html": [
       "<div>\n",
       "<style scoped>\n",
       "    .dataframe tbody tr th:only-of-type {\n",
       "        vertical-align: middle;\n",
       "    }\n",
       "\n",
       "    .dataframe tbody tr th {\n",
       "        vertical-align: top;\n",
       "    }\n",
       "\n",
       "    .dataframe thead th {\n",
       "        text-align: right;\n",
       "    }\n",
       "</style>\n",
       "<table border=\"1\" class=\"dataframe\">\n",
       "  <thead>\n",
       "    <tr style=\"text-align: right;\">\n",
       "      <th></th>\n",
       "      <th>Gender</th>\n",
       "      <th>Age</th>\n",
       "      <th>Scholarship</th>\n",
       "      <th>Hipertension</th>\n",
       "      <th>Diabetes</th>\n",
       "      <th>Alcoholism</th>\n",
       "      <th>Handicap</th>\n",
       "      <th>SMS_received</th>\n",
       "      <th>No-show</th>\n",
       "      <th>Days_Between</th>\n",
       "      <th>Day_Num</th>\n",
       "      <th>Age Group</th>\n",
       "      <th>Interval Group</th>\n",
       "    </tr>\n",
       "  </thead>\n",
       "  <tbody>\n",
       "    <tr>\n",
       "      <th>0</th>\n",
       "      <td>M</td>\n",
       "      <td>28</td>\n",
       "      <td>0</td>\n",
       "      <td>0</td>\n",
       "      <td>0</td>\n",
       "      <td>0</td>\n",
       "      <td>0</td>\n",
       "      <td>0</td>\n",
       "      <td>1</td>\n",
       "      <td>10</td>\n",
       "      <td>4</td>\n",
       "      <td>Young Adult</td>\n",
       "      <td>2 - 30</td>\n",
       "    </tr>\n",
       "    <tr>\n",
       "      <th>1</th>\n",
       "      <td>F</td>\n",
       "      <td>57</td>\n",
       "      <td>0</td>\n",
       "      <td>0</td>\n",
       "      <td>0</td>\n",
       "      <td>0</td>\n",
       "      <td>0</td>\n",
       "      <td>0</td>\n",
       "      <td>1</td>\n",
       "      <td>41</td>\n",
       "      <td>4</td>\n",
       "      <td>Older Adult and Seniors</td>\n",
       "      <td>31 - 60</td>\n",
       "    </tr>\n",
       "    <tr>\n",
       "      <th>2</th>\n",
       "      <td>M</td>\n",
       "      <td>43</td>\n",
       "      <td>0</td>\n",
       "      <td>0</td>\n",
       "      <td>0</td>\n",
       "      <td>0</td>\n",
       "      <td>0</td>\n",
       "      <td>0</td>\n",
       "      <td>1</td>\n",
       "      <td>28</td>\n",
       "      <td>4</td>\n",
       "      <td>Adult</td>\n",
       "      <td>2 - 30</td>\n",
       "    </tr>\n",
       "    <tr>\n",
       "      <th>3</th>\n",
       "      <td>F</td>\n",
       "      <td>22</td>\n",
       "      <td>0</td>\n",
       "      <td>0</td>\n",
       "      <td>0</td>\n",
       "      <td>0</td>\n",
       "      <td>0</td>\n",
       "      <td>0</td>\n",
       "      <td>1</td>\n",
       "      <td>44</td>\n",
       "      <td>4</td>\n",
       "      <td>Young Adult</td>\n",
       "      <td>31 - 60</td>\n",
       "    </tr>\n",
       "    <tr>\n",
       "      <th>4</th>\n",
       "      <td>M</td>\n",
       "      <td>58</td>\n",
       "      <td>0</td>\n",
       "      <td>0</td>\n",
       "      <td>0</td>\n",
       "      <td>0</td>\n",
       "      <td>0</td>\n",
       "      <td>0</td>\n",
       "      <td>1</td>\n",
       "      <td>41</td>\n",
       "      <td>4</td>\n",
       "      <td>Older Adult and Seniors</td>\n",
       "      <td>31 - 60</td>\n",
       "    </tr>\n",
       "  </tbody>\n",
       "</table>\n",
       "</div>"
      ],
      "text/plain": [
       "  Gender  Age  Scholarship  Hipertension  Diabetes  Alcoholism  Handicap  \\\n",
       "0      M   28            0             0         0           0         0   \n",
       "1      F   57            0             0         0           0         0   \n",
       "2      M   43            0             0         0           0         0   \n",
       "3      F   22            0             0         0           0         0   \n",
       "4      M   58            0             0         0           0         0   \n",
       "\n",
       "   SMS_received  No-show  Days_Between  Day_Num                Age Group  \\\n",
       "0             0        1            10        4              Young Adult   \n",
       "1             0        1            41        4  Older Adult and Seniors   \n",
       "2             0        1            28        4                    Adult   \n",
       "3             0        1            44        4              Young Adult   \n",
       "4             0        1            41        4  Older Adult and Seniors   \n",
       "\n",
       "  Interval Group  \n",
       "0         2 - 30  \n",
       "1        31 - 60  \n",
       "2         2 - 30  \n",
       "3        31 - 60  \n",
       "4        31 - 60  "
      ]
     },
     "execution_count": 4,
     "metadata": {},
     "output_type": "execute_result"
    }
   ],
   "source": [
    "# import df with pandas and visually inspect the head \n",
    "sms_not_received_appointment_no_show_df = pd.read_csv('sms_not_received_appointment_no_show.csv')\n",
    "sms_not_received_appointment_no_show_df.head()"
   ]
  },
  {
   "cell_type": "code",
   "execution_count": 5,
   "id": "147227bd",
   "metadata": {},
   "outputs": [
    {
     "data": {
      "text/html": [
       "<div>\n",
       "<style scoped>\n",
       "    .dataframe tbody tr th:only-of-type {\n",
       "        vertical-align: middle;\n",
       "    }\n",
       "\n",
       "    .dataframe tbody tr th {\n",
       "        vertical-align: top;\n",
       "    }\n",
       "\n",
       "    .dataframe thead th {\n",
       "        text-align: right;\n",
       "    }\n",
       "</style>\n",
       "<table border=\"1\" class=\"dataframe\">\n",
       "  <thead>\n",
       "    <tr style=\"text-align: right;\">\n",
       "      <th></th>\n",
       "      <th>Age</th>\n",
       "      <th>Scholarship</th>\n",
       "      <th>Hipertension</th>\n",
       "      <th>Diabetes</th>\n",
       "      <th>Alcoholism</th>\n",
       "      <th>Handicap</th>\n",
       "      <th>SMS_received</th>\n",
       "      <th>No-show</th>\n",
       "      <th>Days_Between</th>\n",
       "      <th>Day_Num</th>\n",
       "    </tr>\n",
       "  </thead>\n",
       "  <tbody>\n",
       "    <tr>\n",
       "      <th>count</th>\n",
       "      <td>7988.000000</td>\n",
       "      <td>7988.000000</td>\n",
       "      <td>7988.000000</td>\n",
       "      <td>7988.000000</td>\n",
       "      <td>7988.000000</td>\n",
       "      <td>7988.000000</td>\n",
       "      <td>7988.0</td>\n",
       "      <td>7988.0</td>\n",
       "      <td>7988.000000</td>\n",
       "      <td>7988.000000</td>\n",
       "    </tr>\n",
       "    <tr>\n",
       "      <th>mean</th>\n",
       "      <td>34.159114</td>\n",
       "      <td>0.112293</td>\n",
       "      <td>0.168378</td>\n",
       "      <td>0.064722</td>\n",
       "      <td>0.031923</td>\n",
       "      <td>0.013270</td>\n",
       "      <td>0.0</td>\n",
       "      <td>1.0</td>\n",
       "      <td>17.908738</td>\n",
       "      <td>1.768027</td>\n",
       "    </tr>\n",
       "    <tr>\n",
       "      <th>std</th>\n",
       "      <td>22.448033</td>\n",
       "      <td>0.315747</td>\n",
       "      <td>0.374225</td>\n",
       "      <td>0.246050</td>\n",
       "      <td>0.175806</td>\n",
       "      <td>0.114435</td>\n",
       "      <td>0.0</td>\n",
       "      <td>0.0</td>\n",
       "      <td>15.337473</td>\n",
       "      <td>1.538421</td>\n",
       "    </tr>\n",
       "    <tr>\n",
       "      <th>min</th>\n",
       "      <td>0.000000</td>\n",
       "      <td>0.000000</td>\n",
       "      <td>0.000000</td>\n",
       "      <td>0.000000</td>\n",
       "      <td>0.000000</td>\n",
       "      <td>0.000000</td>\n",
       "      <td>0.0</td>\n",
       "      <td>1.0</td>\n",
       "      <td>2.000000</td>\n",
       "      <td>0.000000</td>\n",
       "    </tr>\n",
       "    <tr>\n",
       "      <th>25%</th>\n",
       "      <td>16.000000</td>\n",
       "      <td>0.000000</td>\n",
       "      <td>0.000000</td>\n",
       "      <td>0.000000</td>\n",
       "      <td>0.000000</td>\n",
       "      <td>0.000000</td>\n",
       "      <td>0.0</td>\n",
       "      <td>1.0</td>\n",
       "      <td>6.000000</td>\n",
       "      <td>0.000000</td>\n",
       "    </tr>\n",
       "    <tr>\n",
       "      <th>50%</th>\n",
       "      <td>33.000000</td>\n",
       "      <td>0.000000</td>\n",
       "      <td>0.000000</td>\n",
       "      <td>0.000000</td>\n",
       "      <td>0.000000</td>\n",
       "      <td>0.000000</td>\n",
       "      <td>0.0</td>\n",
       "      <td>1.0</td>\n",
       "      <td>13.000000</td>\n",
       "      <td>2.000000</td>\n",
       "    </tr>\n",
       "    <tr>\n",
       "      <th>75%</th>\n",
       "      <td>51.000000</td>\n",
       "      <td>0.000000</td>\n",
       "      <td>0.000000</td>\n",
       "      <td>0.000000</td>\n",
       "      <td>0.000000</td>\n",
       "      <td>0.000000</td>\n",
       "      <td>0.0</td>\n",
       "      <td>1.0</td>\n",
       "      <td>26.000000</td>\n",
       "      <td>3.000000</td>\n",
       "    </tr>\n",
       "    <tr>\n",
       "      <th>max</th>\n",
       "      <td>98.000000</td>\n",
       "      <td>1.000000</td>\n",
       "      <td>1.000000</td>\n",
       "      <td>1.000000</td>\n",
       "      <td>1.000000</td>\n",
       "      <td>1.000000</td>\n",
       "      <td>0.0</td>\n",
       "      <td>1.0</td>\n",
       "      <td>90.000000</td>\n",
       "      <td>5.000000</td>\n",
       "    </tr>\n",
       "  </tbody>\n",
       "</table>\n",
       "</div>"
      ],
      "text/plain": [
       "               Age  Scholarship  Hipertension     Diabetes   Alcoholism  \\\n",
       "count  7988.000000  7988.000000   7988.000000  7988.000000  7988.000000   \n",
       "mean     34.159114     0.112293      0.168378     0.064722     0.031923   \n",
       "std      22.448033     0.315747      0.374225     0.246050     0.175806   \n",
       "min       0.000000     0.000000      0.000000     0.000000     0.000000   \n",
       "25%      16.000000     0.000000      0.000000     0.000000     0.000000   \n",
       "50%      33.000000     0.000000      0.000000     0.000000     0.000000   \n",
       "75%      51.000000     0.000000      0.000000     0.000000     0.000000   \n",
       "max      98.000000     1.000000      1.000000     1.000000     1.000000   \n",
       "\n",
       "          Handicap  SMS_received  No-show  Days_Between      Day_Num  \n",
       "count  7988.000000        7988.0   7988.0   7988.000000  7988.000000  \n",
       "mean      0.013270           0.0      1.0     17.908738     1.768027  \n",
       "std       0.114435           0.0      0.0     15.337473     1.538421  \n",
       "min       0.000000           0.0      1.0      2.000000     0.000000  \n",
       "25%       0.000000           0.0      1.0      6.000000     0.000000  \n",
       "50%       0.000000           0.0      1.0     13.000000     2.000000  \n",
       "75%       0.000000           0.0      1.0     26.000000     3.000000  \n",
       "max       1.000000           0.0      1.0     90.000000     5.000000  "
      ]
     },
     "execution_count": 5,
     "metadata": {},
     "output_type": "execute_result"
    }
   ],
   "source": [
    "sms_not_received_appointment_no_show_df.describe()"
   ]
  },
  {
   "cell_type": "code",
   "execution_count": 6,
   "id": "a7cb81a1",
   "metadata": {},
   "outputs": [
    {
     "name": "stdout",
     "output_type": "stream",
     "text": [
      "<class 'pandas.core.frame.DataFrame'>\n",
      "RangeIndex: 7988 entries, 0 to 7987\n",
      "Data columns (total 13 columns):\n",
      " #   Column          Non-Null Count  Dtype \n",
      "---  ------          --------------  ----- \n",
      " 0   Gender          7988 non-null   object\n",
      " 1   Age             7988 non-null   int64 \n",
      " 2   Scholarship     7988 non-null   int64 \n",
      " 3   Hipertension    7988 non-null   int64 \n",
      " 4   Diabetes        7988 non-null   int64 \n",
      " 5   Alcoholism      7988 non-null   int64 \n",
      " 6   Handicap        7988 non-null   int64 \n",
      " 7   SMS_received    7988 non-null   int64 \n",
      " 8   No-show         7988 non-null   int64 \n",
      " 9   Days_Between    7988 non-null   int64 \n",
      " 10  Day_Num         7988 non-null   int64 \n",
      " 11  Age Group       7988 non-null   object\n",
      " 12  Interval Group  7988 non-null   object\n",
      "dtypes: int64(10), object(3)\n",
      "memory usage: 811.4+ KB\n"
     ]
    }
   ],
   "source": [
    "# examine df structure\n",
    "sms_not_received_appointment_no_show_df.info()"
   ]
  },
  {
   "cell_type": "markdown",
   "id": "c5c8b504",
   "metadata": {},
   "source": [
    "# AGE"
   ]
  },
  {
   "cell_type": "code",
   "execution_count": 7,
   "id": "376566b3",
   "metadata": {},
   "outputs": [
    {
     "data": {
      "text/plain": [
       "<AxesSubplot:ylabel='Frequency'>"
      ]
     },
     "execution_count": 7,
     "metadata": {},
     "output_type": "execute_result"
    },
    {
     "data": {
      "image/png": "[encoded data removed]",
      "text/plain": [
       "<Figure size 500x500 with 1 Axes>"
      ]
     },
     "metadata": {},
     "output_type": "display_data"
    }
   ],
   "source": [
    "sms_not_received_appointment_no_show_df.Age.plot(kind='hist', figsize=(5,5), color='red')"
   ]
  },
  {
   "cell_type": "code",
   "execution_count": 8,
   "id": "f98cdff6",
   "metadata": {},
   "outputs": [
    {
     "name": "stdout",
     "output_type": "stream",
     "text": [
      "33.0 is the median age.\n"
     ]
    }
   ],
   "source": [
    "# calculate the median age for appointments that DID RECEIVE SMS REMINDER BUT NO SHOW\n",
    "age_median = sms_not_received_appointment_no_show_df.Age.median()\n",
    "print('{} is the median age.'.format(age_median))"
   ]
  },
  {
   "cell_type": "markdown",
   "id": "ef0e91ef",
   "metadata": {},
   "source": [
    "# DAYS_BETWEEN"
   ]
  },
  {
   "cell_type": "code",
   "execution_count": 9,
   "id": "cb50e7d8",
   "metadata": {},
   "outputs": [
    {
     "data": {
      "text/plain": [
       "<AxesSubplot:ylabel='Frequency'>"
      ]
     },
     "execution_count": 9,
     "metadata": {},
     "output_type": "execute_result"
    },
    {
     "data": {
      "image/png": "[encoded data removed]",
      "text/plain": [
       "<Figure size 500x300 with 1 Axes>"
      ]
     },
     "metadata": {},
     "output_type": "display_data"
    }
   ],
   "source": [
    "# visualize 'Days_Between' column distribution\n",
    "sms_not_received_appointment_no_show_df.Days_Between.plot(kind='hist', figsize=(5,3), color='blue')"
   ]
  },
  {
   "cell_type": "markdown",
   "id": "e5baa039",
   "metadata": {},
   "source": [
    "# GENDER"
   ]
  },
  {
   "cell_type": "code",
   "execution_count": 10,
   "id": "a74f1913",
   "metadata": {},
   "outputs": [
    {
     "name": "stdout",
     "output_type": "stream",
     "text": [
      "36.03% of SMS-eligible appointments that DID NOT RECEIVE SMS REMINDER AND NO SHOW were for male patients.\n",
      "63.97% of SMS-eligible appointments that DID NOT RECEIVE SMS REMINDER AND NO SHOW were for female patients.\n"
     ]
    }
   ],
   "source": [
    "# calculate percent each gender that DID RECEIVE SMS REMINDER BUT NO SHOW' rows with column_percentage_calculator already defined\n",
    "did_receive_SMS_no_show_male_percent = column_percentage_calculator(sms_not_received_appointment_no_show_df, 'Gender', 'M')\n",
    "did_receive_SMS_no_show_female_percent = column_percentage_calculator(sms_not_received_appointment_no_show_df, 'Gender', 'F')\n",
    "print('{}% of SMS-eligible appointments that DID NOT RECEIVE SMS REMINDER AND NO SHOW were for male patients.'.format(round(did_receive_SMS_no_show_male_percent, 2)))\n",
    "print('{}% of SMS-eligible appointments that DID NOT RECEIVE SMS REMINDER AND NO SHOW were for female patients.'.format(round(did_receive_SMS_no_show_female_percent, 2)))"
   ]
  },
  {
   "cell_type": "code",
   "execution_count": 11,
   "id": "756a54f5",
   "metadata": {},
   "outputs": [
    {
     "data": {
      "text/plain": [
       "Text(0.5, 1.0, 'No-Show Gender Percentage')"
      ]
     },
     "execution_count": 11,
     "metadata": {},
     "output_type": "execute_result"
    },
    {
     "data": {
      "image/png": "[encoded data removed]",
      "text/plain": [
       "<Figure size 640x480 with 1 Axes>"
      ]
     },
     "metadata": {},
     "output_type": "display_data"
    }
   ],
   "source": [
    "# visualize gender binary distribution\n",
    "gender_percents = [did_receive_SMS_no_show_male_percent, did_receive_SMS_no_show_female_percent ]\n",
    "labels = ['Male', 'Female']\n",
    "\n",
    "fig, ax = plt.subplots()\n",
    "ax.pie(gender_percents, labels = labels)\n",
    "ax.set_title('No-Show Gender Percentage')"
   ]
  },
  {
   "cell_type": "markdown",
   "id": "b70528b3",
   "metadata": {},
   "source": [
    "# INTERVAL GROUP"
   ]
  },
  {
   "cell_type": "code",
   "execution_count": 12,
   "id": "4d6409f5",
   "metadata": {},
   "outputs": [
    {
     "name": "stdout",
     "output_type": "stream",
     "text": [
      "Percentage of SMS-Eligible appointments that DID NOT RECEIVE SMS REMINDER AND NO SHOW scheduled between 2 and 30 days out ---> 83.14%\n",
      "Percentage of SMS-Eligible appointments that DID NOT RECEIVE SMS REMINDER AND NO SHOW scheduled between 31 and 60 days out ---> 14.11%\n",
      "Percentage of SMS-Eligible appointments that DID NOT RECEIVE SMS REMINDER AND NO SHOW scheduled between 61 and 90 days out ---> 2.75%\n"
     ]
    }
   ],
   "source": [
    "# obtain percentages of Interval Groups using the column_percentage_calculator function defined earlier \n",
    "two_to_thirty_percentage = column_percentage_calculator(sms_not_received_appointment_no_show_df, 'Interval Group', '2 - 30')\n",
    "num_thirtyone_to_sixty_percentage = column_percentage_calculator(sms_not_received_appointment_no_show_df, 'Interval Group', '31 - 60')\n",
    "num_sixtyone_to_ninety_percentage = column_percentage_calculator(sms_not_received_appointment_no_show_df, 'Interval Group', '61 - 90')\n",
    "\n",
    "print('Percentage of SMS-Eligible appointments that DID NOT RECEIVE SMS REMINDER AND NO SHOW scheduled between 2 and 30 days out ---> {}%'.format(round(two_to_thirty_percentage,2)))\n",
    "print('Percentage of SMS-Eligible appointments that DID NOT RECEIVE SMS REMINDER AND NO SHOW scheduled between 31 and 60 days out ---> {}%'.format(round(num_thirtyone_to_sixty_percentage, 2)))\n",
    "print('Percentage of SMS-Eligible appointments that DID NOT RECEIVE SMS REMINDER AND NO SHOW scheduled between 61 and 90 days out ---> {}%'.format(round(num_sixtyone_to_ninety_percentage, 2)))"
   ]
  },
  {
   "cell_type": "code",
   "execution_count": 13,
   "id": "1474fba1",
   "metadata": {},
   "outputs": [
    {
     "data": {
      "text/plain": [
       "<AxesSubplot:>"
      ]
     },
     "execution_count": 13,
     "metadata": {},
     "output_type": "execute_result"
    },
    {
     "data": {
      "image/png": "[encoded data removed]",
      "text/plain": [
       "<Figure size 500x300 with 1 Axes>"
      ]
     },
     "metadata": {},
     "output_type": "display_data"
    }
   ],
   "source": [
    "# visualize Interval Group categorical distribution in a bar plot\n",
    "sms_not_received_appointment_no_show_df['Interval Group'].value_counts().plot(kind='bar', figsize =(5,3), color='green')"
   ]
  },
  {
   "cell_type": "markdown",
   "id": "a10ab2d5",
   "metadata": {},
   "source": [
    "# AGE BRACKETS"
   ]
  },
  {
   "cell_type": "code",
   "execution_count": 14,
   "id": "5a2b1ddf",
   "metadata": {},
   "outputs": [
    {
     "name": "stdout",
     "output_type": "stream",
     "text": [
      "Percentage of SMS-Eligible appointments that DID NOT RECEIVE SMS REMINDER AND NO SHOW for Youths 29.42%\n",
      "Percentage of SMS-Eligible appointments that DID NOT RECEIVE SMS REMINDER AND NO SHOW for Young Adults 26.41%\n",
      "Percentage of SMS-Eligible appointments that DID NOT RECEIVE SMS REMINDER AND NO SHOW for Adults 24.61%\n",
      "Percentage of SMS-Eligible appointments that DID NOT RECEIVE SMS REMINDER AND NO SHOW for Older Adults and Seniors 19.55%\n"
     ]
    }
   ],
   "source": [
    "# calculate percentage for age group categorical column values\n",
    "sms_eligible_youth_percentage = column_percentage_calculator(sms_not_received_appointment_no_show_df, 'Age Group', 'Youth')\n",
    "sms_eligible_young_adult_percentage = column_percentage_calculator(sms_not_received_appointment_no_show_df, 'Age Group', 'Young Adult')\n",
    "sms_eligible_adult_percentage = column_percentage_calculator(sms_not_received_appointment_no_show_df, 'Age Group', 'Adult')\n",
    "sms_eligible_older_adult_percentage = column_percentage_calculator(sms_not_received_appointment_no_show_df, 'Age Group', 'Older Adult and Seniors')\n",
    "\n",
    "print('Percentage of SMS-Eligible appointments that DID NOT RECEIVE SMS REMINDER AND NO SHOW for Youths {}%'.format(round(sms_eligible_youth_percentage, 2)))\n",
    "print('Percentage of SMS-Eligible appointments that DID NOT RECEIVE SMS REMINDER AND NO SHOW for Young Adults {}%'.format(round(sms_eligible_young_adult_percentage, 2)))\n",
    "print('Percentage of SMS-Eligible appointments that DID NOT RECEIVE SMS REMINDER AND NO SHOW for Adults {}%'.format(round(sms_eligible_adult_percentage, 2)))\n",
    "print('Percentage of SMS-Eligible appointments that DID NOT RECEIVE SMS REMINDER AND NO SHOW for Older Adults and Seniors {}%'.format(round(sms_eligible_older_adult_percentage, 2)))"
   ]
  },
  {
   "cell_type": "code",
   "execution_count": 15,
   "id": "e3c9f6e7",
   "metadata": {},
   "outputs": [
    {
     "data": {
      "text/plain": [
       "<AxesSubplot:>"
      ]
     },
     "execution_count": 15,
     "metadata": {},
     "output_type": "execute_result"
    },
    {
     "data": {
      "image/png": "[encoded data removed]",
      "text/plain": [
       "<Figure size 700x500 with 1 Axes>"
      ]
     },
     "metadata": {},
     "output_type": "display_data"
    }
   ],
   "source": [
    "# create basic viz for age brackets/buckets\n",
    "sms_not_received_appointment_no_show_df['Age Group'].value_counts().plot(kind='bar', figsize=(7,5), color='red')"
   ]
  },
  {
   "cell_type": "markdown",
   "id": "3101717e",
   "metadata": {},
   "source": [
    "# CONDITIONS"
   ]
  },
  {
   "cell_type": "markdown",
   "id": "ef0afc65",
   "metadata": {},
   "source": [
    "__As each 'condition' is it's own column and the values are only binary (0 for no, 1 for yes), the percentages for these variables WRT to all ROWS THAT DID NOT RECEIVE SMS REMINDER AND NO SHOW AT THE APPOINTMENT was obtained from the .describe() command and its output above. These values and respective labels will be used to visualize these variables on a bar graph.__"
   ]
  },
  {
   "cell_type": "code",
   "execution_count": 18,
   "id": "e86730ad",
   "metadata": {},
   "outputs": [
    {
     "data": {
      "text/plain": [
       "[Text(0, 0, 'Handicap'),\n",
       " Text(1, 0, 'Alcoholism'),\n",
       " Text(2, 0, 'Diabetes'),\n",
       " Text(3, 0, 'Scholarship Program'),\n",
       " Text(4, 0, 'Hypertension')]"
      ]
     },
     "execution_count": 18,
     "metadata": {},
     "output_type": "execute_result"
    },
    {
     "data": {
      "image/png": "[encoded data removed]",
      "text/plain": [
       "<Figure size 500x500 with 1 Axes>"
      ]
     },
     "metadata": {},
     "output_type": "display_data"
    }
   ],
   "source": [
    "# create pandas series to graph and list of respective labels\n",
    "condition_percents = pd.Series([1.33,  3.2, 6.40, 11.22, 16.84])\n",
    "labels = ['Handicap', 'Alcoholism', 'Diabetes', 'Scholarship Program', 'Hypertension']\n",
    "\n",
    "\n",
    "# plot graph of variable condition percentages\n",
    "plt.figure(figsize=(5,5))\n",
    "ax = condition_percents.plot(kind='bar')\n",
    "ax.set_title('Variable Condition Percents of NO SMS AND NO SHOW Appointments')\n",
    "ax.set_xlabel('Variable Conditions in NO SMS AND NO-SHOW Appointments Data Set')\n",
    "ax.set_ylabel('Percent of Total Data Set')\n",
    "ax.set_xticklabels(labels, rotation=45, ha='right')"
   ]
  },
  {
   "cell_type": "markdown",
   "id": "dd686879",
   "metadata": {},
   "source": [
    "# These are descriptive statistics of ROWS THAT DID NOT RECEIVE SMS REMINDER AND WERE NO-SHOW AT THE APPOINTMENT\n",
    "\n",
    "- __The average age for NO SMS-RECEIVED and NO-SHOW appointments is 34 (34.15 rounded).__\n",
    "- __The median age for NO SMS-RECEIVED and NO-SHOW appointments is 33.__\n",
    "- __The average time between the ScheduledDay and AppointmentDay for NO SMS-RECEIVED and NO-SHOW appointments is 18 (17.9 rounded) days.__\n",
    "- __Approximately 11.22% of NO SMS-RECEIVED and NO-SHOW appointments are for patients enrolled in the 'scholarship' program (explained earlier in analysis).__\n",
    "- __Approximately 16.84% of NO SMS-RECEIVED and NO-SHOW are for patients suffering from hipertension (hypertension).__\n",
    "- __Approximately 6.40% of NO SMS-RECEIVED and NO-SHOW are for patients suffering from diabetes.__\n",
    "- __Approximately 3.20% of NO SMS-RECEIVED and NO-SHOW are for patients suffering from alcoholism.__\n",
    "- __Approximately 1.33% of NO SMS-RECEIVED and NO-SHOW are for patients identifying as handicapped.__\n",
    "- __Approximately 36.03% of NO SMS-RECEIVED and NO-SHOW rows were for appointments for male patients.__\n",
    "- __Approximately 63.97% of NO SMS-RECEIVED and NO-SHOW elibible rows were for appointments for female patients.__\n",
    "- __Approximately 29.42% of NO SMS-RECEIVED and NO-SHOW for Youths.__\n",
    "- __Approximately 26.41% of NO SMS-RECEIVED and NO-SHOW for Young Adults.__ \n",
    "- __Approximately 24.61% of NO SMS-RECEIVED and NO-SHOW for Adults.__\n",
    "- __Approximately 19.55% of NO SMS-RECEIVED and NO-SHOW for Older Adults and Seniors.__ \n",
    "- __Approximately 83.14%% of NO SMS-RECEIVED and NO-SHOW were scheduled between 2 and 30 days out.__\n",
    "- __Approximately 14.11% of NO SMS-RECEIVED and NO-SHOW scheduled between 31 and 60 days out.__\n",
    "- __Approximately 2.75% of NO SMS-RECEIVED and NO-SHOW scheduled between 61 and 90 days out.__"
   ]
  },
  {
   "cell_type": "code",
   "execution_count": 17,
   "id": "167d8760",
   "metadata": {},
   "outputs": [
    {
     "data": {
      "text/plain": [
       "True"
      ]
     },
     "execution_count": 17,
     "metadata": {},
     "output_type": "execute_result"
    }
   ],
   "source": [
    "1==1"
   ]
  },
  {
   "cell_type": "markdown",
   "id": "2092e85a",
   "metadata": {},
   "source": [
    "# This is the end of this section of EDA for ROWS THAT DID NOT RECEIVE SMS REMINDER AND WERE NO-SHOW AT THE APPOINTMENT"
   ]
  }
 ],
 "metadata": {
  "kernelspec": {
   "display_name": "Python 3 (ipykernel)",
   "language": "python",
   "name": "python3"
  },
  "language_info": {
   "codemirror_mode": {
    "name": "ipython",
    "version": 3
   },
   "file_extension": ".py",
   "mimetype": "text/x-python",
   "name": "python",
   "nbconvert_exporter": "python",
   "pygments_lexer": "ipython3",
   "version": "3.9.13"
  }
 },
 "nbformat": 4,
 "nbformat_minor": 5
}
