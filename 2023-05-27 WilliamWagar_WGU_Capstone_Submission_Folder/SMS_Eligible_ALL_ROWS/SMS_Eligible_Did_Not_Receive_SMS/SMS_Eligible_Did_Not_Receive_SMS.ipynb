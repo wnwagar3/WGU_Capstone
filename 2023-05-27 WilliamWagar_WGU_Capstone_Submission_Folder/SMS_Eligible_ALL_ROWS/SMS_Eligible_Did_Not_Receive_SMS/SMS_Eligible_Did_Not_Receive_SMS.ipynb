{
 "cells": [
  {
   "cell_type": "code",
   "execution_count": 1,
   "id": "d2a69445",
   "metadata": {},
   "outputs": [],
   "source": [
    "# import basic libraries for dataframe usage and viz\n",
    "import numpy as np\n",
    "import pandas as pd\n",
    "import matplotlib.pyplot as plt\n",
    "import seaborn as sns\n",
    "import os"
   ]
  },
  {
   "cell_type": "code",
   "execution_count": 2,
   "id": "4ad15994",
   "metadata": {},
   "outputs": [
    {
     "data": {
      "text/plain": [
       "['.ipynb_checkpoints',\n",
       " 'SMS_Eligible_Did_Not_Receive_SMS.ipynb',\n",
       " 'sms_eligible_not_receive.csv',\n",
       " 'SMS_Eligible_No_SMS_Reminder_No_Show',\n",
       " 'SMS_Eligible_No_SMS_Reminder_Presented']"
      ]
     },
     "execution_count": 2,
     "metadata": {},
     "output_type": "execute_result"
    }
   ],
   "source": [
    "## remove this cell before submitting\n",
    "\n",
    "os.listdir()"
   ]
  },
  {
   "cell_type": "code",
   "execution_count": 3,
   "id": "a02e92f1",
   "metadata": {},
   "outputs": [],
   "source": [
    "# this function will greatly simplify getting percentages based on condition\n",
    "# this can be used as a template if you want to change the equality operator to inequality (>,<, etc..)\n",
    "def column_percentage_calculator(df, column_name, condition):\n",
    "    total_rows = df.shape[0]\n",
    "    num_matched_rows = len(df.loc[(df[column_name] == condition)])\n",
    "    percentage_matches_condition = (num_matched_rows / total_rows) * 100\n",
    "    return percentage_matches_condition"
   ]
  },
  {
   "cell_type": "markdown",
   "id": "01bd308b",
   "metadata": {},
   "source": [
    "# It can be assumed that each row that is in data frame was eligible to receive a SMS reminder as the csv it is based on contains only rows from the original dataset that were eligible to recieve SMS reminders."
   ]
  },
  {
   "cell_type": "code",
   "execution_count": 4,
   "id": "54623654",
   "metadata": {},
   "outputs": [
    {
     "data": {
      "text/html": [
       "<div>\n",
       "<style scoped>\n",
       "    .dataframe tbody tr th:only-of-type {\n",
       "        vertical-align: middle;\n",
       "    }\n",
       "\n",
       "    .dataframe tbody tr th {\n",
       "        vertical-align: top;\n",
       "    }\n",
       "\n",
       "    .dataframe thead th {\n",
       "        text-align: right;\n",
       "    }\n",
       "</style>\n",
       "<table border=\"1\" class=\"dataframe\">\n",
       "  <thead>\n",
       "    <tr style=\"text-align: right;\">\n",
       "      <th></th>\n",
       "      <th>Gender</th>\n",
       "      <th>Age</th>\n",
       "      <th>Scholarship</th>\n",
       "      <th>Hipertension</th>\n",
       "      <th>Diabetes</th>\n",
       "      <th>Alcoholism</th>\n",
       "      <th>Handicap</th>\n",
       "      <th>SMS_received</th>\n",
       "      <th>No-show</th>\n",
       "      <th>Days_Between</th>\n",
       "      <th>Day_Num</th>\n",
       "      <th>Age Group</th>\n",
       "      <th>Interval Group</th>\n",
       "    </tr>\n",
       "  </thead>\n",
       "  <tbody>\n",
       "    <tr>\n",
       "      <th>0</th>\n",
       "      <td>M</td>\n",
       "      <td>62</td>\n",
       "      <td>0</td>\n",
       "      <td>0</td>\n",
       "      <td>0</td>\n",
       "      <td>0</td>\n",
       "      <td>0</td>\n",
       "      <td>0</td>\n",
       "      <td>0</td>\n",
       "      <td>22</td>\n",
       "      <td>4</td>\n",
       "      <td>Older Adult and Seniors</td>\n",
       "      <td>2 - 30</td>\n",
       "    </tr>\n",
       "    <tr>\n",
       "      <th>1</th>\n",
       "      <td>F</td>\n",
       "      <td>60</td>\n",
       "      <td>0</td>\n",
       "      <td>0</td>\n",
       "      <td>0</td>\n",
       "      <td>0</td>\n",
       "      <td>0</td>\n",
       "      <td>0</td>\n",
       "      <td>0</td>\n",
       "      <td>10</td>\n",
       "      <td>4</td>\n",
       "      <td>Older Adult and Seniors</td>\n",
       "      <td>2 - 30</td>\n",
       "    </tr>\n",
       "    <tr>\n",
       "      <th>2</th>\n",
       "      <td>M</td>\n",
       "      <td>28</td>\n",
       "      <td>0</td>\n",
       "      <td>0</td>\n",
       "      <td>0</td>\n",
       "      <td>0</td>\n",
       "      <td>0</td>\n",
       "      <td>0</td>\n",
       "      <td>1</td>\n",
       "      <td>10</td>\n",
       "      <td>4</td>\n",
       "      <td>Young Adult</td>\n",
       "      <td>2 - 30</td>\n",
       "    </tr>\n",
       "    <tr>\n",
       "      <th>3</th>\n",
       "      <td>F</td>\n",
       "      <td>69</td>\n",
       "      <td>0</td>\n",
       "      <td>1</td>\n",
       "      <td>0</td>\n",
       "      <td>0</td>\n",
       "      <td>0</td>\n",
       "      <td>0</td>\n",
       "      <td>0</td>\n",
       "      <td>2</td>\n",
       "      <td>4</td>\n",
       "      <td>Older Adult and Seniors</td>\n",
       "      <td>2 - 30</td>\n",
       "    </tr>\n",
       "    <tr>\n",
       "      <th>4</th>\n",
       "      <td>M</td>\n",
       "      <td>2</td>\n",
       "      <td>0</td>\n",
       "      <td>0</td>\n",
       "      <td>0</td>\n",
       "      <td>0</td>\n",
       "      <td>0</td>\n",
       "      <td>0</td>\n",
       "      <td>0</td>\n",
       "      <td>10</td>\n",
       "      <td>4</td>\n",
       "      <td>Youth</td>\n",
       "      <td>2 - 30</td>\n",
       "    </tr>\n",
       "  </tbody>\n",
       "</table>\n",
       "</div>"
      ],
      "text/plain": [
       "  Gender  Age  Scholarship  Hipertension  Diabetes  Alcoholism  Handicap  \\\n",
       "0      M   62            0             0         0           0         0   \n",
       "1      F   60            0             0         0           0         0   \n",
       "2      M   28            0             0         0           0         0   \n",
       "3      F   69            0             1         0           0         0   \n",
       "4      M    2            0             0         0           0         0   \n",
       "\n",
       "   SMS_received  No-show  Days_Between  Day_Num                Age Group  \\\n",
       "0             0        0            22        4  Older Adult and Seniors   \n",
       "1             0        0            10        4  Older Adult and Seniors   \n",
       "2             0        1            10        4              Young Adult   \n",
       "3             0        0             2        4  Older Adult and Seniors   \n",
       "4             0        0            10        4                    Youth   \n",
       "\n",
       "  Interval Group  \n",
       "0         2 - 30  \n",
       "1         2 - 30  \n",
       "2         2 - 30  \n",
       "3         2 - 30  \n",
       "4         2 - 30  "
      ]
     },
     "execution_count": 4,
     "metadata": {},
     "output_type": "execute_result"
    }
   ],
   "source": [
    "sms_eligible_not_receive_df = pd.read_csv('sms_eligible_not_receive.csv')\n",
    "sms_eligible_not_receive_df.head()"
   ]
  },
  {
   "cell_type": "code",
   "execution_count": 5,
   "id": "507da726",
   "metadata": {},
   "outputs": [
    {
     "data": {
      "text/html": [
       "<div>\n",
       "<style scoped>\n",
       "    .dataframe tbody tr th:only-of-type {\n",
       "        vertical-align: middle;\n",
       "    }\n",
       "\n",
       "    .dataframe tbody tr th {\n",
       "        vertical-align: top;\n",
       "    }\n",
       "\n",
       "    .dataframe thead th {\n",
       "        text-align: right;\n",
       "    }\n",
       "</style>\n",
       "<table border=\"1\" class=\"dataframe\">\n",
       "  <thead>\n",
       "    <tr style=\"text-align: right;\">\n",
       "      <th></th>\n",
       "      <th>Age</th>\n",
       "      <th>Scholarship</th>\n",
       "      <th>Hipertension</th>\n",
       "      <th>Diabetes</th>\n",
       "      <th>Alcoholism</th>\n",
       "      <th>Handicap</th>\n",
       "      <th>SMS_received</th>\n",
       "      <th>No-show</th>\n",
       "      <th>Days_Between</th>\n",
       "      <th>Day_Num</th>\n",
       "    </tr>\n",
       "  </thead>\n",
       "  <tbody>\n",
       "    <tr>\n",
       "      <th>count</th>\n",
       "      <td>24427.000000</td>\n",
       "      <td>24427.000000</td>\n",
       "      <td>24427.000000</td>\n",
       "      <td>24427.000000</td>\n",
       "      <td>24427.000000</td>\n",
       "      <td>24427.000000</td>\n",
       "      <td>24427.0</td>\n",
       "      <td>24427.000000</td>\n",
       "      <td>24427.000000</td>\n",
       "      <td>24427.000000</td>\n",
       "    </tr>\n",
       "    <tr>\n",
       "      <th>mean</th>\n",
       "      <td>37.583862</td>\n",
       "      <td>0.092070</td>\n",
       "      <td>0.200270</td>\n",
       "      <td>0.070086</td>\n",
       "      <td>0.026323</td>\n",
       "      <td>0.016498</td>\n",
       "      <td>0.0</td>\n",
       "      <td>0.327015</td>\n",
       "      <td>16.346952</td>\n",
       "      <td>1.756581</td>\n",
       "    </tr>\n",
       "    <tr>\n",
       "      <th>std</th>\n",
       "      <td>23.487795</td>\n",
       "      <td>0.289131</td>\n",
       "      <td>0.400211</td>\n",
       "      <td>0.255298</td>\n",
       "      <td>0.160098</td>\n",
       "      <td>0.127384</td>\n",
       "      <td>0.0</td>\n",
       "      <td>0.469132</td>\n",
       "      <td>15.263206</td>\n",
       "      <td>1.521760</td>\n",
       "    </tr>\n",
       "    <tr>\n",
       "      <th>min</th>\n",
       "      <td>0.000000</td>\n",
       "      <td>0.000000</td>\n",
       "      <td>0.000000</td>\n",
       "      <td>0.000000</td>\n",
       "      <td>0.000000</td>\n",
       "      <td>0.000000</td>\n",
       "      <td>0.0</td>\n",
       "      <td>0.000000</td>\n",
       "      <td>2.000000</td>\n",
       "      <td>0.000000</td>\n",
       "    </tr>\n",
       "    <tr>\n",
       "      <th>25%</th>\n",
       "      <td>18.000000</td>\n",
       "      <td>0.000000</td>\n",
       "      <td>0.000000</td>\n",
       "      <td>0.000000</td>\n",
       "      <td>0.000000</td>\n",
       "      <td>0.000000</td>\n",
       "      <td>0.0</td>\n",
       "      <td>0.000000</td>\n",
       "      <td>5.000000</td>\n",
       "      <td>0.000000</td>\n",
       "    </tr>\n",
       "    <tr>\n",
       "      <th>50%</th>\n",
       "      <td>37.000000</td>\n",
       "      <td>0.000000</td>\n",
       "      <td>0.000000</td>\n",
       "      <td>0.000000</td>\n",
       "      <td>0.000000</td>\n",
       "      <td>0.000000</td>\n",
       "      <td>0.0</td>\n",
       "      <td>0.000000</td>\n",
       "      <td>12.000000</td>\n",
       "      <td>2.000000</td>\n",
       "    </tr>\n",
       "    <tr>\n",
       "      <th>75%</th>\n",
       "      <td>56.000000</td>\n",
       "      <td>0.000000</td>\n",
       "      <td>0.000000</td>\n",
       "      <td>0.000000</td>\n",
       "      <td>0.000000</td>\n",
       "      <td>0.000000</td>\n",
       "      <td>0.0</td>\n",
       "      <td>1.000000</td>\n",
       "      <td>23.000000</td>\n",
       "      <td>3.000000</td>\n",
       "    </tr>\n",
       "    <tr>\n",
       "      <th>max</th>\n",
       "      <td>98.000000</td>\n",
       "      <td>1.000000</td>\n",
       "      <td>1.000000</td>\n",
       "      <td>1.000000</td>\n",
       "      <td>1.000000</td>\n",
       "      <td>1.000000</td>\n",
       "      <td>0.0</td>\n",
       "      <td>1.000000</td>\n",
       "      <td>90.000000</td>\n",
       "      <td>5.000000</td>\n",
       "    </tr>\n",
       "  </tbody>\n",
       "</table>\n",
       "</div>"
      ],
      "text/plain": [
       "                Age   Scholarship  Hipertension      Diabetes    Alcoholism  \\\n",
       "count  24427.000000  24427.000000  24427.000000  24427.000000  24427.000000   \n",
       "mean      37.583862      0.092070      0.200270      0.070086      0.026323   \n",
       "std       23.487795      0.289131      0.400211      0.255298      0.160098   \n",
       "min        0.000000      0.000000      0.000000      0.000000      0.000000   \n",
       "25%       18.000000      0.000000      0.000000      0.000000      0.000000   \n",
       "50%       37.000000      0.000000      0.000000      0.000000      0.000000   \n",
       "75%       56.000000      0.000000      0.000000      0.000000      0.000000   \n",
       "max       98.000000      1.000000      1.000000      1.000000      1.000000   \n",
       "\n",
       "           Handicap  SMS_received       No-show  Days_Between       Day_Num  \n",
       "count  24427.000000       24427.0  24427.000000  24427.000000  24427.000000  \n",
       "mean       0.016498           0.0      0.327015     16.346952      1.756581  \n",
       "std        0.127384           0.0      0.469132     15.263206      1.521760  \n",
       "min        0.000000           0.0      0.000000      2.000000      0.000000  \n",
       "25%        0.000000           0.0      0.000000      5.000000      0.000000  \n",
       "50%        0.000000           0.0      0.000000     12.000000      2.000000  \n",
       "75%        0.000000           0.0      1.000000     23.000000      3.000000  \n",
       "max        1.000000           0.0      1.000000     90.000000      5.000000  "
      ]
     },
     "execution_count": 5,
     "metadata": {},
     "output_type": "execute_result"
    }
   ],
   "source": [
    "sms_eligible_not_receive_df.describe()"
   ]
  },
  {
   "cell_type": "code",
   "execution_count": 6,
   "id": "023a2ec9",
   "metadata": {},
   "outputs": [
    {
     "name": "stdout",
     "output_type": "stream",
     "text": [
      "<class 'pandas.core.frame.DataFrame'>\n",
      "RangeIndex: 24427 entries, 0 to 24426\n",
      "Data columns (total 13 columns):\n",
      " #   Column          Non-Null Count  Dtype \n",
      "---  ------          --------------  ----- \n",
      " 0   Gender          24427 non-null  object\n",
      " 1   Age             24427 non-null  int64 \n",
      " 2   Scholarship     24427 non-null  int64 \n",
      " 3   Hipertension    24427 non-null  int64 \n",
      " 4   Diabetes        24427 non-null  int64 \n",
      " 5   Alcoholism      24427 non-null  int64 \n",
      " 6   Handicap        24427 non-null  int64 \n",
      " 7   SMS_received    24427 non-null  int64 \n",
      " 8   No-show         24427 non-null  int64 \n",
      " 9   Days_Between    24427 non-null  int64 \n",
      " 10  Day_Num         24427 non-null  int64 \n",
      " 11  Age Group       24427 non-null  object\n",
      " 12  Interval Group  24427 non-null  object\n",
      "dtypes: int64(10), object(3)\n",
      "memory usage: 2.4+ MB\n"
     ]
    }
   ],
   "source": [
    "sms_eligible_not_receive_df.info()"
   ]
  },
  {
   "cell_type": "code",
   "execution_count": 7,
   "id": "eff22eef",
   "metadata": {},
   "outputs": [
    {
     "name": "stdout",
     "output_type": "stream",
     "text": [
      "32.7% OF APPOINTMENTS THAT DID NOT RECEIVE A REMINDER WERE NO-SHOW\n",
      "67.3% OF APPOINTMENTS THAT DID NOT RECEIVE A REMINER PRESENTED AT THEIR APPOINTMENT.\n"
     ]
    }
   ],
   "source": [
    "percent_noshow = column_percentage_calculator(sms_eligible_not_receive_df, 'No-show', 1)\n",
    "percent_presented = 100 - round(percent_noshow, 2)\n",
    "print('{}% OF APPOINTMENTS THAT DID NOT RECEIVE A REMINDER WERE NO-SHOW'.format(round(percent_noshow,2)))\n",
    "print('{}% OF APPOINTMENTS THAT DID NOT RECEIVE A REMINER PRESENTED AT THEIR APPOINTMENT.'.format(percent_presented))"
   ]
  },
  {
   "cell_type": "code",
   "execution_count": 8,
   "id": "5915ca40",
   "metadata": {},
   "outputs": [
    {
     "data": {
      "text/plain": [
       "Text(0.5, 1.0, 'No-Show/Presented Binary Distribution')"
      ]
     },
     "execution_count": 8,
     "metadata": {},
     "output_type": "execute_result"
    },
    {
     "data": {
      "image/png": "[encoded data removed]",
      "text/plain": [
       "<Figure size 640x480 with 1 Axes>"
      ]
     },
     "metadata": {},
     "output_type": "display_data"
    }
   ],
   "source": [
    "# visualize gender binary distribution\n",
    "no_show_and_present_percents = [percent_noshow, percent_presented ]\n",
    "labels = ['No-Show', 'Presented At Appointment']\n",
    "\n",
    "fig, ax = plt.subplots()\n",
    "ax.pie(no_show_and_present_percents, labels = labels)\n",
    "ax.set_title('No-Show/Presented Binary Distribution')"
   ]
  },
  {
   "cell_type": "markdown",
   "id": "6e6e8cf3",
   "metadata": {},
   "source": [
    "# AGE"
   ]
  },
  {
   "cell_type": "code",
   "execution_count": 9,
   "id": "86dd515c",
   "metadata": {},
   "outputs": [
    {
     "data": {
      "text/plain": [
       "<AxesSubplot:ylabel='Frequency'>"
      ]
     },
     "execution_count": 9,
     "metadata": {},
     "output_type": "execute_result"
    },
    {
     "data": {
      "image/png": "[encoded data removed]",
      "text/plain": [
       "<Figure size 500x500 with 1 Axes>"
      ]
     },
     "metadata": {},
     "output_type": "display_data"
    }
   ],
   "source": [
    "sms_eligible_not_receive_df.Age.plot(kind='hist', figsize=(5,5), color='red')"
   ]
  },
  {
   "cell_type": "code",
   "execution_count": 10,
   "id": "bd78d6d1",
   "metadata": {},
   "outputs": [
    {
     "name": "stdout",
     "output_type": "stream",
     "text": [
      "37.0 is the median age.\n"
     ]
    }
   ],
   "source": [
    "# calculate the median age for SMS-Eligible appointments that DID NOT RECEIVE SMS REMINDER\n",
    "age_median = sms_eligible_not_receive_df.Age.median()\n",
    "print('{} is the median age.'.format(age_median))"
   ]
  },
  {
   "cell_type": "markdown",
   "id": "ca349993",
   "metadata": {},
   "source": [
    "# DAYS_BETWEEN"
   ]
  },
  {
   "cell_type": "code",
   "execution_count": 11,
   "id": "1893c3cc",
   "metadata": {},
   "outputs": [
    {
     "data": {
      "text/plain": [
       "<AxesSubplot:ylabel='Frequency'>"
      ]
     },
     "execution_count": 11,
     "metadata": {},
     "output_type": "execute_result"
    },
    {
     "data": {
      "image/png": "[encoded data removed]",
      "text/plain": [
       "<Figure size 500x300 with 1 Axes>"
      ]
     },
     "metadata": {},
     "output_type": "display_data"
    }
   ],
   "source": [
    "# visualize 'Days_Between' column distribution\n",
    "sms_eligible_not_receive_df.Days_Between.plot(kind='hist', figsize=(5,3), color='blue')"
   ]
  },
  {
   "cell_type": "markdown",
   "id": "d1a0ea42",
   "metadata": {},
   "source": [
    "## GENDER %'s and Pie Graph"
   ]
  },
  {
   "cell_type": "code",
   "execution_count": 24,
   "id": "07ab0b7d",
   "metadata": {},
   "outputs": [
    {
     "name": "stdout",
     "output_type": "stream",
     "text": [
      "35.09% of SMS-eligible appointments THAT DID NOT RECEIVE SMS REMINDER were for male patients.\n",
      "64.91% of SMS-eligible appointments THAT DID NOT RECEIVE SMS REMINDER were for female patients.\n"
     ]
    }
   ],
   "source": [
    "# calculate percent each gender of 'SMS-Eligible Did-Receive SMS' rows with column_percentage_calculator already defined\n",
    "sms_eligible_not_receive_SMS_male_percent = column_percentage_calculator(sms_eligible_not_receive_df, 'Gender', 'M')\n",
    "sms_eligible_not_receive_SMS_female_percent = column_percentage_calculator(sms_eligible_not_receive_df, 'Gender', 'F')\n",
    "print('{}% of SMS-eligible appointments THAT DID NOT RECEIVE SMS REMINDER were for male patients.'.format(round(sms_eligible_not_receive_SMS_male_percent, 2)))\n",
    "print('{}% of SMS-eligible appointments THAT DID NOT RECEIVE SMS REMINDER were for female patients.'.format(round(sms_eligible_not_receive_SMS_female_percent, 2)))"
   ]
  },
  {
   "cell_type": "code",
   "execution_count": 25,
   "id": "0b5d062e",
   "metadata": {},
   "outputs": [
    {
     "data": {
      "text/plain": [
       "Text(0.5, 1.0, 'SMS Eligible No SMS Reminder Gender Percentage')"
      ]
     },
     "execution_count": 25,
     "metadata": {},
     "output_type": "execute_result"
    },
    {
     "data": {
      "image/png": "[encoded data removed]",
      "text/plain": [
       "<Figure size 640x480 with 1 Axes>"
      ]
     },
     "metadata": {},
     "output_type": "display_data"
    }
   ],
   "source": [
    "# visualize gender binary distribution\n",
    "gender_percents = [sms_eligible_not_receive_SMS_male_percent, sms_eligible_not_receive_SMS_female_percent ]\n",
    "labels = ['Male', 'Female']\n",
    "\n",
    "fig, ax = plt.subplots()\n",
    "ax.pie(gender_percents, labels = labels)\n",
    "ax.set_title('SMS Eligible No SMS Reminder Gender Percentage')"
   ]
  },
  {
   "cell_type": "markdown",
   "id": "130bc49d",
   "metadata": {},
   "source": [
    "# INTERVAL GROUP %'s and Bar Graph"
   ]
  },
  {
   "cell_type": "code",
   "execution_count": 14,
   "id": "72ea025b",
   "metadata": {},
   "outputs": [
    {
     "name": "stdout",
     "output_type": "stream",
     "text": [
      "Percentage of SMS-Eligible appointments THAT DID NOT RECEIVE SMS REMINDER scheduled between 2 and 30 days out ---> 85.35%\n",
      "Percentage of SMS-Eligible appointments THAT DID NOT RECEIVE SMS REMINDER scheduled between 31 and 60 days out ---> 11.99%\n",
      "Percentage of SMS-Eligible appointments THAT DID NOT RECEIVE SMS REMINDER scheduled between 61 and 90 days out ---> 2.66%\n"
     ]
    }
   ],
   "source": [
    "# obtain percentages of Interval Groups using the column_percentage_calculator function defined earlier \n",
    "two_to_thirty_percentage = column_percentage_calculator(sms_eligible_not_receive_df, 'Interval Group', '2 - 30')\n",
    "num_thirtyone_to_sixty_percentage = column_percentage_calculator(sms_eligible_not_receive_df, 'Interval Group', '31 - 60')\n",
    "num_sixtyone_to_ninety_percentage = column_percentage_calculator(sms_eligible_not_receive_df, 'Interval Group', '61 - 90')\n",
    "\n",
    "print('Percentage of SMS-Eligible appointments THAT DID NOT RECEIVE SMS REMINDER scheduled between 2 and 30 days out ---> {}%'.format(round(two_to_thirty_percentage,2)))\n",
    "print('Percentage of SMS-Eligible appointments THAT DID NOT RECEIVE SMS REMINDER scheduled between 31 and 60 days out ---> {}%'.format(round(num_thirtyone_to_sixty_percentage, 2)))\n",
    "print('Percentage of SMS-Eligible appointments THAT DID NOT RECEIVE SMS REMINDER scheduled between 61 and 90 days out ---> {}%'.format(round(num_sixtyone_to_ninety_percentage, 2)))"
   ]
  },
  {
   "cell_type": "code",
   "execution_count": 15,
   "id": "3cf7c89f",
   "metadata": {},
   "outputs": [
    {
     "data": {
      "text/plain": [
       "<AxesSubplot:>"
      ]
     },
     "execution_count": 15,
     "metadata": {},
     "output_type": "execute_result"
    },
    {
     "data": {
      "image/png": "[encoded data removed]",
      "text/plain": [
       "<Figure size 500x300 with 1 Axes>"
      ]
     },
     "metadata": {},
     "output_type": "display_data"
    }
   ],
   "source": [
    "# visualize Interval Group categorical distribution in a bar plot\n",
    "sms_eligible_not_receive_df['Interval Group'].value_counts().plot(kind='bar', figsize =(5,3), color='green')"
   ]
  },
  {
   "cell_type": "markdown",
   "id": "b2dbd729",
   "metadata": {},
   "source": [
    "# AGE BRACKETS %'s and Bar Graph"
   ]
  },
  {
   "cell_type": "code",
   "execution_count": 16,
   "id": "98fb6516",
   "metadata": {},
   "outputs": [
    {
     "name": "stdout",
     "output_type": "stream",
     "text": [
      "Percentage of SMS-Eligible appointments THAT DID NOT RECEIVE SMS REMINDER for Youths 26.11%\n",
      "Percentage of SMS-Eligible appointments THAT DID NOT RECEIVE SMS REMINDER for Young Adults 22.8%\n",
      "Percentage of SMS-Eligible appointments THAT DID NOT RECEIVE SMS REMINDER for Adults 25.14%\n",
      "Percentage of SMS-Eligible appointments THAT DID NOT RECEIVE SMS REMINDER for Older Adults and Seniors 25.94%\n"
     ]
    }
   ],
   "source": [
    "# calculate percentage for age group categorical column values\n",
    "sms_eligible_youth_percentage = column_percentage_calculator(sms_eligible_not_receive_df, 'Age Group', 'Youth')\n",
    "sms_eligible_young_adult_percentage = column_percentage_calculator(sms_eligible_not_receive_df, 'Age Group', 'Young Adult')\n",
    "sms_eligible_adult_percentage = column_percentage_calculator(sms_eligible_not_receive_df, 'Age Group', 'Adult')\n",
    "sms_eligible_older_adult_percentage = column_percentage_calculator(sms_eligible_not_receive_df, 'Age Group', 'Older Adult and Seniors')\n",
    "\n",
    "print('Percentage of SMS-Eligible appointments THAT DID NOT RECEIVE SMS REMINDER for Youths {}%'.format(round(sms_eligible_youth_percentage, 2)))\n",
    "print('Percentage of SMS-Eligible appointments THAT DID NOT RECEIVE SMS REMINDER for Young Adults {}%'.format(round(sms_eligible_young_adult_percentage, 2)))\n",
    "print('Percentage of SMS-Eligible appointments THAT DID NOT RECEIVE SMS REMINDER for Adults {}%'.format(round(sms_eligible_adult_percentage, 2)))\n",
    "print('Percentage of SMS-Eligible appointments THAT DID NOT RECEIVE SMS REMINDER for Older Adults and Seniors {}%'.format(round(sms_eligible_older_adult_percentage, 2)))"
   ]
  },
  {
   "cell_type": "code",
   "execution_count": 17,
   "id": "7da44b55",
   "metadata": {},
   "outputs": [
    {
     "data": {
      "text/plain": [
       "<AxesSubplot:>"
      ]
     },
     "execution_count": 17,
     "metadata": {},
     "output_type": "execute_result"
    },
    {
     "data": {
      "image/png": "[encoded data removed]",
      "text/plain": [
       "<Figure size 700x500 with 1 Axes>"
      ]
     },
     "metadata": {},
     "output_type": "display_data"
    }
   ],
   "source": [
    "# create basic viz for age brackets/buckets\n",
    "sms_eligible_not_receive_df['Age Group'].value_counts().plot(kind='bar', figsize=(7,5), color='red')"
   ]
  },
  {
   "cell_type": "markdown",
   "id": "0090ed32",
   "metadata": {},
   "source": [
    "# CONDITIONS %'s and Bar Graph"
   ]
  },
  {
   "cell_type": "markdown",
   "id": "31f7d016",
   "metadata": {},
   "source": [
    "__As each 'condition' is it's own column and the values are only binary (0 for no, 1 for yes), the percentages for these variables WRT to all SMS-ELIGIBLE THAT DID NOT RECEIVE SMS REMINDER rows was obtained from the .describe() command and its output above. These values and respective labels will be used to visualize these variables on a bar graph.__"
   ]
  },
  {
   "cell_type": "code",
   "execution_count": 18,
   "id": "e232b80c",
   "metadata": {
    "scrolled": true
   },
   "outputs": [
    {
     "data": {
      "text/plain": [
       "[Text(0, 0, 'Handicap'),\n",
       " Text(1, 0, 'Alcoholism'),\n",
       " Text(2, 0, 'Diabetes'),\n",
       " Text(3, 0, 'Scholarship Program'),\n",
       " Text(4, 0, 'Hypertension')]"
      ]
     },
     "execution_count": 18,
     "metadata": {},
     "output_type": "execute_result"
    },
    {
     "data": {
      "image/png": "[encoded data removed]",
      "text/plain": [
       "<Figure size 500x500 with 1 Axes>"
      ]
     },
     "metadata": {},
     "output_type": "display_data"
    }
   ],
   "source": [
    "# create pandas series to graph and list of respective labels\n",
    "condition_percents = pd.Series([1.65,  2.63, 7.00, 9.20, 20.02])\n",
    "labels = ['Handicap', 'Alcoholism', 'Diabetes', 'Scholarship Program', 'Hypertension']\n",
    "\n",
    "\n",
    "# plot graph of variable condition percentages\n",
    "plt.figure(figsize=(5,5))\n",
    "ax = condition_percents.plot(kind='bar')\n",
    "ax.set_title('Variable Condition Percents of SMS-Eligible THAT DID NOT RECEIVE SMS REMINDER Appointments')\n",
    "ax.set_xlabel('Variable Conditions in SMS-Eligible THAT DID NOT RECEIVE SMS REMINDER Appointments Data Set')\n",
    "ax.set_ylabel('Percent of Total Data Set')\n",
    "ax.set_xticklabels(labels, rotation=45, ha='right')"
   ]
  },
  {
   "cell_type": "markdown",
   "id": "00772f83",
   "metadata": {},
   "source": [
    "# These are descriptive statistics of ROWS THAT DID NOT RECEIVE SMS REMINDER."
   ]
  },
  {
   "cell_type": "markdown",
   "id": "c2d4e79c",
   "metadata": {},
   "source": [
    "- __32.70% of SMS-Eligible that DID NOT RECEIVE A REMINDER were NO-SHOW.__\n",
    "- __67.30% of SMS-Eligible that DID NOT RECEIVE A REMINDER PRESENTED at their appointments.__\n",
    "- __The average age is 38 (37.58 rounded).__\n",
    "- __The median age is 37.__\n",
    "- __The average time between the ScheduledDay and AppointmentDay is 16 (16.34 rounded) days.__\n",
    "- __Approximately 9.20% of SMS-Eligible appointments that DID NOT RECEIVE A REMINDER are for patients enrolled in the 'scholarship' program (explained earlier in analysis).__\n",
    "- __Approximately 20.02% of SMS-Eligible appointments that DID NOT RECEIVE A REMINDER are for patients suffering from hipertension (hypertension).__\n",
    "- __Approximately 7.00% of SMS-Eligible appointments that DID NOT RECEIVE A REMINDER are for patients suffering from diabetes.__\n",
    "- __Approximately 2.63% of SMS-Eligible appointments that DID NOT RECEIVE A REMINDER are for patients suffering from alcoholism.__\n",
    "- __Approximately 1.65% of SMS-Eligible appointments that DID NOT RECEIVE A REMINDER are for patients identifying as handicapped.__\n",
    "- __Approximately 35.09% of SMS-Eligible appointments that DID NOT RECEIVE A REMINDER were for male patients.__\n",
    "- __Approximately 64.91% of SMS-Eligible appointments that DID NOT RECEIVE A REMINDER were for female patients.__\n",
    "- __Approximately 26.11% of SMS-Eligible appointments that DID NOT RECEIVE A REMINDER were for Youths.__\n",
    "- __Approximately 22.80% of SMS-Eligible appointments that DID NOT RECEIVE A REMINDER were for Young Adults.__ \n",
    "- __Approximately 24.14% of SMS-Eligible appointments that DID NOT RECEIVE A REMINDER were for Adults.__\n",
    "- __Approximately 25.94% of SMS-Eligible appointments that DID NOT RECEIVE A REMINDER were for Older Adults and Seniors.__ \n",
    "- __Approximately 85.35% of SMS-Eligible appointments that DID NOT RECEIVE A REMINDER were scheduled between 2 and 30 days out.__\n",
    "- __Approximately 11.99% of SMS-Eligible appointments that DID NOT RECEIVE A REMINDER were scheduled between 31 and 60 days out.__\n",
    "- __Approximately 2.66% of SMS-Eligible appointments that DID NOT RECEIVE A REMINDER were scheduled between 61 and 90 days out.__"
   ]
  },
  {
   "cell_type": "markdown",
   "id": "670de303",
   "metadata": {},
   "source": [
    "# We need to split this part of the data one more time to glean some deeper insights. From this point, now that we have gathered the statistical information we sought out to find from this population, SMS-ELIGIBLE ROWS THAT _DID NOT_ RECIEVE A REMINDER, we can split this population into 2 new DFs/csvs for further analysis. \n",
    "\n",
    "# The first new DF/csv (1 of 2) will be for SMS-ELIGIBLE _DID NOT_ RECEIVE SMS REMINDER PRESENTED AT APPOINTMENT rows.\n",
    "\n",
    "# The second new DF/csv (2 of 2) will be for SMS-ELIGIBLE _DID NOT_ RECEIVE SMS REMINDER NO SHOW rows."
   ]
  },
  {
   "cell_type": "code",
   "execution_count": 19,
   "id": "ee9a569c",
   "metadata": {},
   "outputs": [
    {
     "data": {
      "text/html": [
       "<div>\n",
       "<style scoped>\n",
       "    .dataframe tbody tr th:only-of-type {\n",
       "        vertical-align: middle;\n",
       "    }\n",
       "\n",
       "    .dataframe tbody tr th {\n",
       "        vertical-align: top;\n",
       "    }\n",
       "\n",
       "    .dataframe thead th {\n",
       "        text-align: right;\n",
       "    }\n",
       "</style>\n",
       "<table border=\"1\" class=\"dataframe\">\n",
       "  <thead>\n",
       "    <tr style=\"text-align: right;\">\n",
       "      <th></th>\n",
       "      <th>Gender</th>\n",
       "      <th>Age</th>\n",
       "      <th>Scholarship</th>\n",
       "      <th>Hipertension</th>\n",
       "      <th>Diabetes</th>\n",
       "      <th>Alcoholism</th>\n",
       "      <th>Handicap</th>\n",
       "      <th>SMS_received</th>\n",
       "      <th>No-show</th>\n",
       "      <th>Days_Between</th>\n",
       "      <th>Day_Num</th>\n",
       "      <th>Age Group</th>\n",
       "      <th>Interval Group</th>\n",
       "    </tr>\n",
       "  </thead>\n",
       "  <tbody>\n",
       "    <tr>\n",
       "      <th>0</th>\n",
       "      <td>M</td>\n",
       "      <td>62</td>\n",
       "      <td>0</td>\n",
       "      <td>0</td>\n",
       "      <td>0</td>\n",
       "      <td>0</td>\n",
       "      <td>0</td>\n",
       "      <td>0</td>\n",
       "      <td>0</td>\n",
       "      <td>22</td>\n",
       "      <td>4</td>\n",
       "      <td>Older Adult and Seniors</td>\n",
       "      <td>2 - 30</td>\n",
       "    </tr>\n",
       "    <tr>\n",
       "      <th>1</th>\n",
       "      <td>F</td>\n",
       "      <td>60</td>\n",
       "      <td>0</td>\n",
       "      <td>0</td>\n",
       "      <td>0</td>\n",
       "      <td>0</td>\n",
       "      <td>0</td>\n",
       "      <td>0</td>\n",
       "      <td>0</td>\n",
       "      <td>10</td>\n",
       "      <td>4</td>\n",
       "      <td>Older Adult and Seniors</td>\n",
       "      <td>2 - 30</td>\n",
       "    </tr>\n",
       "    <tr>\n",
       "      <th>3</th>\n",
       "      <td>F</td>\n",
       "      <td>69</td>\n",
       "      <td>0</td>\n",
       "      <td>1</td>\n",
       "      <td>0</td>\n",
       "      <td>0</td>\n",
       "      <td>0</td>\n",
       "      <td>0</td>\n",
       "      <td>0</td>\n",
       "      <td>2</td>\n",
       "      <td>4</td>\n",
       "      <td>Older Adult and Seniors</td>\n",
       "      <td>2 - 30</td>\n",
       "    </tr>\n",
       "    <tr>\n",
       "      <th>4</th>\n",
       "      <td>M</td>\n",
       "      <td>2</td>\n",
       "      <td>0</td>\n",
       "      <td>0</td>\n",
       "      <td>0</td>\n",
       "      <td>0</td>\n",
       "      <td>0</td>\n",
       "      <td>0</td>\n",
       "      <td>0</td>\n",
       "      <td>10</td>\n",
       "      <td>4</td>\n",
       "      <td>Youth</td>\n",
       "      <td>2 - 30</td>\n",
       "    </tr>\n",
       "    <tr>\n",
       "      <th>5</th>\n",
       "      <td>M</td>\n",
       "      <td>1</td>\n",
       "      <td>0</td>\n",
       "      <td>0</td>\n",
       "      <td>0</td>\n",
       "      <td>0</td>\n",
       "      <td>0</td>\n",
       "      <td>0</td>\n",
       "      <td>0</td>\n",
       "      <td>10</td>\n",
       "      <td>4</td>\n",
       "      <td>Youth</td>\n",
       "      <td>2 - 30</td>\n",
       "    </tr>\n",
       "  </tbody>\n",
       "</table>\n",
       "</div>"
      ],
      "text/plain": [
       "  Gender  Age  Scholarship  Hipertension  Diabetes  Alcoholism  Handicap  \\\n",
       "0      M   62            0             0         0           0         0   \n",
       "1      F   60            0             0         0           0         0   \n",
       "3      F   69            0             1         0           0         0   \n",
       "4      M    2            0             0         0           0         0   \n",
       "5      M    1            0             0         0           0         0   \n",
       "\n",
       "   SMS_received  No-show  Days_Between  Day_Num                Age Group  \\\n",
       "0             0        0            22        4  Older Adult and Seniors   \n",
       "1             0        0            10        4  Older Adult and Seniors   \n",
       "3             0        0             2        4  Older Adult and Seniors   \n",
       "4             0        0            10        4                    Youth   \n",
       "5             0        0            10        4                    Youth   \n",
       "\n",
       "  Interval Group  \n",
       "0         2 - 30  \n",
       "1         2 - 30  \n",
       "3         2 - 30  \n",
       "4         2 - 30  \n",
       "5         2 - 30  "
      ]
     },
     "execution_count": 19,
     "metadata": {},
     "output_type": "execute_result"
    }
   ],
   "source": [
    "# filter out only rows that PRESENTED AT APPOINTMENT into new df\n",
    "sms_not_received_appointment_presented_df = sms_eligible_not_receive_df.loc[(sms_eligible_not_receive_df['No-show'] == 0)]\n",
    "\n",
    "# visually inspect new df\n",
    "sms_not_received_appointment_presented_df.head()"
   ]
  },
  {
   "cell_type": "code",
   "execution_count": 20,
   "id": "17d83342",
   "metadata": {},
   "outputs": [
    {
     "data": {
      "text/html": [
       "<div>\n",
       "<style scoped>\n",
       "    .dataframe tbody tr th:only-of-type {\n",
       "        vertical-align: middle;\n",
       "    }\n",
       "\n",
       "    .dataframe tbody tr th {\n",
       "        vertical-align: top;\n",
       "    }\n",
       "\n",
       "    .dataframe thead th {\n",
       "        text-align: right;\n",
       "    }\n",
       "</style>\n",
       "<table border=\"1\" class=\"dataframe\">\n",
       "  <thead>\n",
       "    <tr style=\"text-align: right;\">\n",
       "      <th></th>\n",
       "      <th>Gender</th>\n",
       "      <th>Age</th>\n",
       "      <th>Scholarship</th>\n",
       "      <th>Hipertension</th>\n",
       "      <th>Diabetes</th>\n",
       "      <th>Alcoholism</th>\n",
       "      <th>Handicap</th>\n",
       "      <th>SMS_received</th>\n",
       "      <th>No-show</th>\n",
       "      <th>Days_Between</th>\n",
       "      <th>Day_Num</th>\n",
       "      <th>Age Group</th>\n",
       "      <th>Interval Group</th>\n",
       "    </tr>\n",
       "  </thead>\n",
       "  <tbody>\n",
       "    <tr>\n",
       "      <th>2</th>\n",
       "      <td>M</td>\n",
       "      <td>28</td>\n",
       "      <td>0</td>\n",
       "      <td>0</td>\n",
       "      <td>0</td>\n",
       "      <td>0</td>\n",
       "      <td>0</td>\n",
       "      <td>0</td>\n",
       "      <td>1</td>\n",
       "      <td>10</td>\n",
       "      <td>4</td>\n",
       "      <td>Young Adult</td>\n",
       "      <td>2 - 30</td>\n",
       "    </tr>\n",
       "    <tr>\n",
       "      <th>16</th>\n",
       "      <td>F</td>\n",
       "      <td>57</td>\n",
       "      <td>0</td>\n",
       "      <td>0</td>\n",
       "      <td>0</td>\n",
       "      <td>0</td>\n",
       "      <td>0</td>\n",
       "      <td>0</td>\n",
       "      <td>1</td>\n",
       "      <td>41</td>\n",
       "      <td>4</td>\n",
       "      <td>Older Adult and Seniors</td>\n",
       "      <td>31 - 60</td>\n",
       "    </tr>\n",
       "    <tr>\n",
       "      <th>22</th>\n",
       "      <td>M</td>\n",
       "      <td>43</td>\n",
       "      <td>0</td>\n",
       "      <td>0</td>\n",
       "      <td>0</td>\n",
       "      <td>0</td>\n",
       "      <td>0</td>\n",
       "      <td>0</td>\n",
       "      <td>1</td>\n",
       "      <td>28</td>\n",
       "      <td>4</td>\n",
       "      <td>Adult</td>\n",
       "      <td>2 - 30</td>\n",
       "    </tr>\n",
       "    <tr>\n",
       "      <th>25</th>\n",
       "      <td>F</td>\n",
       "      <td>22</td>\n",
       "      <td>0</td>\n",
       "      <td>0</td>\n",
       "      <td>0</td>\n",
       "      <td>0</td>\n",
       "      <td>0</td>\n",
       "      <td>0</td>\n",
       "      <td>1</td>\n",
       "      <td>44</td>\n",
       "      <td>4</td>\n",
       "      <td>Young Adult</td>\n",
       "      <td>31 - 60</td>\n",
       "    </tr>\n",
       "    <tr>\n",
       "      <th>31</th>\n",
       "      <td>M</td>\n",
       "      <td>58</td>\n",
       "      <td>0</td>\n",
       "      <td>0</td>\n",
       "      <td>0</td>\n",
       "      <td>0</td>\n",
       "      <td>0</td>\n",
       "      <td>0</td>\n",
       "      <td>1</td>\n",
       "      <td>41</td>\n",
       "      <td>4</td>\n",
       "      <td>Older Adult and Seniors</td>\n",
       "      <td>31 - 60</td>\n",
       "    </tr>\n",
       "  </tbody>\n",
       "</table>\n",
       "</div>"
      ],
      "text/plain": [
       "   Gender  Age  Scholarship  Hipertension  Diabetes  Alcoholism  Handicap  \\\n",
       "2       M   28            0             0         0           0         0   \n",
       "16      F   57            0             0         0           0         0   \n",
       "22      M   43            0             0         0           0         0   \n",
       "25      F   22            0             0         0           0         0   \n",
       "31      M   58            0             0         0           0         0   \n",
       "\n",
       "    SMS_received  No-show  Days_Between  Day_Num                Age Group  \\\n",
       "2              0        1            10        4              Young Adult   \n",
       "16             0        1            41        4  Older Adult and Seniors   \n",
       "22             0        1            28        4                    Adult   \n",
       "25             0        1            44        4              Young Adult   \n",
       "31             0        1            41        4  Older Adult and Seniors   \n",
       "\n",
       "   Interval Group  \n",
       "2          2 - 30  \n",
       "16        31 - 60  \n",
       "22         2 - 30  \n",
       "25        31 - 60  \n",
       "31        31 - 60  "
      ]
     },
     "execution_count": 20,
     "metadata": {},
     "output_type": "execute_result"
    }
   ],
   "source": [
    "# filter out only rows that NO-SHOW AT APPOINTMENT into new df\n",
    "sms_not_received_appointment_no_show_df = sms_eligible_not_receive_df.loc[(sms_eligible_not_receive_df['No-show'] == 1)]\n",
    "\n",
    "# visually inspect new df\n",
    "sms_not_received_appointment_no_show_df.head()"
   ]
  },
  {
   "cell_type": "code",
   "execution_count": 21,
   "id": "4efa819a",
   "metadata": {},
   "outputs": [],
   "source": [
    "# # saving new filtered DFs to csv\n",
    "# sms_not_received_appointment_presented_df.to_csv(os.path.join('SMS_Eligible_No_SMS_Reminder_Presented','sms_not_received_appointment_presented.csv'), index=False)\n",
    "# sms_not_received_appointment_no_show_df.to_csv(os.path.join('SMS_Eligible_No_SMS_Reminder_No_Show', 'sms_not_received_appointment_no_show.csv'), index=False)"
   ]
  },
  {
   "cell_type": "code",
   "execution_count": 22,
   "id": "5407c529",
   "metadata": {},
   "outputs": [
    {
     "data": {
      "text/plain": [
       "True"
      ]
     },
     "execution_count": 22,
     "metadata": {},
     "output_type": "execute_result"
    }
   ],
   "source": [
    "1==1"
   ]
  },
  {
   "cell_type": "markdown",
   "id": "6fd5d7e7",
   "metadata": {},
   "source": [
    "# This is the end of this section of EDA for ROWS THAT DID NOT RECEIVE SMS REMINDER AND WERE ELIGIBLE "
   ]
  }
 ],
 "metadata": {
  "kernelspec": {
   "display_name": "Python 3 (ipykernel)",
   "language": "python",
   "name": "python3"
  },
  "language_info": {
   "codemirror_mode": {
    "name": "ipython",
    "version": 3
   },
   "file_extension": ".py",
   "mimetype": "text/x-python",
   "name": "python",
   "nbconvert_exporter": "python",
   "pygments_lexer": "ipython3",
   "version": "3.9.13"
  }
 },
 "nbformat": 4,
 "nbformat_minor": 5
}
