{
 "cells": [
  {
   "cell_type": "code",
   "execution_count": 1,
   "id": "a07a208a",
   "metadata": {},
   "outputs": [],
   "source": [
    "# import basic libraries for dataframe usage and viz\n",
    "import numpy as np\n",
    "import pandas as pd\n",
    "import matplotlib.pyplot as plt\n",
    "import seaborn as sns\n",
    "import os"
   ]
  },
  {
   "cell_type": "code",
   "execution_count": 2,
   "id": "f0d5199e",
   "metadata": {
    "scrolled": true
   },
   "outputs": [
    {
     "data": {
      "text/plain": [
       "['.ipynb_checkpoints',\n",
       " 'SMS_Eligible_Did_Not_Receive_SMS',\n",
       " 'SMS_Eligible_Received_SMS',\n",
       " 'SMS_Eligible_Total_All_Rows_Analysis.ipynb',\n",
       " 'sms_reminder_eligible_clean.csv']"
      ]
     },
     "execution_count": 2,
     "metadata": {},
     "output_type": "execute_result"
    }
   ],
   "source": [
    "## remove this cell before submitting\n",
    "\n",
    "os.listdir()"
   ]
  },
  {
   "cell_type": "code",
   "execution_count": 3,
   "id": "23064721",
   "metadata": {},
   "outputs": [],
   "source": [
    "# this function will greatly simplify getting percentages based on condition\n",
    "# this can be used as a template if you want to change the equality operator to inequality (>,<, etc..)\n",
    "def column_percentage_calculator(df, column_name, condition):\n",
    "    total_rows = df.shape[0]\n",
    "    num_matched_rows = len(df.loc[(df[column_name] == condition)])\n",
    "    percentage_matches_condition = (num_matched_rows / total_rows) * 100\n",
    "    return percentage_matches_condition"
   ]
  },
  {
   "cell_type": "code",
   "execution_count": 4,
   "id": "7517bf73",
   "metadata": {},
   "outputs": [
    {
     "data": {
      "text/html": [
       "<div>\n",
       "<style scoped>\n",
       "    .dataframe tbody tr th:only-of-type {\n",
       "        vertical-align: middle;\n",
       "    }\n",
       "\n",
       "    .dataframe tbody tr th {\n",
       "        vertical-align: top;\n",
       "    }\n",
       "\n",
       "    .dataframe thead th {\n",
       "        text-align: right;\n",
       "    }\n",
       "</style>\n",
       "<table border=\"1\" class=\"dataframe\">\n",
       "  <thead>\n",
       "    <tr style=\"text-align: right;\">\n",
       "      <th></th>\n",
       "      <th>Gender</th>\n",
       "      <th>ScheduledDay</th>\n",
       "      <th>AppointmentDay</th>\n",
       "      <th>Age</th>\n",
       "      <th>Scholarship</th>\n",
       "      <th>Hipertension</th>\n",
       "      <th>Diabetes</th>\n",
       "      <th>Alcoholism</th>\n",
       "      <th>Handicap</th>\n",
       "      <th>SMS_received</th>\n",
       "      <th>No-show</th>\n",
       "      <th>Days_Between</th>\n",
       "      <th>Day_Num</th>\n",
       "    </tr>\n",
       "  </thead>\n",
       "  <tbody>\n",
       "    <tr>\n",
       "      <th>22985</th>\n",
       "      <td>F</td>\n",
       "      <td>2016-04-05 09:07:08+00:00</td>\n",
       "      <td>2016-05-06 00:00:00+00:00</td>\n",
       "      <td>52</td>\n",
       "      <td>1</td>\n",
       "      <td>1</td>\n",
       "      <td>0</td>\n",
       "      <td>0</td>\n",
       "      <td>0</td>\n",
       "      <td>1</td>\n",
       "      <td>0</td>\n",
       "      <td>30</td>\n",
       "      <td>4</td>\n",
       "    </tr>\n",
       "    <tr>\n",
       "      <th>17739</th>\n",
       "      <td>M</td>\n",
       "      <td>2016-05-10 10:04:43+00:00</td>\n",
       "      <td>2016-05-16 00:00:00+00:00</td>\n",
       "      <td>10</td>\n",
       "      <td>0</td>\n",
       "      <td>0</td>\n",
       "      <td>0</td>\n",
       "      <td>0</td>\n",
       "      <td>0</td>\n",
       "      <td>0</td>\n",
       "      <td>0</td>\n",
       "      <td>5</td>\n",
       "      <td>0</td>\n",
       "    </tr>\n",
       "    <tr>\n",
       "      <th>8900</th>\n",
       "      <td>F</td>\n",
       "      <td>2016-04-07 16:03:49+00:00</td>\n",
       "      <td>2016-05-02 00:00:00+00:00</td>\n",
       "      <td>41</td>\n",
       "      <td>0</td>\n",
       "      <td>0</td>\n",
       "      <td>0</td>\n",
       "      <td>0</td>\n",
       "      <td>0</td>\n",
       "      <td>1</td>\n",
       "      <td>0</td>\n",
       "      <td>24</td>\n",
       "      <td>0</td>\n",
       "    </tr>\n",
       "    <tr>\n",
       "      <th>38013</th>\n",
       "      <td>F</td>\n",
       "      <td>2016-05-09 12:21:21+00:00</td>\n",
       "      <td>2016-05-13 00:00:00+00:00</td>\n",
       "      <td>81</td>\n",
       "      <td>0</td>\n",
       "      <td>1</td>\n",
       "      <td>0</td>\n",
       "      <td>0</td>\n",
       "      <td>0</td>\n",
       "      <td>0</td>\n",
       "      <td>1</td>\n",
       "      <td>3</td>\n",
       "      <td>4</td>\n",
       "    </tr>\n",
       "    <tr>\n",
       "      <th>43085</th>\n",
       "      <td>M</td>\n",
       "      <td>2016-04-20 10:32:15+00:00</td>\n",
       "      <td>2016-05-18 00:00:00+00:00</td>\n",
       "      <td>55</td>\n",
       "      <td>0</td>\n",
       "      <td>0</td>\n",
       "      <td>0</td>\n",
       "      <td>0</td>\n",
       "      <td>0</td>\n",
       "      <td>0</td>\n",
       "      <td>0</td>\n",
       "      <td>27</td>\n",
       "      <td>2</td>\n",
       "    </tr>\n",
       "    <tr>\n",
       "      <th>7465</th>\n",
       "      <td>F</td>\n",
       "      <td>2016-05-05 10:37:55+00:00</td>\n",
       "      <td>2016-05-10 00:00:00+00:00</td>\n",
       "      <td>93</td>\n",
       "      <td>0</td>\n",
       "      <td>0</td>\n",
       "      <td>0</td>\n",
       "      <td>0</td>\n",
       "      <td>0</td>\n",
       "      <td>1</td>\n",
       "      <td>0</td>\n",
       "      <td>4</td>\n",
       "      <td>1</td>\n",
       "    </tr>\n",
       "    <tr>\n",
       "      <th>5556</th>\n",
       "      <td>M</td>\n",
       "      <td>2016-04-07 07:41:24+00:00</td>\n",
       "      <td>2016-05-10 00:00:00+00:00</td>\n",
       "      <td>1</td>\n",
       "      <td>0</td>\n",
       "      <td>0</td>\n",
       "      <td>0</td>\n",
       "      <td>0</td>\n",
       "      <td>0</td>\n",
       "      <td>1</td>\n",
       "      <td>1</td>\n",
       "      <td>32</td>\n",
       "      <td>1</td>\n",
       "    </tr>\n",
       "    <tr>\n",
       "      <th>7974</th>\n",
       "      <td>M</td>\n",
       "      <td>2016-05-10 16:16:49+00:00</td>\n",
       "      <td>2016-05-17 00:00:00+00:00</td>\n",
       "      <td>52</td>\n",
       "      <td>0</td>\n",
       "      <td>0</td>\n",
       "      <td>0</td>\n",
       "      <td>0</td>\n",
       "      <td>0</td>\n",
       "      <td>0</td>\n",
       "      <td>0</td>\n",
       "      <td>6</td>\n",
       "      <td>1</td>\n",
       "    </tr>\n",
       "    <tr>\n",
       "      <th>43774</th>\n",
       "      <td>M</td>\n",
       "      <td>2016-05-05 13:58:19+00:00</td>\n",
       "      <td>2016-05-11 00:00:00+00:00</td>\n",
       "      <td>46</td>\n",
       "      <td>0</td>\n",
       "      <td>0</td>\n",
       "      <td>0</td>\n",
       "      <td>0</td>\n",
       "      <td>0</td>\n",
       "      <td>1</td>\n",
       "      <td>0</td>\n",
       "      <td>5</td>\n",
       "      <td>2</td>\n",
       "    </tr>\n",
       "    <tr>\n",
       "      <th>40859</th>\n",
       "      <td>F</td>\n",
       "      <td>2016-04-28 17:10:29+00:00</td>\n",
       "      <td>2016-05-02 00:00:00+00:00</td>\n",
       "      <td>19</td>\n",
       "      <td>1</td>\n",
       "      <td>0</td>\n",
       "      <td>0</td>\n",
       "      <td>0</td>\n",
       "      <td>0</td>\n",
       "      <td>1</td>\n",
       "      <td>1</td>\n",
       "      <td>3</td>\n",
       "      <td>0</td>\n",
       "    </tr>\n",
       "  </tbody>\n",
       "</table>\n",
       "</div>"
      ],
      "text/plain": [
       "      Gender               ScheduledDay             AppointmentDay  Age  \\\n",
       "22985      F  2016-04-05 09:07:08+00:00  2016-05-06 00:00:00+00:00   52   \n",
       "17739      M  2016-05-10 10:04:43+00:00  2016-05-16 00:00:00+00:00   10   \n",
       "8900       F  2016-04-07 16:03:49+00:00  2016-05-02 00:00:00+00:00   41   \n",
       "38013      F  2016-05-09 12:21:21+00:00  2016-05-13 00:00:00+00:00   81   \n",
       "43085      M  2016-04-20 10:32:15+00:00  2016-05-18 00:00:00+00:00   55   \n",
       "7465       F  2016-05-05 10:37:55+00:00  2016-05-10 00:00:00+00:00   93   \n",
       "5556       M  2016-04-07 07:41:24+00:00  2016-05-10 00:00:00+00:00    1   \n",
       "7974       M  2016-05-10 16:16:49+00:00  2016-05-17 00:00:00+00:00   52   \n",
       "43774      M  2016-05-05 13:58:19+00:00  2016-05-11 00:00:00+00:00   46   \n",
       "40859      F  2016-04-28 17:10:29+00:00  2016-05-02 00:00:00+00:00   19   \n",
       "\n",
       "       Scholarship  Hipertension  Diabetes  Alcoholism  Handicap  \\\n",
       "22985            1             1         0           0         0   \n",
       "17739            0             0         0           0         0   \n",
       "8900             0             0         0           0         0   \n",
       "38013            0             1         0           0         0   \n",
       "43085            0             0         0           0         0   \n",
       "7465             0             0         0           0         0   \n",
       "5556             0             0         0           0         0   \n",
       "7974             0             0         0           0         0   \n",
       "43774            0             0         0           0         0   \n",
       "40859            1             0         0           0         0   \n",
       "\n",
       "       SMS_received  No-show  Days_Between  Day_Num  \n",
       "22985             1        0            30        4  \n",
       "17739             0        0             5        0  \n",
       "8900              1        0            24        0  \n",
       "38013             0        1             3        4  \n",
       "43085             0        0            27        2  \n",
       "7465              1        0             4        1  \n",
       "5556              1        1            32        1  \n",
       "7974              0        0             6        1  \n",
       "43774             1        0             5        2  \n",
       "40859             1        1             3        0  "
      ]
     },
     "execution_count": 4,
     "metadata": {},
     "output_type": "execute_result"
    }
   ],
   "source": [
    "sms_eligible_appointments_df = pd.read_csv('sms_reminder_eligible_clean.csv')\n",
    "sms_eligible_appointments_df.sample(10)"
   ]
  },
  {
   "cell_type": "code",
   "execution_count": 5,
   "id": "24e080a8",
   "metadata": {},
   "outputs": [
    {
     "name": "stdout",
     "output_type": "stream",
     "text": [
      "<class 'pandas.core.frame.DataFrame'>\n",
      "RangeIndex: 59754 entries, 0 to 59753\n",
      "Data columns (total 13 columns):\n",
      " #   Column          Non-Null Count  Dtype \n",
      "---  ------          --------------  ----- \n",
      " 0   Gender          59754 non-null  object\n",
      " 1   ScheduledDay    59754 non-null  object\n",
      " 2   AppointmentDay  59754 non-null  object\n",
      " 3   Age             59754 non-null  int64 \n",
      " 4   Scholarship     59754 non-null  int64 \n",
      " 5   Hipertension    59754 non-null  int64 \n",
      " 6   Diabetes        59754 non-null  int64 \n",
      " 7   Alcoholism      59754 non-null  int64 \n",
      " 8   Handicap        59754 non-null  int64 \n",
      " 9   SMS_received    59754 non-null  int64 \n",
      " 10  No-show         59754 non-null  int64 \n",
      " 11  Days_Between    59754 non-null  int64 \n",
      " 12  Day_Num         59754 non-null  int64 \n",
      "dtypes: int64(10), object(3)\n",
      "memory usage: 5.9+ MB\n"
     ]
    }
   ],
   "source": [
    "sms_eligible_appointments_df.info()\n",
    "\n",
    "# save total number of rows on import to a variable to be used in calculating percentages, etc...\n",
    "total_num_sms_eligible_rows = sms_eligible_appointments_df.shape[0]\n",
    "\n",
    "#total_num_sms_eligible_rows"
   ]
  },
  {
   "cell_type": "markdown",
   "id": "e22c9f89",
   "metadata": {},
   "source": [
    "__Now that the calculated columns for which ScheduledDay and AppointmentDay were needed to create, _Days_Between_ and _Day_Num_, the ScheduledDay and AppointmentDay columns can be dropped.__"
   ]
  },
  {
   "cell_type": "code",
   "execution_count": 6,
   "id": "46bf9697",
   "metadata": {},
   "outputs": [
    {
     "data": {
      "text/html": [
       "<div>\n",
       "<style scoped>\n",
       "    .dataframe tbody tr th:only-of-type {\n",
       "        vertical-align: middle;\n",
       "    }\n",
       "\n",
       "    .dataframe tbody tr th {\n",
       "        vertical-align: top;\n",
       "    }\n",
       "\n",
       "    .dataframe thead th {\n",
       "        text-align: right;\n",
       "    }\n",
       "</style>\n",
       "<table border=\"1\" class=\"dataframe\">\n",
       "  <thead>\n",
       "    <tr style=\"text-align: right;\">\n",
       "      <th></th>\n",
       "      <th>Gender</th>\n",
       "      <th>Age</th>\n",
       "      <th>Scholarship</th>\n",
       "      <th>Hipertension</th>\n",
       "      <th>Diabetes</th>\n",
       "      <th>Alcoholism</th>\n",
       "      <th>Handicap</th>\n",
       "      <th>SMS_received</th>\n",
       "      <th>No-show</th>\n",
       "      <th>Days_Between</th>\n",
       "      <th>Day_Num</th>\n",
       "    </tr>\n",
       "  </thead>\n",
       "  <tbody>\n",
       "    <tr>\n",
       "      <th>0</th>\n",
       "      <td>M</td>\n",
       "      <td>29</td>\n",
       "      <td>0</td>\n",
       "      <td>0</td>\n",
       "      <td>0</td>\n",
       "      <td>0</td>\n",
       "      <td>0</td>\n",
       "      <td>1</td>\n",
       "      <td>1</td>\n",
       "      <td>2</td>\n",
       "      <td>4</td>\n",
       "    </tr>\n",
       "    <tr>\n",
       "      <th>1</th>\n",
       "      <td>F</td>\n",
       "      <td>15</td>\n",
       "      <td>0</td>\n",
       "      <td>0</td>\n",
       "      <td>0</td>\n",
       "      <td>0</td>\n",
       "      <td>0</td>\n",
       "      <td>1</td>\n",
       "      <td>0</td>\n",
       "      <td>2</td>\n",
       "      <td>4</td>\n",
       "    </tr>\n",
       "    <tr>\n",
       "      <th>2</th>\n",
       "      <td>F</td>\n",
       "      <td>30</td>\n",
       "      <td>1</td>\n",
       "      <td>0</td>\n",
       "      <td>0</td>\n",
       "      <td>0</td>\n",
       "      <td>0</td>\n",
       "      <td>1</td>\n",
       "      <td>0</td>\n",
       "      <td>2</td>\n",
       "      <td>4</td>\n",
       "    </tr>\n",
       "    <tr>\n",
       "      <th>3</th>\n",
       "      <td>M</td>\n",
       "      <td>13</td>\n",
       "      <td>0</td>\n",
       "      <td>0</td>\n",
       "      <td>0</td>\n",
       "      <td>0</td>\n",
       "      <td>0</td>\n",
       "      <td>1</td>\n",
       "      <td>1</td>\n",
       "      <td>3</td>\n",
       "      <td>4</td>\n",
       "    </tr>\n",
       "    <tr>\n",
       "      <th>4</th>\n",
       "      <td>M</td>\n",
       "      <td>46</td>\n",
       "      <td>0</td>\n",
       "      <td>1</td>\n",
       "      <td>0</td>\n",
       "      <td>0</td>\n",
       "      <td>0</td>\n",
       "      <td>1</td>\n",
       "      <td>0</td>\n",
       "      <td>2</td>\n",
       "      <td>4</td>\n",
       "    </tr>\n",
       "  </tbody>\n",
       "</table>\n",
       "</div>"
      ],
      "text/plain": [
       "  Gender  Age  Scholarship  Hipertension  Diabetes  Alcoholism  Handicap  \\\n",
       "0      M   29            0             0         0           0         0   \n",
       "1      F   15            0             0         0           0         0   \n",
       "2      F   30            1             0         0           0         0   \n",
       "3      M   13            0             0         0           0         0   \n",
       "4      M   46            0             1         0           0         0   \n",
       "\n",
       "   SMS_received  No-show  Days_Between  Day_Num  \n",
       "0             1        1             2        4  \n",
       "1             1        0             2        4  \n",
       "2             1        0             2        4  \n",
       "3             1        1             3        4  \n",
       "4             1        0             2        4  "
      ]
     },
     "execution_count": 6,
     "metadata": {},
     "output_type": "execute_result"
    }
   ],
   "source": [
    "# ScheduledDay and AppointmentDay are no longer needed so they can be dropped\n",
    "drop_cols_list = ['ScheduledDay', 'AppointmentDay']\n",
    "\n",
    "sms_eligible_appointments_df.drop(columns=drop_cols_list, axis = 1, inplace = True)\n",
    "sms_eligible_appointments_df.head()"
   ]
  },
  {
   "cell_type": "code",
   "execution_count": 7,
   "id": "afbbb4c5",
   "metadata": {},
   "outputs": [
    {
     "data": {
      "text/html": [
       "<div>\n",
       "<style scoped>\n",
       "    .dataframe tbody tr th:only-of-type {\n",
       "        vertical-align: middle;\n",
       "    }\n",
       "\n",
       "    .dataframe tbody tr th {\n",
       "        vertical-align: top;\n",
       "    }\n",
       "\n",
       "    .dataframe thead th {\n",
       "        text-align: right;\n",
       "    }\n",
       "</style>\n",
       "<table border=\"1\" class=\"dataframe\">\n",
       "  <thead>\n",
       "    <tr style=\"text-align: right;\">\n",
       "      <th></th>\n",
       "      <th>Age</th>\n",
       "      <th>Scholarship</th>\n",
       "      <th>Hipertension</th>\n",
       "      <th>Diabetes</th>\n",
       "      <th>Alcoholism</th>\n",
       "      <th>Handicap</th>\n",
       "      <th>SMS_received</th>\n",
       "      <th>No-show</th>\n",
       "      <th>Days_Between</th>\n",
       "      <th>Day_Num</th>\n",
       "    </tr>\n",
       "  </thead>\n",
       "  <tbody>\n",
       "    <tr>\n",
       "      <th>count</th>\n",
       "      <td>59754.000000</td>\n",
       "      <td>59754.000000</td>\n",
       "      <td>59754.000000</td>\n",
       "      <td>59754.000000</td>\n",
       "      <td>59754.000000</td>\n",
       "      <td>59754.000000</td>\n",
       "      <td>59754.000000</td>\n",
       "      <td>59754.000000</td>\n",
       "      <td>59754.000000</td>\n",
       "      <td>59754.000000</td>\n",
       "    </tr>\n",
       "    <tr>\n",
       "      <th>mean</th>\n",
       "      <td>37.502611</td>\n",
       "      <td>0.096044</td>\n",
       "      <td>0.195401</td>\n",
       "      <td>0.067510</td>\n",
       "      <td>0.024885</td>\n",
       "      <td>0.014761</td>\n",
       "      <td>0.591207</td>\n",
       "      <td>0.296733</td>\n",
       "      <td>17.139873</td>\n",
       "      <td>1.709492</td>\n",
       "    </tr>\n",
       "    <tr>\n",
       "      <th>std</th>\n",
       "      <td>22.782551</td>\n",
       "      <td>0.294654</td>\n",
       "      <td>0.396513</td>\n",
       "      <td>0.250905</td>\n",
       "      <td>0.155777</td>\n",
       "      <td>0.120594</td>\n",
       "      <td>0.491615</td>\n",
       "      <td>0.456822</td>\n",
       "      <td>15.571214</td>\n",
       "      <td>1.378292</td>\n",
       "    </tr>\n",
       "    <tr>\n",
       "      <th>min</th>\n",
       "      <td>0.000000</td>\n",
       "      <td>0.000000</td>\n",
       "      <td>0.000000</td>\n",
       "      <td>0.000000</td>\n",
       "      <td>0.000000</td>\n",
       "      <td>0.000000</td>\n",
       "      <td>0.000000</td>\n",
       "      <td>0.000000</td>\n",
       "      <td>2.000000</td>\n",
       "      <td>0.000000</td>\n",
       "    </tr>\n",
       "    <tr>\n",
       "      <th>25%</th>\n",
       "      <td>19.000000</td>\n",
       "      <td>0.000000</td>\n",
       "      <td>0.000000</td>\n",
       "      <td>0.000000</td>\n",
       "      <td>0.000000</td>\n",
       "      <td>0.000000</td>\n",
       "      <td>0.000000</td>\n",
       "      <td>0.000000</td>\n",
       "      <td>5.000000</td>\n",
       "      <td>1.000000</td>\n",
       "    </tr>\n",
       "    <tr>\n",
       "      <th>50%</th>\n",
       "      <td>37.000000</td>\n",
       "      <td>0.000000</td>\n",
       "      <td>0.000000</td>\n",
       "      <td>0.000000</td>\n",
       "      <td>0.000000</td>\n",
       "      <td>0.000000</td>\n",
       "      <td>1.000000</td>\n",
       "      <td>0.000000</td>\n",
       "      <td>13.000000</td>\n",
       "      <td>2.000000</td>\n",
       "    </tr>\n",
       "    <tr>\n",
       "      <th>75%</th>\n",
       "      <td>56.000000</td>\n",
       "      <td>0.000000</td>\n",
       "      <td>0.000000</td>\n",
       "      <td>0.000000</td>\n",
       "      <td>0.000000</td>\n",
       "      <td>0.000000</td>\n",
       "      <td>1.000000</td>\n",
       "      <td>1.000000</td>\n",
       "      <td>25.000000</td>\n",
       "      <td>3.000000</td>\n",
       "    </tr>\n",
       "    <tr>\n",
       "      <th>max</th>\n",
       "      <td>98.000000</td>\n",
       "      <td>1.000000</td>\n",
       "      <td>1.000000</td>\n",
       "      <td>1.000000</td>\n",
       "      <td>1.000000</td>\n",
       "      <td>1.000000</td>\n",
       "      <td>1.000000</td>\n",
       "      <td>1.000000</td>\n",
       "      <td>90.000000</td>\n",
       "      <td>5.000000</td>\n",
       "    </tr>\n",
       "  </tbody>\n",
       "</table>\n",
       "</div>"
      ],
      "text/plain": [
       "                Age   Scholarship  Hipertension      Diabetes    Alcoholism  \\\n",
       "count  59754.000000  59754.000000  59754.000000  59754.000000  59754.000000   \n",
       "mean      37.502611      0.096044      0.195401      0.067510      0.024885   \n",
       "std       22.782551      0.294654      0.396513      0.250905      0.155777   \n",
       "min        0.000000      0.000000      0.000000      0.000000      0.000000   \n",
       "25%       19.000000      0.000000      0.000000      0.000000      0.000000   \n",
       "50%       37.000000      0.000000      0.000000      0.000000      0.000000   \n",
       "75%       56.000000      0.000000      0.000000      0.000000      0.000000   \n",
       "max       98.000000      1.000000      1.000000      1.000000      1.000000   \n",
       "\n",
       "           Handicap  SMS_received       No-show  Days_Between       Day_Num  \n",
       "count  59754.000000  59754.000000  59754.000000  59754.000000  59754.000000  \n",
       "mean       0.014761      0.591207      0.296733     17.139873      1.709492  \n",
       "std        0.120594      0.491615      0.456822     15.571214      1.378292  \n",
       "min        0.000000      0.000000      0.000000      2.000000      0.000000  \n",
       "25%        0.000000      0.000000      0.000000      5.000000      1.000000  \n",
       "50%        0.000000      1.000000      0.000000     13.000000      2.000000  \n",
       "75%        0.000000      1.000000      1.000000     25.000000      3.000000  \n",
       "max        1.000000      1.000000      1.000000     90.000000      5.000000  "
      ]
     },
     "execution_count": 7,
     "metadata": {},
     "output_type": "execute_result"
    }
   ],
   "source": [
    "sms_eligible_appointments_df.describe()"
   ]
  },
  {
   "cell_type": "markdown",
   "id": "808b577f",
   "metadata": {},
   "source": [
    "We will add a categorical column that will represent the 4 age buckets/brackets we will use in our analysis:\n",
    "- Ages 0 - 18 ---> Youth\n",
    "- Ages 19 - 36 ---> Young Adult\n",
    "- Ages 37 - 55 ---> Adult\n",
    "- Ages 56 + ---> Older Adults & Seniors\n",
    "\n",
    "The cut off points for the brackets were determined by the general descriptive statistics in the cell above, specifically the 25%, 50%, and 75% thresholds. Conveniently these brackets closely align to popular culture definitions of 'Youth', 'Young Adult', 'Adult', and 'Older Adult/Senior'."
   ]
  },
  {
   "cell_type": "code",
   "execution_count": 8,
   "id": "5011df0b",
   "metadata": {},
   "outputs": [
    {
     "data": {
      "text/html": [
       "<div>\n",
       "<style scoped>\n",
       "    .dataframe tbody tr th:only-of-type {\n",
       "        vertical-align: middle;\n",
       "    }\n",
       "\n",
       "    .dataframe tbody tr th {\n",
       "        vertical-align: top;\n",
       "    }\n",
       "\n",
       "    .dataframe thead th {\n",
       "        text-align: right;\n",
       "    }\n",
       "</style>\n",
       "<table border=\"1\" class=\"dataframe\">\n",
       "  <thead>\n",
       "    <tr style=\"text-align: right;\">\n",
       "      <th></th>\n",
       "      <th>Gender</th>\n",
       "      <th>Age</th>\n",
       "      <th>Scholarship</th>\n",
       "      <th>Hipertension</th>\n",
       "      <th>Diabetes</th>\n",
       "      <th>Alcoholism</th>\n",
       "      <th>Handicap</th>\n",
       "      <th>SMS_received</th>\n",
       "      <th>No-show</th>\n",
       "      <th>Days_Between</th>\n",
       "      <th>Day_Num</th>\n",
       "      <th>Age Group</th>\n",
       "    </tr>\n",
       "  </thead>\n",
       "  <tbody>\n",
       "    <tr>\n",
       "      <th>23541</th>\n",
       "      <td>F</td>\n",
       "      <td>31</td>\n",
       "      <td>0</td>\n",
       "      <td>0</td>\n",
       "      <td>0</td>\n",
       "      <td>0</td>\n",
       "      <td>0</td>\n",
       "      <td>1</td>\n",
       "      <td>0</td>\n",
       "      <td>10</td>\n",
       "      <td>4</td>\n",
       "      <td>Young Adult</td>\n",
       "    </tr>\n",
       "    <tr>\n",
       "      <th>20225</th>\n",
       "      <td>F</td>\n",
       "      <td>48</td>\n",
       "      <td>0</td>\n",
       "      <td>0</td>\n",
       "      <td>0</td>\n",
       "      <td>0</td>\n",
       "      <td>0</td>\n",
       "      <td>0</td>\n",
       "      <td>0</td>\n",
       "      <td>22</td>\n",
       "      <td>2</td>\n",
       "      <td>Adult</td>\n",
       "    </tr>\n",
       "    <tr>\n",
       "      <th>24160</th>\n",
       "      <td>F</td>\n",
       "      <td>15</td>\n",
       "      <td>1</td>\n",
       "      <td>0</td>\n",
       "      <td>0</td>\n",
       "      <td>0</td>\n",
       "      <td>0</td>\n",
       "      <td>0</td>\n",
       "      <td>0</td>\n",
       "      <td>20</td>\n",
       "      <td>0</td>\n",
       "      <td>Youth</td>\n",
       "    </tr>\n",
       "    <tr>\n",
       "      <th>1665</th>\n",
       "      <td>F</td>\n",
       "      <td>40</td>\n",
       "      <td>0</td>\n",
       "      <td>0</td>\n",
       "      <td>0</td>\n",
       "      <td>0</td>\n",
       "      <td>0</td>\n",
       "      <td>1</td>\n",
       "      <td>1</td>\n",
       "      <td>12</td>\n",
       "      <td>0</td>\n",
       "      <td>Adult</td>\n",
       "    </tr>\n",
       "    <tr>\n",
       "      <th>39846</th>\n",
       "      <td>F</td>\n",
       "      <td>43</td>\n",
       "      <td>0</td>\n",
       "      <td>0</td>\n",
       "      <td>0</td>\n",
       "      <td>0</td>\n",
       "      <td>0</td>\n",
       "      <td>0</td>\n",
       "      <td>0</td>\n",
       "      <td>6</td>\n",
       "      <td>2</td>\n",
       "      <td>Adult</td>\n",
       "    </tr>\n",
       "    <tr>\n",
       "      <th>50984</th>\n",
       "      <td>F</td>\n",
       "      <td>15</td>\n",
       "      <td>0</td>\n",
       "      <td>0</td>\n",
       "      <td>0</td>\n",
       "      <td>0</td>\n",
       "      <td>0</td>\n",
       "      <td>1</td>\n",
       "      <td>0</td>\n",
       "      <td>8</td>\n",
       "      <td>3</td>\n",
       "      <td>Youth</td>\n",
       "    </tr>\n",
       "    <tr>\n",
       "      <th>14752</th>\n",
       "      <td>F</td>\n",
       "      <td>45</td>\n",
       "      <td>0</td>\n",
       "      <td>0</td>\n",
       "      <td>0</td>\n",
       "      <td>0</td>\n",
       "      <td>0</td>\n",
       "      <td>0</td>\n",
       "      <td>0</td>\n",
       "      <td>4</td>\n",
       "      <td>0</td>\n",
       "      <td>Adult</td>\n",
       "    </tr>\n",
       "    <tr>\n",
       "      <th>32668</th>\n",
       "      <td>F</td>\n",
       "      <td>35</td>\n",
       "      <td>0</td>\n",
       "      <td>0</td>\n",
       "      <td>0</td>\n",
       "      <td>0</td>\n",
       "      <td>0</td>\n",
       "      <td>1</td>\n",
       "      <td>0</td>\n",
       "      <td>3</td>\n",
       "      <td>1</td>\n",
       "      <td>Young Adult</td>\n",
       "    </tr>\n",
       "    <tr>\n",
       "      <th>45250</th>\n",
       "      <td>F</td>\n",
       "      <td>26</td>\n",
       "      <td>0</td>\n",
       "      <td>0</td>\n",
       "      <td>0</td>\n",
       "      <td>0</td>\n",
       "      <td>0</td>\n",
       "      <td>0</td>\n",
       "      <td>1</td>\n",
       "      <td>22</td>\n",
       "      <td>3</td>\n",
       "      <td>Young Adult</td>\n",
       "    </tr>\n",
       "    <tr>\n",
       "      <th>35705</th>\n",
       "      <td>F</td>\n",
       "      <td>14</td>\n",
       "      <td>0</td>\n",
       "      <td>0</td>\n",
       "      <td>0</td>\n",
       "      <td>0</td>\n",
       "      <td>0</td>\n",
       "      <td>1</td>\n",
       "      <td>0</td>\n",
       "      <td>3</td>\n",
       "      <td>0</td>\n",
       "      <td>Youth</td>\n",
       "    </tr>\n",
       "  </tbody>\n",
       "</table>\n",
       "</div>"
      ],
      "text/plain": [
       "      Gender  Age  Scholarship  Hipertension  Diabetes  Alcoholism  Handicap  \\\n",
       "23541      F   31            0             0         0           0         0   \n",
       "20225      F   48            0             0         0           0         0   \n",
       "24160      F   15            1             0         0           0         0   \n",
       "1665       F   40            0             0         0           0         0   \n",
       "39846      F   43            0             0         0           0         0   \n",
       "50984      F   15            0             0         0           0         0   \n",
       "14752      F   45            0             0         0           0         0   \n",
       "32668      F   35            0             0         0           0         0   \n",
       "45250      F   26            0             0         0           0         0   \n",
       "35705      F   14            0             0         0           0         0   \n",
       "\n",
       "       SMS_received  No-show  Days_Between  Day_Num    Age Group  \n",
       "23541             1        0            10        4  Young Adult  \n",
       "20225             0        0            22        2        Adult  \n",
       "24160             0        0            20        0        Youth  \n",
       "1665              1        1            12        0        Adult  \n",
       "39846             0        0             6        2        Adult  \n",
       "50984             1        0             8        3        Youth  \n",
       "14752             0        0             4        0        Adult  \n",
       "32668             1        0             3        1  Young Adult  \n",
       "45250             0        1            22        3  Young Adult  \n",
       "35705             1        0             3        0        Youth  "
      ]
     },
     "execution_count": 8,
     "metadata": {},
     "output_type": "execute_result"
    }
   ],
   "source": [
    "sms_eligible_appointments_df.loc[(sms_eligible_appointments_df.Age < 19), 'Age Group'] ='Youth'\n",
    "sms_eligible_appointments_df.loc[(sms_eligible_appointments_df.Age > 18) & (sms_eligible_appointments_df.Age <= 36), 'Age Group'] ='Young Adult'\n",
    "sms_eligible_appointments_df.loc[(sms_eligible_appointments_df.Age > 36) & (sms_eligible_appointments_df.Age <= 55), 'Age Group'] ='Adult'\n",
    "sms_eligible_appointments_df.loc[(sms_eligible_appointments_df.Age > 55), 'Age Group'] = 'Older Adult and Seniors'\n",
    "sms_eligible_appointments_df.sample(10)"
   ]
  },
  {
   "cell_type": "markdown",
   "id": "182d8838",
   "metadata": {},
   "source": [
    "__A new categorical column will be added to group the 'Days_Between' column into logical bins for analysis. The maximum threshold was set at 90 and the minimum value that makes a row eligible to receive an SMS reminder is 2, 3 interval groups will be created '2 - 30', '31 - 60', and '61 - 90'.__"
   ]
  },
  {
   "cell_type": "code",
   "execution_count": 9,
   "id": "c8f846d7",
   "metadata": {},
   "outputs": [],
   "source": [
    "## Add Days-Between Bucket column to see which time interval is present most in no-show appointments\n",
    "sms_eligible_appointments_df.loc[(sms_eligible_appointments_df.Days_Between <= 30), 'Interval Group'] = '2 - 30'\n",
    "sms_eligible_appointments_df.loc[(sms_eligible_appointments_df.Days_Between > 30) & (sms_eligible_appointments_df.Days_Between <= 60), 'Interval Group'] = '31 - 60'\n",
    "sms_eligible_appointments_df.loc[(sms_eligible_appointments_df.Days_Between > 60), 'Interval Group'] = '61 - 90'"
   ]
  },
  {
   "cell_type": "code",
   "execution_count": 10,
   "id": "1d32fef0",
   "metadata": {},
   "outputs": [
    {
     "data": {
      "text/html": [
       "<div>\n",
       "<style scoped>\n",
       "    .dataframe tbody tr th:only-of-type {\n",
       "        vertical-align: middle;\n",
       "    }\n",
       "\n",
       "    .dataframe tbody tr th {\n",
       "        vertical-align: top;\n",
       "    }\n",
       "\n",
       "    .dataframe thead th {\n",
       "        text-align: right;\n",
       "    }\n",
       "</style>\n",
       "<table border=\"1\" class=\"dataframe\">\n",
       "  <thead>\n",
       "    <tr style=\"text-align: right;\">\n",
       "      <th></th>\n",
       "      <th>Gender</th>\n",
       "      <th>Age</th>\n",
       "      <th>Scholarship</th>\n",
       "      <th>Hipertension</th>\n",
       "      <th>Diabetes</th>\n",
       "      <th>Alcoholism</th>\n",
       "      <th>Handicap</th>\n",
       "      <th>SMS_received</th>\n",
       "      <th>No-show</th>\n",
       "      <th>Days_Between</th>\n",
       "      <th>Day_Num</th>\n",
       "      <th>Age Group</th>\n",
       "      <th>Interval Group</th>\n",
       "    </tr>\n",
       "  </thead>\n",
       "  <tbody>\n",
       "    <tr>\n",
       "      <th>46560</th>\n",
       "      <td>M</td>\n",
       "      <td>0</td>\n",
       "      <td>0</td>\n",
       "      <td>0</td>\n",
       "      <td>0</td>\n",
       "      <td>0</td>\n",
       "      <td>0</td>\n",
       "      <td>1</td>\n",
       "      <td>1</td>\n",
       "      <td>5</td>\n",
       "      <td>0</td>\n",
       "      <td>Youth</td>\n",
       "      <td>2 - 30</td>\n",
       "    </tr>\n",
       "    <tr>\n",
       "      <th>32888</th>\n",
       "      <td>F</td>\n",
       "      <td>52</td>\n",
       "      <td>0</td>\n",
       "      <td>0</td>\n",
       "      <td>0</td>\n",
       "      <td>0</td>\n",
       "      <td>0</td>\n",
       "      <td>1</td>\n",
       "      <td>0</td>\n",
       "      <td>11</td>\n",
       "      <td>0</td>\n",
       "      <td>Adult</td>\n",
       "      <td>2 - 30</td>\n",
       "    </tr>\n",
       "    <tr>\n",
       "      <th>42761</th>\n",
       "      <td>F</td>\n",
       "      <td>33</td>\n",
       "      <td>0</td>\n",
       "      <td>0</td>\n",
       "      <td>0</td>\n",
       "      <td>0</td>\n",
       "      <td>0</td>\n",
       "      <td>1</td>\n",
       "      <td>0</td>\n",
       "      <td>5</td>\n",
       "      <td>1</td>\n",
       "      <td>Young Adult</td>\n",
       "      <td>2 - 30</td>\n",
       "    </tr>\n",
       "    <tr>\n",
       "      <th>46300</th>\n",
       "      <td>F</td>\n",
       "      <td>66</td>\n",
       "      <td>0</td>\n",
       "      <td>1</td>\n",
       "      <td>0</td>\n",
       "      <td>0</td>\n",
       "      <td>0</td>\n",
       "      <td>1</td>\n",
       "      <td>0</td>\n",
       "      <td>27</td>\n",
       "      <td>2</td>\n",
       "      <td>Older Adult and Seniors</td>\n",
       "      <td>2 - 30</td>\n",
       "    </tr>\n",
       "    <tr>\n",
       "      <th>7309</th>\n",
       "      <td>M</td>\n",
       "      <td>49</td>\n",
       "      <td>0</td>\n",
       "      <td>0</td>\n",
       "      <td>1</td>\n",
       "      <td>0</td>\n",
       "      <td>0</td>\n",
       "      <td>1</td>\n",
       "      <td>1</td>\n",
       "      <td>14</td>\n",
       "      <td>2</td>\n",
       "      <td>Adult</td>\n",
       "      <td>2 - 30</td>\n",
       "    </tr>\n",
       "    <tr>\n",
       "      <th>27811</th>\n",
       "      <td>F</td>\n",
       "      <td>13</td>\n",
       "      <td>0</td>\n",
       "      <td>0</td>\n",
       "      <td>0</td>\n",
       "      <td>0</td>\n",
       "      <td>0</td>\n",
       "      <td>1</td>\n",
       "      <td>0</td>\n",
       "      <td>27</td>\n",
       "      <td>1</td>\n",
       "      <td>Youth</td>\n",
       "      <td>2 - 30</td>\n",
       "    </tr>\n",
       "    <tr>\n",
       "      <th>10726</th>\n",
       "      <td>F</td>\n",
       "      <td>56</td>\n",
       "      <td>0</td>\n",
       "      <td>0</td>\n",
       "      <td>0</td>\n",
       "      <td>0</td>\n",
       "      <td>0</td>\n",
       "      <td>0</td>\n",
       "      <td>0</td>\n",
       "      <td>4</td>\n",
       "      <td>2</td>\n",
       "      <td>Older Adult and Seniors</td>\n",
       "      <td>2 - 30</td>\n",
       "    </tr>\n",
       "    <tr>\n",
       "      <th>42766</th>\n",
       "      <td>F</td>\n",
       "      <td>40</td>\n",
       "      <td>0</td>\n",
       "      <td>0</td>\n",
       "      <td>0</td>\n",
       "      <td>0</td>\n",
       "      <td>0</td>\n",
       "      <td>0</td>\n",
       "      <td>0</td>\n",
       "      <td>26</td>\n",
       "      <td>0</td>\n",
       "      <td>Adult</td>\n",
       "      <td>2 - 30</td>\n",
       "    </tr>\n",
       "    <tr>\n",
       "      <th>36957</th>\n",
       "      <td>F</td>\n",
       "      <td>27</td>\n",
       "      <td>0</td>\n",
       "      <td>0</td>\n",
       "      <td>0</td>\n",
       "      <td>0</td>\n",
       "      <td>0</td>\n",
       "      <td>0</td>\n",
       "      <td>1</td>\n",
       "      <td>2</td>\n",
       "      <td>0</td>\n",
       "      <td>Young Adult</td>\n",
       "      <td>2 - 30</td>\n",
       "    </tr>\n",
       "    <tr>\n",
       "      <th>6743</th>\n",
       "      <td>F</td>\n",
       "      <td>43</td>\n",
       "      <td>0</td>\n",
       "      <td>0</td>\n",
       "      <td>0</td>\n",
       "      <td>0</td>\n",
       "      <td>0</td>\n",
       "      <td>1</td>\n",
       "      <td>0</td>\n",
       "      <td>13</td>\n",
       "      <td>0</td>\n",
       "      <td>Adult</td>\n",
       "      <td>2 - 30</td>\n",
       "    </tr>\n",
       "  </tbody>\n",
       "</table>\n",
       "</div>"
      ],
      "text/plain": [
       "      Gender  Age  Scholarship  Hipertension  Diabetes  Alcoholism  Handicap  \\\n",
       "46560      M    0            0             0         0           0         0   \n",
       "32888      F   52            0             0         0           0         0   \n",
       "42761      F   33            0             0         0           0         0   \n",
       "46300      F   66            0             1         0           0         0   \n",
       "7309       M   49            0             0         1           0         0   \n",
       "27811      F   13            0             0         0           0         0   \n",
       "10726      F   56            0             0         0           0         0   \n",
       "42766      F   40            0             0         0           0         0   \n",
       "36957      F   27            0             0         0           0         0   \n",
       "6743       F   43            0             0         0           0         0   \n",
       "\n",
       "       SMS_received  No-show  Days_Between  Day_Num                Age Group  \\\n",
       "46560             1        1             5        0                    Youth   \n",
       "32888             1        0            11        0                    Adult   \n",
       "42761             1        0             5        1              Young Adult   \n",
       "46300             1        0            27        2  Older Adult and Seniors   \n",
       "7309              1        1            14        2                    Adult   \n",
       "27811             1        0            27        1                    Youth   \n",
       "10726             0        0             4        2  Older Adult and Seniors   \n",
       "42766             0        0            26        0                    Adult   \n",
       "36957             0        1             2        0              Young Adult   \n",
       "6743              1        0            13        0                    Adult   \n",
       "\n",
       "      Interval Group  \n",
       "46560         2 - 30  \n",
       "32888         2 - 30  \n",
       "42761         2 - 30  \n",
       "46300         2 - 30  \n",
       "7309          2 - 30  \n",
       "27811         2 - 30  \n",
       "10726         2 - 30  \n",
       "42766         2 - 30  \n",
       "36957         2 - 30  \n",
       "6743          2 - 30  "
      ]
     },
     "execution_count": 10,
     "metadata": {},
     "output_type": "execute_result"
    }
   ],
   "source": [
    "# visually inspect a sample to make sure column was added and persists as well as values appear correct\n",
    "sms_eligible_appointments_df.sample(10)"
   ]
  },
  {
   "cell_type": "code",
   "execution_count": 11,
   "id": "47a1eded",
   "metadata": {},
   "outputs": [
    {
     "data": {
      "text/plain": [
       "<AxesSubplot:ylabel='Frequency'>"
      ]
     },
     "execution_count": 11,
     "metadata": {},
     "output_type": "execute_result"
    },
    {
     "data": {
      "image/png": "[encoded data removed]",
      "text/plain": [
       "<Figure size 500x500 with 1 Axes>"
      ]
     },
     "metadata": {},
     "output_type": "display_data"
    }
   ],
   "source": [
    "sms_eligible_appointments_df.Age.plot(kind='hist', figsize=(5,5), color = 'red')"
   ]
  },
  {
   "cell_type": "code",
   "execution_count": 12,
   "id": "964e3bf7",
   "metadata": {},
   "outputs": [
    {
     "name": "stdout",
     "output_type": "stream",
     "text": [
      "37.0 is the median age.\n"
     ]
    }
   ],
   "source": [
    "age_median = sms_eligible_appointments_df.Age.median()\n",
    "print('{} is the median age.'.format(age_median))"
   ]
  },
  {
   "cell_type": "code",
   "execution_count": null,
   "id": "0b7924aa",
   "metadata": {},
   "outputs": [],
   "source": []
  },
  {
   "cell_type": "code",
   "execution_count": 13,
   "id": "5fa04e9a",
   "metadata": {
    "scrolled": true
   },
   "outputs": [
    {
     "data": {
      "text/plain": [
       "<AxesSubplot:ylabel='Frequency'>"
      ]
     },
     "execution_count": 13,
     "metadata": {},
     "output_type": "execute_result"
    },
    {
     "data": {
      "image/png": "[encoded data removed]",
      "text/plain": [
       "<Figure size 500x300 with 1 Axes>"
      ]
     },
     "metadata": {},
     "output_type": "display_data"
    }
   ],
   "source": [
    "sms_eligible_appointments_df.Days_Between.plot(kind='hist', figsize=(5,3), color='blue')"
   ]
  },
  {
   "cell_type": "code",
   "execution_count": 14,
   "id": "d8874fb1",
   "metadata": {},
   "outputs": [
    {
     "name": "stdout",
     "output_type": "stream",
     "text": [
      "33.13% of SMS-eligible appointments were for male patients.\n",
      "66.87% of SMS-eligible appointments were for female patients.\n"
     ]
    }
   ],
   "source": [
    "# calculate percent each gender makes up of SMS-eligible row\n",
    "sms_eligible_male_percent = column_percentage_calculator(sms_eligible_appointments_df, 'Gender', 'M')\n",
    "sms_eligible_female_percent = column_percentage_calculator(sms_eligible_appointments_df, 'Gender', 'F')\n",
    "print('{}% of SMS-eligible appointments were for male patients.'.format(round(sms_eligible_male_percent, 2)))\n",
    "print('{}% of SMS-eligible appointments were for female patients.'.format(round(sms_eligible_female_percent, 2)))"
   ]
  },
  {
   "cell_type": "code",
   "execution_count": 15,
   "id": "bcad59a3",
   "metadata": {},
   "outputs": [
    {
     "data": {
      "text/plain": [
       "Text(0.5, 1.0, 'No-Show Gender Percentage')"
      ]
     },
     "execution_count": 15,
     "metadata": {},
     "output_type": "execute_result"
    },
    {
     "data": {
      "image/png": "[encoded data removed]",
      "text/plain": [
       "<Figure size 640x480 with 1 Axes>"
      ]
     },
     "metadata": {},
     "output_type": "display_data"
    }
   ],
   "source": [
    "# visualize gender binary distribution\n",
    "gender_percents = [sms_eligible_male_percent, sms_eligible_female_percent]\n",
    "labels = ['Male', 'Female']\n",
    "\n",
    "fig, ax = plt.subplots()\n",
    "ax.pie(gender_percents, labels = labels)\n",
    "ax.set_title('No-Show Gender Percentage')"
   ]
  },
  {
   "cell_type": "code",
   "execution_count": 16,
   "id": "c30ea25a",
   "metadata": {},
   "outputs": [
    {
     "name": "stdout",
     "output_type": "stream",
     "text": [
      "Percentage of SMS-Eligible appointments scheduled between 2 and 30 days out ---> 84.05%\n",
      "Percentage of SMS-Eligible appointments scheduled between 31 and 60 days out ---> 12.95%\n",
      "Percentage of SMS-Eligible appointments scheduled between 61 and 90 days out ---> 3.0%\n"
     ]
    }
   ],
   "source": [
    "two_to_thirty_percentage = column_percentage_calculator(sms_eligible_appointments_df, 'Interval Group', '2 - 30')\n",
    "num_thirtyone_to_sixty_percentage = column_percentage_calculator(sms_eligible_appointments_df, 'Interval Group', '31 - 60')\n",
    "num_sixtyone_to_ninety_percentage = column_percentage_calculator(sms_eligible_appointments_df, 'Interval Group', '61 - 90')\n",
    "\n",
    "print('Percentage of SMS-Eligible appointments scheduled between 2 and 30 days out ---> {}%'.format(round(two_to_thirty_percentage,2)))\n",
    "print('Percentage of SMS-Eligible appointments scheduled between 31 and 60 days out ---> {}%'.format(round(num_thirtyone_to_sixty_percentage, 2)))\n",
    "print('Percentage of SMS-Eligible appointments scheduled between 61 and 90 days out ---> {}%'.format(round(num_sixtyone_to_ninety_percentage, 2)))"
   ]
  },
  {
   "cell_type": "code",
   "execution_count": 17,
   "id": "0b915412",
   "metadata": {},
   "outputs": [
    {
     "data": {
      "text/plain": [
       "<AxesSubplot:>"
      ]
     },
     "execution_count": 17,
     "metadata": {},
     "output_type": "execute_result"
    },
    {
     "data": {
      "image/png": "[encoded data removed]",
      "text/plain": [
       "<Figure size 500x300 with 1 Axes>"
      ]
     },
     "metadata": {},
     "output_type": "display_data"
    }
   ],
   "source": [
    "sms_eligible_appointments_df['Interval Group'].value_counts().plot(kind='bar', figsize =(5,3), color='green')"
   ]
  },
  {
   "cell_type": "code",
   "execution_count": 18,
   "id": "6b7a168c",
   "metadata": {},
   "outputs": [
    {
     "name": "stdout",
     "output_type": "stream",
     "text": [
      "Percentage of SMS-Eligible appointments for Youths 24.77%\n",
      "Percentage of SMS-Eligible appointments for Young Adults 24.07%\n",
      "Percentage of SMS-Eligible appointments for Adults 26.11%\n",
      "Percentage of SMS-Eligible appointments for Older Adults and Seniors 25.05%\n"
     ]
    }
   ],
   "source": [
    "# calculate percentage for age group categorical column values\n",
    "sms_eligible_youth_percentage = column_percentage_calculator(sms_eligible_appointments_df, 'Age Group', 'Youth')\n",
    "sms_eligible_young_adult_percentage = column_percentage_calculator(sms_eligible_appointments_df, 'Age Group', 'Young Adult')\n",
    "sms_eligible_adult_percentage = column_percentage_calculator(sms_eligible_appointments_df, 'Age Group', 'Adult')\n",
    "sms_eligible_older_adult_percentage = column_percentage_calculator(sms_eligible_appointments_df, 'Age Group', 'Older Adult and Seniors')\n",
    "\n",
    "print('Percentage of SMS-Eligible appointments for Youths {}%'.format(round(sms_eligible_youth_percentage, 2)))\n",
    "print('Percentage of SMS-Eligible appointments for Young Adults {}%'.format(round(sms_eligible_young_adult_percentage, 2)))\n",
    "print('Percentage of SMS-Eligible appointments for Adults {}%'.format(round(sms_eligible_adult_percentage, 2)))\n",
    "print('Percentage of SMS-Eligible appointments for Older Adults and Seniors {}%'.format(round(sms_eligible_older_adult_percentage, 2)))"
   ]
  },
  {
   "cell_type": "code",
   "execution_count": 19,
   "id": "a09d5075",
   "metadata": {},
   "outputs": [
    {
     "data": {
      "text/plain": [
       "<AxesSubplot:>"
      ]
     },
     "execution_count": 19,
     "metadata": {},
     "output_type": "execute_result"
    },
    {
     "data": {
      "image/png": "[encoded data removed]",
      "text/plain": [
       "<Figure size 700x500 with 1 Axes>"
      ]
     },
     "metadata": {},
     "output_type": "display_data"
    }
   ],
   "source": [
    "# create basic viz for age brackets/buckets\n",
    "sms_eligible_appointments_df['Age Group'].value_counts().plot(kind='bar', figsize=(7,5), color='red')"
   ]
  },
  {
   "cell_type": "markdown",
   "id": "398bd377",
   "metadata": {},
   "source": [
    "__As each 'condition' is it's own column and the values are only binary (0 for no, 1 for yes), the percentages for these variables WRT total of all SMS-Eligible rows was obtained from the .describe() command and its output above. These values and respective labels will be used to visualize these variables on a bar graph.__"
   ]
  },
  {
   "cell_type": "code",
   "execution_count": 20,
   "id": "a73c85a7",
   "metadata": {},
   "outputs": [
    {
     "data": {
      "text/plain": [
       "[Text(0, 0, 'Handicap'),\n",
       " Text(1, 0, 'Alcoholism'),\n",
       " Text(2, 0, 'Diabetes'),\n",
       " Text(3, 0, 'Scholarship Program'),\n",
       " Text(4, 0, 'Hypertension')]"
      ]
     },
     "execution_count": 20,
     "metadata": {},
     "output_type": "execute_result"
    },
    {
     "data": {
      "image/png": "[encoded data removed]",
      "text/plain": [
       "<Figure size 500x500 with 1 Axes>"
      ]
     },
     "metadata": {},
     "output_type": "display_data"
    }
   ],
   "source": [
    "# create pandas series to graph and list of respective labels\n",
    "condition_percents = pd.Series([1.48, 2.59, 6.75, 9.6, 19.54])\n",
    "labels = ['Handicap', 'Alcoholism', 'Diabetes', 'Scholarship Program', 'Hypertension']\n",
    "\n",
    "\n",
    "# plot graph of variable condition percentages\n",
    "plt.figure(figsize=(5,5))\n",
    "ax = condition_percents.plot(kind='bar')\n",
    "ax.set_title('Variable Condition Percents of SMS-Eligible Appointments')\n",
    "ax.set_xlabel('Variable Conditions in SMS-Eligible Appointments Data Set')\n",
    "ax.set_ylabel('Percent of Total Data Set')\n",
    "ax.set_xticklabels(labels, rotation=45, ha='right')"
   ]
  },
  {
   "cell_type": "markdown",
   "id": "1aa8d117",
   "metadata": {},
   "source": [
    "# ALL_SMS_ELIGIBLE_ROWS GENERAL STATS\n",
    "\n",
    "__We can see from the descriptive statistics in the cell above that for all sms-eligible rows:__\n",
    "- __29.67% of SMS-Eligible Rows NO SHOW\n",
    "- __70.33% of SMS-Eligible Rows PRESENTED\n",
    "- __The average age is 37.5.__\n",
    "- __The median age is 37.0__\n",
    "- __The average time between the ScheduledDay and AppointmentDay is 17 days.__\n",
    "- __59.12% of SMS-Eligible appointments received a SMS reminder.__\n",
    "- __40.87% of SMS-Eligible appointments DID NOT receive a SMS reminder.__\n",
    "- __Approximately 9.6% of SMS-Eligible appointments are for patients enrolled in the 'scholarship' program (explained earlier in analysis).__\n",
    "- __Approximately 19.54% of SMS-Eligible appointments are for patients suffering from hipertension (hypertension).__\n",
    "- __Approximately 6.75% of SMS-Eligible appointments are for patients suffering from diabetes.__\n",
    "- __Approximately 2.59% of SMS-Eligible appointments are for patients suffering from alcoholism.__\n",
    "- __Approximately 1.48% of SMS-Eligible appointments are for patients identifying as handicapped.__\n",
    "- __Approximately 33.13% of all SMS-reminder eligible rows were for appointments for male patients.__\n",
    "- __Approximately 66.87% of all SMS-reminder elibible rows were for appointments for female patients.__\n",
    "- __Approximately 24.77% of SMS-Eligible appointments for Youths.__\n",
    "- __Approximately 24.07% of SMS-Eligible appointments for Young Adults.__ \n",
    "- __Approximately 26.11% of SMS-Eligible appointments for Adults.__\n",
    "- __Approximately 25.05% of SMS-Eligible appointments for Older Adults and Seniors.__ \n",
    "- __Approximately 84.05% of SMS-Eligible appointments were scheduled between 2 and 30 days out.__\n",
    "- __Approximately 12.95% of SMS-Eligible appointments scheduled between 31 and 60 days out.__\n",
    "- __Approximately 3.0% of SMS-Eligible appointments scheduled between 61 and 90 days out.__\n"
   ]
  },
  {
   "cell_type": "markdown",
   "id": "0c3237be",
   "metadata": {},
   "source": [
    "# From here we need to create 2 new csvs from our cleaned and wrangled data set for ALL SMS ELIGIBLE ROWS. \n",
    "\n",
    "# One csv (1 of 2) will be filtered on the condition whether the appointment for which the patient WAS ELIGIBLE TO RECEIVE AN SMS REMINDER, BUT DID NOT RECEIVE AN SMS REMINDER.\n",
    "\n",
    "# The second csv (2 of 2) will be filtered on the condition whether the appointment for which the patient WAS ELIGIBLE TO RECEIVE AN SMS REMINDER, AND DID, IN FACT, RECEIVE A SMS REMINDER."
   ]
  },
  {
   "cell_type": "code",
   "execution_count": 21,
   "id": "a3df9972",
   "metadata": {},
   "outputs": [],
   "source": [
    "sms_eligible_not_receive_df = sms_eligible_appointments_df.loc[(sms_eligible_appointments_df.SMS_received == 0)]\n",
    "sms_eligible_did_receive_df = sms_eligible_appointments_df.loc[(sms_eligible_appointments_df.SMS_received == 1)]"
   ]
  },
  {
   "cell_type": "code",
   "execution_count": 22,
   "id": "3eee0f33",
   "metadata": {},
   "outputs": [
    {
     "name": "stdout",
     "output_type": "stream",
     "text": [
      "<class 'pandas.core.frame.DataFrame'>\n",
      "Int64Index: 24427 entries, 18 to 59744\n",
      "Data columns (total 13 columns):\n",
      " #   Column          Non-Null Count  Dtype \n",
      "---  ------          --------------  ----- \n",
      " 0   Gender          24427 non-null  object\n",
      " 1   Age             24427 non-null  int64 \n",
      " 2   Scholarship     24427 non-null  int64 \n",
      " 3   Hipertension    24427 non-null  int64 \n",
      " 4   Diabetes        24427 non-null  int64 \n",
      " 5   Alcoholism      24427 non-null  int64 \n",
      " 6   Handicap        24427 non-null  int64 \n",
      " 7   SMS_received    24427 non-null  int64 \n",
      " 8   No-show         24427 non-null  int64 \n",
      " 9   Days_Between    24427 non-null  int64 \n",
      " 10  Day_Num         24427 non-null  int64 \n",
      " 11  Age Group       24427 non-null  object\n",
      " 12  Interval Group  24427 non-null  object\n",
      "dtypes: int64(10), object(3)\n",
      "memory usage: 2.6+ MB\n"
     ]
    }
   ],
   "source": [
    "sms_eligible_not_receive_df.info()"
   ]
  },
  {
   "cell_type": "code",
   "execution_count": 23,
   "id": "de9e382e",
   "metadata": {},
   "outputs": [
    {
     "name": "stdout",
     "output_type": "stream",
     "text": [
      "<class 'pandas.core.frame.DataFrame'>\n",
      "Int64Index: 35327 entries, 0 to 59753\n",
      "Data columns (total 13 columns):\n",
      " #   Column          Non-Null Count  Dtype \n",
      "---  ------          --------------  ----- \n",
      " 0   Gender          35327 non-null  object\n",
      " 1   Age             35327 non-null  int64 \n",
      " 2   Scholarship     35327 non-null  int64 \n",
      " 3   Hipertension    35327 non-null  int64 \n",
      " 4   Diabetes        35327 non-null  int64 \n",
      " 5   Alcoholism      35327 non-null  int64 \n",
      " 6   Handicap        35327 non-null  int64 \n",
      " 7   SMS_received    35327 non-null  int64 \n",
      " 8   No-show         35327 non-null  int64 \n",
      " 9   Days_Between    35327 non-null  int64 \n",
      " 10  Day_Num         35327 non-null  int64 \n",
      " 11  Age Group       35327 non-null  object\n",
      " 12  Interval Group  35327 non-null  object\n",
      "dtypes: int64(10), object(3)\n",
      "memory usage: 3.8+ MB\n"
     ]
    }
   ],
   "source": [
    "sms_eligible_did_receive_df.info()"
   ]
  },
  {
   "cell_type": "code",
   "execution_count": 24,
   "id": "853cbeab",
   "metadata": {},
   "outputs": [],
   "source": [
    "# # save csv file of those Eligible but who DID RECEIVE REMINDER for further separate analysis\n",
    "# sms_eligible_did_receive_df.to_csv(os.path.join('SMS_Eligible_Received_SMS', 'sms_eligible_did_receive.csv'), index=False)"
   ]
  },
  {
   "cell_type": "code",
   "execution_count": 25,
   "id": "2a9ea440",
   "metadata": {},
   "outputs": [],
   "source": [
    "# # save csv file of those Eligible but who DID NOT RECEIVE REMINDER for further separate analysis\n",
    "# sms_eligible_not_receive_df.to_csv(os.path.join('SMS_Eligible_Did_Not_Receive_SMS', 'sms_eligible_not_receive.csv'), index=False)"
   ]
  },
  {
   "cell_type": "code",
   "execution_count": 26,
   "id": "ce6d1fb0",
   "metadata": {},
   "outputs": [
    {
     "data": {
      "text/plain": [
       "['.ipynb_checkpoints',\n",
       " 'SMS_Eligible_Did_Not_Receive_SMS',\n",
       " 'SMS_Eligible_Received_SMS',\n",
       " 'SMS_Eligible_Total_All_Rows_Analysis.ipynb',\n",
       " 'sms_reminder_eligible_clean.csv']"
      ]
     },
     "execution_count": 26,
     "metadata": {},
     "output_type": "execute_result"
    }
   ],
   "source": [
    "os.listdir()"
   ]
  },
  {
   "cell_type": "markdown",
   "id": "f36c4ec7",
   "metadata": {},
   "source": [
    "# This concludes the additional cleaning, data engineering, and EDA that was necessary on the SMS_Eligible dataset that contained all rows eligible to receive a reminder."
   ]
  },
  {
   "cell_type": "code",
   "execution_count": 27,
   "id": "1b8a55c2",
   "metadata": {},
   "outputs": [
    {
     "data": {
      "text/plain": [
       "True"
      ]
     },
     "execution_count": 27,
     "metadata": {},
     "output_type": "execute_result"
    }
   ],
   "source": [
    "1==1"
   ]
  }
 ],
 "metadata": {
  "kernelspec": {
   "display_name": "Python 3 (ipykernel)",
   "language": "python",
   "name": "python3"
  },
  "language_info": {
   "codemirror_mode": {
    "name": "ipython",
    "version": 3
   },
   "file_extension": ".py",
   "mimetype": "text/x-python",
   "name": "python",
   "nbconvert_exporter": "python",
   "pygments_lexer": "ipython3",
   "version": "3.9.13"
  }
 },
 "nbformat": 4,
 "nbformat_minor": 5
}
