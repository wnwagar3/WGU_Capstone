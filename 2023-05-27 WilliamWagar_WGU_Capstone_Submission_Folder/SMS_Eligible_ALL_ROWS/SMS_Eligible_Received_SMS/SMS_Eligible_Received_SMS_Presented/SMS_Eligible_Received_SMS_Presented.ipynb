{
 "cells": [
  {
   "cell_type": "code",
   "execution_count": 1,
   "id": "4bb98fe5",
   "metadata": {},
   "outputs": [],
   "source": [
    "# import basic libraries for dataframe usage and viz\n",
    "import numpy as np\n",
    "import pandas as pd\n",
    "import matplotlib.pyplot as plt\n",
    "import seaborn as sns\n",
    "import os"
   ]
  },
  {
   "cell_type": "code",
   "execution_count": 2,
   "id": "384e932b",
   "metadata": {},
   "outputs": [
    {
     "data": {
      "text/plain": [
       "['.ipynb_checkpoints',\n",
       " 'SMS_Eligible_Received_SMS_Presented.ipynb',\n",
       " 'sms_received_appointment_presented.csv']"
      ]
     },
     "execution_count": 2,
     "metadata": {},
     "output_type": "execute_result"
    }
   ],
   "source": [
    "## remove this cell before submitting\n",
    "\n",
    "os.listdir()"
   ]
  },
  {
   "cell_type": "code",
   "execution_count": 3,
   "id": "716835ce",
   "metadata": {},
   "outputs": [],
   "source": [
    "# this function will greatly simplify getting percentages based on condition\n",
    "# this can be used as a template if you want to change the equality operator to inequality (>,<, etc..)\n",
    "def column_percentage_calculator(df, column_name, condition):\n",
    "    total_rows = df.shape[0]\n",
    "    num_matched_rows = len(df.loc[(df[column_name] == condition)])\n",
    "    percentage_matches_condition = (num_matched_rows / total_rows) * 100\n",
    "    return percentage_matches_condition"
   ]
  },
  {
   "cell_type": "markdown",
   "id": "910397c1",
   "metadata": {},
   "source": [
    "## It can be assumed that each row that is in data frame was eligible to receive a SMS reminder as the csv it is based on contains only rows from the original dataset that were eligible to recieve SMS reminders."
   ]
  },
  {
   "cell_type": "code",
   "execution_count": 4,
   "id": "612c464c",
   "metadata": {},
   "outputs": [
    {
     "data": {
      "text/html": [
       "<div>\n",
       "<style scoped>\n",
       "    .dataframe tbody tr th:only-of-type {\n",
       "        vertical-align: middle;\n",
       "    }\n",
       "\n",
       "    .dataframe tbody tr th {\n",
       "        vertical-align: top;\n",
       "    }\n",
       "\n",
       "    .dataframe thead th {\n",
       "        text-align: right;\n",
       "    }\n",
       "</style>\n",
       "<table border=\"1\" class=\"dataframe\">\n",
       "  <thead>\n",
       "    <tr style=\"text-align: right;\">\n",
       "      <th></th>\n",
       "      <th>Gender</th>\n",
       "      <th>Age</th>\n",
       "      <th>Scholarship</th>\n",
       "      <th>Hipertension</th>\n",
       "      <th>Diabetes</th>\n",
       "      <th>Alcoholism</th>\n",
       "      <th>Handicap</th>\n",
       "      <th>SMS_received</th>\n",
       "      <th>No-show</th>\n",
       "      <th>Days_Between</th>\n",
       "      <th>Day_Num</th>\n",
       "      <th>Age Group</th>\n",
       "      <th>Interval Group</th>\n",
       "    </tr>\n",
       "  </thead>\n",
       "  <tbody>\n",
       "    <tr>\n",
       "      <th>0</th>\n",
       "      <td>F</td>\n",
       "      <td>15</td>\n",
       "      <td>0</td>\n",
       "      <td>0</td>\n",
       "      <td>0</td>\n",
       "      <td>0</td>\n",
       "      <td>0</td>\n",
       "      <td>1</td>\n",
       "      <td>0</td>\n",
       "      <td>2</td>\n",
       "      <td>4</td>\n",
       "      <td>Youth</td>\n",
       "      <td>2 - 30</td>\n",
       "    </tr>\n",
       "    <tr>\n",
       "      <th>1</th>\n",
       "      <td>F</td>\n",
       "      <td>30</td>\n",
       "      <td>1</td>\n",
       "      <td>0</td>\n",
       "      <td>0</td>\n",
       "      <td>0</td>\n",
       "      <td>0</td>\n",
       "      <td>1</td>\n",
       "      <td>0</td>\n",
       "      <td>2</td>\n",
       "      <td>4</td>\n",
       "      <td>Young Adult</td>\n",
       "      <td>2 - 30</td>\n",
       "    </tr>\n",
       "    <tr>\n",
       "      <th>2</th>\n",
       "      <td>M</td>\n",
       "      <td>46</td>\n",
       "      <td>0</td>\n",
       "      <td>1</td>\n",
       "      <td>0</td>\n",
       "      <td>0</td>\n",
       "      <td>0</td>\n",
       "      <td>1</td>\n",
       "      <td>0</td>\n",
       "      <td>2</td>\n",
       "      <td>4</td>\n",
       "      <td>Adult</td>\n",
       "      <td>2 - 30</td>\n",
       "    </tr>\n",
       "    <tr>\n",
       "      <th>3</th>\n",
       "      <td>F</td>\n",
       "      <td>38</td>\n",
       "      <td>1</td>\n",
       "      <td>0</td>\n",
       "      <td>0</td>\n",
       "      <td>0</td>\n",
       "      <td>0</td>\n",
       "      <td>1</td>\n",
       "      <td>0</td>\n",
       "      <td>3</td>\n",
       "      <td>4</td>\n",
       "      <td>Adult</td>\n",
       "      <td>2 - 30</td>\n",
       "    </tr>\n",
       "    <tr>\n",
       "      <th>4</th>\n",
       "      <td>M</td>\n",
       "      <td>85</td>\n",
       "      <td>0</td>\n",
       "      <td>1</td>\n",
       "      <td>0</td>\n",
       "      <td>0</td>\n",
       "      <td>0</td>\n",
       "      <td>1</td>\n",
       "      <td>0</td>\n",
       "      <td>8</td>\n",
       "      <td>4</td>\n",
       "      <td>Older Adult and Seniors</td>\n",
       "      <td>2 - 30</td>\n",
       "    </tr>\n",
       "  </tbody>\n",
       "</table>\n",
       "</div>"
      ],
      "text/plain": [
       "  Gender  Age  Scholarship  Hipertension  Diabetes  Alcoholism  Handicap  \\\n",
       "0      F   15            0             0         0           0         0   \n",
       "1      F   30            1             0         0           0         0   \n",
       "2      M   46            0             1         0           0         0   \n",
       "3      F   38            1             0         0           0         0   \n",
       "4      M   85            0             1         0           0         0   \n",
       "\n",
       "   SMS_received  No-show  Days_Between  Day_Num                Age Group  \\\n",
       "0             1        0             2        4                    Youth   \n",
       "1             1        0             2        4              Young Adult   \n",
       "2             1        0             2        4                    Adult   \n",
       "3             1        0             3        4                    Adult   \n",
       "4             1        0             8        4  Older Adult and Seniors   \n",
       "\n",
       "  Interval Group  \n",
       "0         2 - 30  \n",
       "1         2 - 30  \n",
       "2         2 - 30  \n",
       "3         2 - 30  \n",
       "4         2 - 30  "
      ]
     },
     "execution_count": 4,
     "metadata": {},
     "output_type": "execute_result"
    }
   ],
   "source": [
    "# import df with pandas and visually inspect the head \n",
    "sms_received_appointment_presented_df = pd.read_csv('sms_received_appointment_presented.csv')\n",
    "sms_received_appointment_presented_df.head()"
   ]
  },
  {
   "cell_type": "code",
   "execution_count": 5,
   "id": "8a167869",
   "metadata": {},
   "outputs": [
    {
     "data": {
      "text/html": [
       "<div>\n",
       "<style scoped>\n",
       "    .dataframe tbody tr th:only-of-type {\n",
       "        vertical-align: middle;\n",
       "    }\n",
       "\n",
       "    .dataframe tbody tr th {\n",
       "        vertical-align: top;\n",
       "    }\n",
       "\n",
       "    .dataframe thead th {\n",
       "        text-align: right;\n",
       "    }\n",
       "</style>\n",
       "<table border=\"1\" class=\"dataframe\">\n",
       "  <thead>\n",
       "    <tr style=\"text-align: right;\">\n",
       "      <th></th>\n",
       "      <th>Age</th>\n",
       "      <th>Scholarship</th>\n",
       "      <th>Hipertension</th>\n",
       "      <th>Diabetes</th>\n",
       "      <th>Alcoholism</th>\n",
       "      <th>Handicap</th>\n",
       "      <th>SMS_received</th>\n",
       "      <th>No-show</th>\n",
       "      <th>Days_Between</th>\n",
       "      <th>Day_Num</th>\n",
       "    </tr>\n",
       "  </thead>\n",
       "  <tbody>\n",
       "    <tr>\n",
       "      <th>count</th>\n",
       "      <td>25584.000000</td>\n",
       "      <td>25584.000000</td>\n",
       "      <td>25584.000000</td>\n",
       "      <td>25584.000000</td>\n",
       "      <td>25584.000000</td>\n",
       "      <td>25584.000000</td>\n",
       "      <td>25584.0</td>\n",
       "      <td>25584.0</td>\n",
       "      <td>25584.000000</td>\n",
       "      <td>25584.000000</td>\n",
       "    </tr>\n",
       "    <tr>\n",
       "      <th>mean</th>\n",
       "      <td>38.817777</td>\n",
       "      <td>0.090252</td>\n",
       "      <td>0.205754</td>\n",
       "      <td>0.069692</td>\n",
       "      <td>0.022240</td>\n",
       "      <td>0.013954</td>\n",
       "      <td>1.0</td>\n",
       "      <td>0.0</td>\n",
       "      <td>17.329151</td>\n",
       "      <td>1.676087</td>\n",
       "    </tr>\n",
       "    <tr>\n",
       "      <th>std</th>\n",
       "      <td>22.590680</td>\n",
       "      <td>0.286548</td>\n",
       "      <td>0.404259</td>\n",
       "      <td>0.254632</td>\n",
       "      <td>0.147468</td>\n",
       "      <td>0.117302</td>\n",
       "      <td>0.0</td>\n",
       "      <td>0.0</td>\n",
       "      <td>15.814378</td>\n",
       "      <td>1.269106</td>\n",
       "    </tr>\n",
       "    <tr>\n",
       "      <th>min</th>\n",
       "      <td>0.000000</td>\n",
       "      <td>0.000000</td>\n",
       "      <td>0.000000</td>\n",
       "      <td>0.000000</td>\n",
       "      <td>0.000000</td>\n",
       "      <td>0.000000</td>\n",
       "      <td>1.0</td>\n",
       "      <td>0.0</td>\n",
       "      <td>2.000000</td>\n",
       "      <td>0.000000</td>\n",
       "    </tr>\n",
       "    <tr>\n",
       "      <th>25%</th>\n",
       "      <td>20.000000</td>\n",
       "      <td>0.000000</td>\n",
       "      <td>0.000000</td>\n",
       "      <td>0.000000</td>\n",
       "      <td>0.000000</td>\n",
       "      <td>0.000000</td>\n",
       "      <td>1.0</td>\n",
       "      <td>0.0</td>\n",
       "      <td>5.000000</td>\n",
       "      <td>1.000000</td>\n",
       "    </tr>\n",
       "    <tr>\n",
       "      <th>50%</th>\n",
       "      <td>40.000000</td>\n",
       "      <td>0.000000</td>\n",
       "      <td>0.000000</td>\n",
       "      <td>0.000000</td>\n",
       "      <td>0.000000</td>\n",
       "      <td>0.000000</td>\n",
       "      <td>1.0</td>\n",
       "      <td>0.0</td>\n",
       "      <td>13.000000</td>\n",
       "      <td>2.000000</td>\n",
       "    </tr>\n",
       "    <tr>\n",
       "      <th>75%</th>\n",
       "      <td>57.000000</td>\n",
       "      <td>0.000000</td>\n",
       "      <td>0.000000</td>\n",
       "      <td>0.000000</td>\n",
       "      <td>0.000000</td>\n",
       "      <td>0.000000</td>\n",
       "      <td>1.0</td>\n",
       "      <td>0.0</td>\n",
       "      <td>26.000000</td>\n",
       "      <td>3.000000</td>\n",
       "    </tr>\n",
       "    <tr>\n",
       "      <th>max</th>\n",
       "      <td>98.000000</td>\n",
       "      <td>1.000000</td>\n",
       "      <td>1.000000</td>\n",
       "      <td>1.000000</td>\n",
       "      <td>1.000000</td>\n",
       "      <td>1.000000</td>\n",
       "      <td>1.0</td>\n",
       "      <td>0.0</td>\n",
       "      <td>90.000000</td>\n",
       "      <td>5.000000</td>\n",
       "    </tr>\n",
       "  </tbody>\n",
       "</table>\n",
       "</div>"
      ],
      "text/plain": [
       "                Age   Scholarship  Hipertension      Diabetes    Alcoholism  \\\n",
       "count  25584.000000  25584.000000  25584.000000  25584.000000  25584.000000   \n",
       "mean      38.817777      0.090252      0.205754      0.069692      0.022240   \n",
       "std       22.590680      0.286548      0.404259      0.254632      0.147468   \n",
       "min        0.000000      0.000000      0.000000      0.000000      0.000000   \n",
       "25%       20.000000      0.000000      0.000000      0.000000      0.000000   \n",
       "50%       40.000000      0.000000      0.000000      0.000000      0.000000   \n",
       "75%       57.000000      0.000000      0.000000      0.000000      0.000000   \n",
       "max       98.000000      1.000000      1.000000      1.000000      1.000000   \n",
       "\n",
       "           Handicap  SMS_received  No-show  Days_Between       Day_Num  \n",
       "count  25584.000000       25584.0  25584.0  25584.000000  25584.000000  \n",
       "mean       0.013954           1.0      0.0     17.329151      1.676087  \n",
       "std        0.117302           0.0      0.0     15.814378      1.269106  \n",
       "min        0.000000           1.0      0.0      2.000000      0.000000  \n",
       "25%        0.000000           1.0      0.0      5.000000      1.000000  \n",
       "50%        0.000000           1.0      0.0     13.000000      2.000000  \n",
       "75%        0.000000           1.0      0.0     26.000000      3.000000  \n",
       "max        1.000000           1.0      0.0     90.000000      5.000000  "
      ]
     },
     "execution_count": 5,
     "metadata": {},
     "output_type": "execute_result"
    }
   ],
   "source": [
    "# examine df general stats\n",
    "sms_received_appointment_presented_df.describe()"
   ]
  },
  {
   "cell_type": "code",
   "execution_count": 6,
   "id": "8f086a0d",
   "metadata": {},
   "outputs": [
    {
     "name": "stdout",
     "output_type": "stream",
     "text": [
      "<class 'pandas.core.frame.DataFrame'>\n",
      "RangeIndex: 25584 entries, 0 to 25583\n",
      "Data columns (total 13 columns):\n",
      " #   Column          Non-Null Count  Dtype \n",
      "---  ------          --------------  ----- \n",
      " 0   Gender          25584 non-null  object\n",
      " 1   Age             25584 non-null  int64 \n",
      " 2   Scholarship     25584 non-null  int64 \n",
      " 3   Hipertension    25584 non-null  int64 \n",
      " 4   Diabetes        25584 non-null  int64 \n",
      " 5   Alcoholism      25584 non-null  int64 \n",
      " 6   Handicap        25584 non-null  int64 \n",
      " 7   SMS_received    25584 non-null  int64 \n",
      " 8   No-show         25584 non-null  int64 \n",
      " 9   Days_Between    25584 non-null  int64 \n",
      " 10  Day_Num         25584 non-null  int64 \n",
      " 11  Age Group       25584 non-null  object\n",
      " 12  Interval Group  25584 non-null  object\n",
      "dtypes: int64(10), object(3)\n",
      "memory usage: 2.5+ MB\n"
     ]
    }
   ],
   "source": [
    "# examine df structure\n",
    "sms_received_appointment_presented_df.info()"
   ]
  },
  {
   "cell_type": "markdown",
   "id": "eb2b281d",
   "metadata": {},
   "source": [
    "## AGE"
   ]
  },
  {
   "cell_type": "code",
   "execution_count": 7,
   "id": "73a1d61d",
   "metadata": {},
   "outputs": [
    {
     "data": {
      "text/plain": [
       "<AxesSubplot:ylabel='Frequency'>"
      ]
     },
     "execution_count": 7,
     "metadata": {},
     "output_type": "execute_result"
    },
    {
     "data": {
      "image/png": "[encoded data removed]",
      "text/plain": [
       "<Figure size 500x500 with 1 Axes>"
      ]
     },
     "metadata": {},
     "output_type": "display_data"
    }
   ],
   "source": [
    "sms_received_appointment_presented_df.Age.plot(kind='hist', figsize=(5,5), color='red')"
   ]
  },
  {
   "cell_type": "code",
   "execution_count": 8,
   "id": "08ec4b0f",
   "metadata": {},
   "outputs": [
    {
     "name": "stdout",
     "output_type": "stream",
     "text": [
      "40.0 is the median age.\n"
     ]
    }
   ],
   "source": [
    "# calculate the median age for SMS-Eligible appointments that DID RECEIVE SMS REMINDER AND PRESENTED\n",
    "age_median = sms_received_appointment_presented_df.Age.median()\n",
    "print('{} is the median age.'.format(age_median))"
   ]
  },
  {
   "cell_type": "markdown",
   "id": "49f0e5ab",
   "metadata": {},
   "source": [
    "## DAYS_BETWEEN"
   ]
  },
  {
   "cell_type": "code",
   "execution_count": 9,
   "id": "1f5e0a2f",
   "metadata": {},
   "outputs": [
    {
     "data": {
      "text/plain": [
       "<AxesSubplot:ylabel='Frequency'>"
      ]
     },
     "execution_count": 9,
     "metadata": {},
     "output_type": "execute_result"
    },
    {
     "data": {
      "image/png": "[encoded data removed]",
      "text/plain": [
       "<Figure size 500x300 with 1 Axes>"
      ]
     },
     "metadata": {},
     "output_type": "display_data"
    }
   ],
   "source": [
    "# visualize 'Days_Between' column distribution\n",
    "sms_received_appointment_presented_df.Days_Between.plot(kind='hist', figsize=(5,3), color='blue')"
   ]
  },
  {
   "cell_type": "code",
   "execution_count": 10,
   "id": "6bef0146",
   "metadata": {},
   "outputs": [
    {
     "name": "stdout",
     "output_type": "stream",
     "text": [
      "31.95% of SMS-Received and Presented appointments were for male patients.\n",
      "68.05% of SMS-Received and Presented appointments were for female patients.\n"
     ]
    }
   ],
   "source": [
    "# calculate percent each gender of 'SMS-Eligible Did-Receive SMS' rows with column_percentage_calculator already defined\n",
    "sms_eligible_did_receive_SMS_male_percent = column_percentage_calculator(sms_received_appointment_presented_df, 'Gender', 'M')\n",
    "sms_eligible_did_receive_SMS_female_percent = column_percentage_calculator(sms_received_appointment_presented_df, 'Gender', 'F')\n",
    "print('{}% of SMS-Received and Presented appointments were for male patients.'.format(round(sms_eligible_did_receive_SMS_male_percent, 2)))\n",
    "print('{}% of SMS-Received and Presented appointments were for female patients.'.format(round(sms_eligible_did_receive_SMS_female_percent, 2)))"
   ]
  },
  {
   "cell_type": "markdown",
   "id": "4ff7a65d",
   "metadata": {},
   "source": [
    "## GENDER"
   ]
  },
  {
   "cell_type": "code",
   "execution_count": 11,
   "id": "395194ee",
   "metadata": {},
   "outputs": [
    {
     "data": {
      "text/plain": [
       "Text(0.5, 1.0, 'No-Show Gender Percentage')"
      ]
     },
     "execution_count": 11,
     "metadata": {},
     "output_type": "execute_result"
    },
    {
     "data": {
      "image/png": "[encoded data removed]",
      "text/plain": [
       "<Figure size 640x480 with 1 Axes>"
      ]
     },
     "metadata": {},
     "output_type": "display_data"
    }
   ],
   "source": [
    "# visualize gender binary distribution\n",
    "gender_percents = [sms_eligible_did_receive_SMS_male_percent, sms_eligible_did_receive_SMS_female_percent ]\n",
    "labels = ['Male', 'Female']\n",
    "\n",
    "fig, ax = plt.subplots()\n",
    "ax.pie(gender_percents, labels = labels)\n",
    "ax.set_title('SMS-Received and Presented Gender Percentage')"
   ]
  },
  {
   "cell_type": "markdown",
   "id": "1236c455",
   "metadata": {},
   "source": [
    "## INTERVAL GROUP"
   ]
  },
  {
   "cell_type": "code",
   "execution_count": 12,
   "id": "4907932e",
   "metadata": {},
   "outputs": [
    {
     "name": "stdout",
     "output_type": "stream",
     "text": [
      "Percentage of SMS-Received and Presented appointments scheduled between 2 and 30 days out ---> 83.78%\n",
      "Percentage of SMS-Received and Presented scheduled between 31 and 60 days out ---> 12.9%\n",
      "Percentage of SMS-Received and Presented appointments scheduled between 61 and 90 days out ---> 3.31%\n"
     ]
    }
   ],
   "source": [
    "# obtain percentages of Interval Groups using the column_percentage_calculator function defined earlier \n",
    "two_to_thirty_percentage = column_percentage_calculator(sms_received_appointment_presented_df, 'Interval Group', '2 - 30')\n",
    "num_thirtyone_to_sixty_percentage = column_percentage_calculator(sms_received_appointment_presented_df, 'Interval Group', '31 - 60')\n",
    "num_sixtyone_to_ninety_percentage = column_percentage_calculator(sms_received_appointment_presented_df, 'Interval Group', '61 - 90')\n",
    "\n",
    "print('Percentage of SMS-Received and Presented appointments scheduled between 2 and 30 days out ---> {}%'.format(round(two_to_thirty_percentage,2)))\n",
    "print('Percentage of SMS-Received and Presented scheduled between 31 and 60 days out ---> {}%'.format(round(num_thirtyone_to_sixty_percentage, 2)))\n",
    "print('Percentage of SMS-Received and Presented appointments scheduled between 61 and 90 days out ---> {}%'.format(round(num_sixtyone_to_ninety_percentage, 2)))"
   ]
  },
  {
   "cell_type": "code",
   "execution_count": 13,
   "id": "7e3c333f",
   "metadata": {},
   "outputs": [
    {
     "data": {
      "text/plain": [
       "<AxesSubplot:>"
      ]
     },
     "execution_count": 13,
     "metadata": {},
     "output_type": "execute_result"
    },
    {
     "data": {
      "image/png": "[encoded data removed]",
      "text/plain": [
       "<Figure size 500x300 with 1 Axes>"
      ]
     },
     "metadata": {},
     "output_type": "display_data"
    }
   ],
   "source": [
    "# visualize Interval Group categorical distribution in a bar plot\n",
    "sms_received_appointment_presented_df['Interval Group'].value_counts().plot(kind='bar', figsize =(5,3), color='green')"
   ]
  },
  {
   "cell_type": "markdown",
   "id": "55cf31e8",
   "metadata": {},
   "source": [
    "## AGE BRACKETS"
   ]
  },
  {
   "cell_type": "code",
   "execution_count": 14,
   "id": "7326ce1f",
   "metadata": {},
   "outputs": [
    {
     "name": "stdout",
     "output_type": "stream",
     "text": [
      "Percentage of SMS-Received and Presented appointments for Youths 22.86%\n",
      "Percentage of SMS-Received and Presented appointments for Young Adults 22.78%\n",
      "Percentage of SMS-Received and Presented appointments for Adults 27.28%\n",
      "Percentage of SMS-Received and Presented appointments for Older Adults and Seniors 27.08%\n"
     ]
    }
   ],
   "source": [
    "# calculate percentage for age group categorical column values\n",
    "sms_eligible_youth_percentage = column_percentage_calculator(sms_received_appointment_presented_df, 'Age Group', 'Youth')\n",
    "sms_eligible_young_adult_percentage = column_percentage_calculator(sms_received_appointment_presented_df, 'Age Group', 'Young Adult')\n",
    "sms_eligible_adult_percentage = column_percentage_calculator(sms_received_appointment_presented_df, 'Age Group', 'Adult')\n",
    "sms_eligible_older_adult_percentage = column_percentage_calculator(sms_received_appointment_presented_df, 'Age Group', 'Older Adult and Seniors')\n",
    "\n",
    "print('Percentage of SMS-Received and Presented appointments for Youths {}%'.format(round(sms_eligible_youth_percentage, 2)))\n",
    "print('Percentage of SMS-Received and Presented appointments for Young Adults {}%'.format(round(sms_eligible_young_adult_percentage, 2)))\n",
    "print('Percentage of SMS-Received and Presented appointments for Adults {}%'.format(round(sms_eligible_adult_percentage, 2)))\n",
    "print('Percentage of SMS-Received and Presented appointments for Older Adults and Seniors {}%'.format(round(sms_eligible_older_adult_percentage, 2)))"
   ]
  },
  {
   "cell_type": "code",
   "execution_count": 15,
   "id": "d2e47ee6",
   "metadata": {},
   "outputs": [
    {
     "data": {
      "text/plain": [
       "<AxesSubplot:>"
      ]
     },
     "execution_count": 15,
     "metadata": {},
     "output_type": "execute_result"
    },
    {
     "data": {
      "image/png": "[encoded data removed]",
      "text/plain": [
       "<Figure size 700x500 with 1 Axes>"
      ]
     },
     "metadata": {},
     "output_type": "display_data"
    }
   ],
   "source": [
    "# create basic viz for age brackets/buckets\n",
    "sms_received_appointment_presented_df['Age Group'].value_counts().plot(kind='bar', figsize=(7,5), color='red')"
   ]
  },
  {
   "cell_type": "markdown",
   "id": "3df68a68",
   "metadata": {},
   "source": [
    "## CONDITIONS"
   ]
  },
  {
   "cell_type": "markdown",
   "id": "01643b56",
   "metadata": {},
   "source": [
    "__As each 'condition' is it's own column and the values are only binary (0 for no, 1 for yes), the percentages for these variables WRT to all ROWS THAT DID RECEIVE SMS REMINDER AND PRESENTED AT THE APPOINTMENT was obtained from the .describe() command and its output above. These values and respective labels will be used to visualize these variables on a bar graph.__"
   ]
  },
  {
   "cell_type": "code",
   "execution_count": 16,
   "id": "8f3c53aa",
   "metadata": {},
   "outputs": [
    {
     "data": {
      "text/plain": [
       "[Text(0, 0, 'Handicap'),\n",
       " Text(1, 0, 'Alcoholism'),\n",
       " Text(2, 0, 'Diabetes'),\n",
       " Text(3, 0, 'Scholarship Program'),\n",
       " Text(4, 0, 'Hypertension')]"
      ]
     },
     "execution_count": 16,
     "metadata": {},
     "output_type": "execute_result"
    },
    {
     "data": {
      "image/png": "[encoded data removed]",
      "text/plain": [
       "<Figure size 500x500 with 1 Axes>"
      ]
     },
     "metadata": {},
     "output_type": "display_data"
    }
   ],
   "source": [
    "# create pandas series to graph and list of respective labels\n",
    "condition_percents = pd.Series([1.40,  2.22, 6.97, 9.00, 20.58])\n",
    "labels = ['Handicap', 'Alcoholism', 'Diabetes', 'Scholarship Program', 'Hypertension']\n",
    "\n",
    "\n",
    "# plot graph of variable condition percentages\n",
    "plt.figure(figsize=(5,5))\n",
    "ax = condition_percents.plot(kind='bar')\n",
    "ax.set_title('Variable Condition Percents of SMS-Received Presented Appointments')\n",
    "ax.set_xlabel('Variable Conditions in SMS-Received Presented Appointments Data Set')\n",
    "ax.set_ylabel('Percent of Total Data Set')\n",
    "ax.set_xticklabels(labels, rotation=45, ha='right')"
   ]
  },
  {
   "cell_type": "markdown",
   "id": "4db23072",
   "metadata": {},
   "source": [
    "# These are descriptive statistics of ROWS THAT RECEIVED SMS REMINDER AND PRESENTED AT THE APPOINTMENT. \n",
    "\n",
    "- __The average age is 39 (38.81 rounded).__\n",
    "- __The median age is 40.0__\n",
    "- __The average time between the ScheduledDay and AppointmentDay is 17 (17.3 rounded) days.__\n",
    "- __Approximately 9.02% of SMS-Received and Presented appointments are for patients enrolled in the 'scholarship' program (explained earlier in analysis).__\n",
    "- __Approximately 20.58% of SMS-Received and Presented are for patients suffering from hipertension (hypertension).__\n",
    "- __Approximately 6.97% of SMS-Received and Presented are for patients suffering from diabetes.__\n",
    "- __Approximately 2.22% of SMS-Received and Presented are for patients suffering from alcoholism.__\n",
    "- __Approximately 1.4% of SMS-Received and Presented are for patients identifying as handicapped.__\n",
    "- __Approximately 31.95% of all SMS-Received and Presented rows were for appointments for male patients.__\n",
    "- __Approximately 68.05% of all SMS-Received and Presented rows were for appointments for female patients.__\n",
    "- __Approximately 22.86% of SMS-Received and Presented for Youths.__\n",
    "- __Approximately 22.78% of SMS-Received and Presented for Young Adults.__ \n",
    "- __Approximately 27.28% of SMS-Received and Presented for Adults.__\n",
    "- __Approximately 27.08% of SMS-Received and Presented for Older Adults and Seniors.__ \n",
    "- __Approximately 83.78%% of SMS-Received and Presented were scheduled between 2 and 30 days out.__\n",
    "- __Approximately 12.9% of SMS-Received and Presented scheduled between 31 and 60 days out.__\n",
    "- __Approximately 3.31%% of SMS-Received and Presented scheduled between 61 and 90 days out.__"
   ]
  },
  {
   "cell_type": "code",
   "execution_count": 17,
   "id": "d9339dd2",
   "metadata": {},
   "outputs": [
    {
     "data": {
      "text/plain": [
       "True"
      ]
     },
     "execution_count": 17,
     "metadata": {},
     "output_type": "execute_result"
    }
   ],
   "source": [
    "1==1"
   ]
  },
  {
   "cell_type": "code",
   "execution_count": null,
   "id": "0907bdf5",
   "metadata": {},
   "outputs": [],
   "source": []
  }
 ],
 "metadata": {
  "kernelspec": {
   "display_name": "Python 3 (ipykernel)",
   "language": "python",
   "name": "python3"
  },
  "language_info": {
   "codemirror_mode": {
    "name": "ipython",
    "version": 3
   },
   "file_extension": ".py",
   "mimetype": "text/x-python",
   "name": "python",
   "nbconvert_exporter": "python",
   "pygments_lexer": "ipython3",
   "version": "3.9.13"
  }
 },
 "nbformat": 4,
 "nbformat_minor": 5
}
