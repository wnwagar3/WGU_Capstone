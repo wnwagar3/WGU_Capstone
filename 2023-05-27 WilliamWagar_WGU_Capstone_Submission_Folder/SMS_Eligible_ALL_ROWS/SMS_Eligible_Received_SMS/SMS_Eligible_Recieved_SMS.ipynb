{
 "cells": [
  {
   "cell_type": "code",
   "execution_count": 1,
   "id": "65af153f",
   "metadata": {},
   "outputs": [],
   "source": [
    "# import basic libraries for dataframe usage and viz\n",
    "import numpy as np\n",
    "import pandas as pd\n",
    "import matplotlib.pyplot as plt\n",
    "import seaborn as sns\n",
    "import os"
   ]
  },
  {
   "cell_type": "code",
   "execution_count": 2,
   "id": "bb1de0bc",
   "metadata": {},
   "outputs": [
    {
     "data": {
      "text/plain": [
       "['.ipynb_checkpoints',\n",
       " 'sms_eligible_did_receive.csv',\n",
       " 'SMS_Eligible_Received_SMS_No_Show',\n",
       " 'SMS_Eligible_Received_SMS_Presented',\n",
       " 'SMS_Eligible_Recieved_SMS.ipynb']"
      ]
     },
     "execution_count": 2,
     "metadata": {},
     "output_type": "execute_result"
    }
   ],
   "source": [
    "## remove this cell before submitting\n",
    "\n",
    "os.listdir()"
   ]
  },
  {
   "cell_type": "code",
   "execution_count": 3,
   "id": "7d5c6fe9",
   "metadata": {},
   "outputs": [],
   "source": [
    "# this function will greatly simplify getting percentages based on condition\n",
    "# this can be used as a template if you want to change the equality operator to inequality (>,<, etc..)\n",
    "def column_percentage_calculator(df, column_name, condition):\n",
    "    total_rows = df.shape[0]\n",
    "    num_matched_rows = len(df.loc[(df[column_name] == condition)])\n",
    "    percentage_matches_condition = (num_matched_rows / total_rows) * 100\n",
    "    return percentage_matches_condition"
   ]
  },
  {
   "cell_type": "markdown",
   "id": "2db21b9a",
   "metadata": {},
   "source": [
    "# It can be assumed that each row that is in data frame was eligible to receive a SMS reminder as the csv it is based on contains only rows from the original dataset that were eligible to recieve SMS reminders."
   ]
  },
  {
   "cell_type": "code",
   "execution_count": 4,
   "id": "688a586c",
   "metadata": {},
   "outputs": [
    {
     "data": {
      "text/html": [
       "<div>\n",
       "<style scoped>\n",
       "    .dataframe tbody tr th:only-of-type {\n",
       "        vertical-align: middle;\n",
       "    }\n",
       "\n",
       "    .dataframe tbody tr th {\n",
       "        vertical-align: top;\n",
       "    }\n",
       "\n",
       "    .dataframe thead th {\n",
       "        text-align: right;\n",
       "    }\n",
       "</style>\n",
       "<table border=\"1\" class=\"dataframe\">\n",
       "  <thead>\n",
       "    <tr style=\"text-align: right;\">\n",
       "      <th></th>\n",
       "      <th>Gender</th>\n",
       "      <th>Age</th>\n",
       "      <th>Scholarship</th>\n",
       "      <th>Hipertension</th>\n",
       "      <th>Diabetes</th>\n",
       "      <th>Alcoholism</th>\n",
       "      <th>Handicap</th>\n",
       "      <th>SMS_received</th>\n",
       "      <th>No-show</th>\n",
       "      <th>Days_Between</th>\n",
       "      <th>Day_Num</th>\n",
       "      <th>Age Group</th>\n",
       "      <th>Interval Group</th>\n",
       "    </tr>\n",
       "  </thead>\n",
       "  <tbody>\n",
       "    <tr>\n",
       "      <th>0</th>\n",
       "      <td>M</td>\n",
       "      <td>29</td>\n",
       "      <td>0</td>\n",
       "      <td>0</td>\n",
       "      <td>0</td>\n",
       "      <td>0</td>\n",
       "      <td>0</td>\n",
       "      <td>1</td>\n",
       "      <td>1</td>\n",
       "      <td>2</td>\n",
       "      <td>4</td>\n",
       "      <td>Young Adult</td>\n",
       "      <td>2 - 30</td>\n",
       "    </tr>\n",
       "    <tr>\n",
       "      <th>1</th>\n",
       "      <td>F</td>\n",
       "      <td>15</td>\n",
       "      <td>0</td>\n",
       "      <td>0</td>\n",
       "      <td>0</td>\n",
       "      <td>0</td>\n",
       "      <td>0</td>\n",
       "      <td>1</td>\n",
       "      <td>0</td>\n",
       "      <td>2</td>\n",
       "      <td>4</td>\n",
       "      <td>Youth</td>\n",
       "      <td>2 - 30</td>\n",
       "    </tr>\n",
       "    <tr>\n",
       "      <th>2</th>\n",
       "      <td>F</td>\n",
       "      <td>30</td>\n",
       "      <td>1</td>\n",
       "      <td>0</td>\n",
       "      <td>0</td>\n",
       "      <td>0</td>\n",
       "      <td>0</td>\n",
       "      <td>1</td>\n",
       "      <td>0</td>\n",
       "      <td>2</td>\n",
       "      <td>4</td>\n",
       "      <td>Young Adult</td>\n",
       "      <td>2 - 30</td>\n",
       "    </tr>\n",
       "    <tr>\n",
       "      <th>3</th>\n",
       "      <td>M</td>\n",
       "      <td>13</td>\n",
       "      <td>0</td>\n",
       "      <td>0</td>\n",
       "      <td>0</td>\n",
       "      <td>0</td>\n",
       "      <td>0</td>\n",
       "      <td>1</td>\n",
       "      <td>1</td>\n",
       "      <td>3</td>\n",
       "      <td>4</td>\n",
       "      <td>Youth</td>\n",
       "      <td>2 - 30</td>\n",
       "    </tr>\n",
       "    <tr>\n",
       "      <th>4</th>\n",
       "      <td>M</td>\n",
       "      <td>46</td>\n",
       "      <td>0</td>\n",
       "      <td>1</td>\n",
       "      <td>0</td>\n",
       "      <td>0</td>\n",
       "      <td>0</td>\n",
       "      <td>1</td>\n",
       "      <td>0</td>\n",
       "      <td>2</td>\n",
       "      <td>4</td>\n",
       "      <td>Adult</td>\n",
       "      <td>2 - 30</td>\n",
       "    </tr>\n",
       "  </tbody>\n",
       "</table>\n",
       "</div>"
      ],
      "text/plain": [
       "  Gender  Age  Scholarship  Hipertension  Diabetes  Alcoholism  Handicap  \\\n",
       "0      M   29            0             0         0           0         0   \n",
       "1      F   15            0             0         0           0         0   \n",
       "2      F   30            1             0         0           0         0   \n",
       "3      M   13            0             0         0           0         0   \n",
       "4      M   46            0             1         0           0         0   \n",
       "\n",
       "   SMS_received  No-show  Days_Between  Day_Num    Age Group Interval Group  \n",
       "0             1        1             2        4  Young Adult         2 - 30  \n",
       "1             1        0             2        4        Youth         2 - 30  \n",
       "2             1        0             2        4  Young Adult         2 - 30  \n",
       "3             1        1             3        4        Youth         2 - 30  \n",
       "4             1        0             2        4        Adult         2 - 30  "
      ]
     },
     "execution_count": 4,
     "metadata": {},
     "output_type": "execute_result"
    }
   ],
   "source": [
    "# import df with pandas and visually inspect the head \n",
    "sms_eligible_did_receive_df = pd.read_csv('sms_eligible_did_receive.csv')\n",
    "sms_eligible_did_receive_df.head()"
   ]
  },
  {
   "cell_type": "code",
   "execution_count": 5,
   "id": "964f9c0b",
   "metadata": {},
   "outputs": [
    {
     "data": {
      "text/html": [
       "<div>\n",
       "<style scoped>\n",
       "    .dataframe tbody tr th:only-of-type {\n",
       "        vertical-align: middle;\n",
       "    }\n",
       "\n",
       "    .dataframe tbody tr th {\n",
       "        vertical-align: top;\n",
       "    }\n",
       "\n",
       "    .dataframe thead th {\n",
       "        text-align: right;\n",
       "    }\n",
       "</style>\n",
       "<table border=\"1\" class=\"dataframe\">\n",
       "  <thead>\n",
       "    <tr style=\"text-align: right;\">\n",
       "      <th></th>\n",
       "      <th>Age</th>\n",
       "      <th>Scholarship</th>\n",
       "      <th>Hipertension</th>\n",
       "      <th>Diabetes</th>\n",
       "      <th>Alcoholism</th>\n",
       "      <th>Handicap</th>\n",
       "      <th>SMS_received</th>\n",
       "      <th>No-show</th>\n",
       "      <th>Days_Between</th>\n",
       "      <th>Day_Num</th>\n",
       "    </tr>\n",
       "  </thead>\n",
       "  <tbody>\n",
       "    <tr>\n",
       "      <th>count</th>\n",
       "      <td>35327.000000</td>\n",
       "      <td>35327.000000</td>\n",
       "      <td>35327.000000</td>\n",
       "      <td>35327.000000</td>\n",
       "      <td>35327.000000</td>\n",
       "      <td>35327.000000</td>\n",
       "      <td>35327.0</td>\n",
       "      <td>35327.000000</td>\n",
       "      <td>35327.000000</td>\n",
       "      <td>35327.000000</td>\n",
       "    </tr>\n",
       "    <tr>\n",
       "      <th>mean</th>\n",
       "      <td>37.446429</td>\n",
       "      <td>0.098791</td>\n",
       "      <td>0.192034</td>\n",
       "      <td>0.065729</td>\n",
       "      <td>0.023891</td>\n",
       "      <td>0.013559</td>\n",
       "      <td>1.0</td>\n",
       "      <td>0.275795</td>\n",
       "      <td>17.688142</td>\n",
       "      <td>1.676933</td>\n",
       "    </tr>\n",
       "    <tr>\n",
       "      <th>std</th>\n",
       "      <td>22.282020</td>\n",
       "      <td>0.298386</td>\n",
       "      <td>0.393906</td>\n",
       "      <td>0.247811</td>\n",
       "      <td>0.152712</td>\n",
       "      <td>0.115653</td>\n",
       "      <td>0.0</td>\n",
       "      <td>0.446920</td>\n",
       "      <td>15.757572</td>\n",
       "      <td>1.268645</td>\n",
       "    </tr>\n",
       "    <tr>\n",
       "      <th>min</th>\n",
       "      <td>0.000000</td>\n",
       "      <td>0.000000</td>\n",
       "      <td>0.000000</td>\n",
       "      <td>0.000000</td>\n",
       "      <td>0.000000</td>\n",
       "      <td>0.000000</td>\n",
       "      <td>1.0</td>\n",
       "      <td>0.000000</td>\n",
       "      <td>2.000000</td>\n",
       "      <td>0.000000</td>\n",
       "    </tr>\n",
       "    <tr>\n",
       "      <th>25%</th>\n",
       "      <td>19.000000</td>\n",
       "      <td>0.000000</td>\n",
       "      <td>0.000000</td>\n",
       "      <td>0.000000</td>\n",
       "      <td>0.000000</td>\n",
       "      <td>0.000000</td>\n",
       "      <td>1.0</td>\n",
       "      <td>0.000000</td>\n",
       "      <td>6.000000</td>\n",
       "      <td>1.000000</td>\n",
       "    </tr>\n",
       "    <tr>\n",
       "      <th>50%</th>\n",
       "      <td>37.000000</td>\n",
       "      <td>0.000000</td>\n",
       "      <td>0.000000</td>\n",
       "      <td>0.000000</td>\n",
       "      <td>0.000000</td>\n",
       "      <td>0.000000</td>\n",
       "      <td>1.0</td>\n",
       "      <td>0.000000</td>\n",
       "      <td>13.000000</td>\n",
       "      <td>2.000000</td>\n",
       "    </tr>\n",
       "    <tr>\n",
       "      <th>75%</th>\n",
       "      <td>55.000000</td>\n",
       "      <td>0.000000</td>\n",
       "      <td>0.000000</td>\n",
       "      <td>0.000000</td>\n",
       "      <td>0.000000</td>\n",
       "      <td>0.000000</td>\n",
       "      <td>1.0</td>\n",
       "      <td>1.000000</td>\n",
       "      <td>26.000000</td>\n",
       "      <td>3.000000</td>\n",
       "    </tr>\n",
       "    <tr>\n",
       "      <th>max</th>\n",
       "      <td>98.000000</td>\n",
       "      <td>1.000000</td>\n",
       "      <td>1.000000</td>\n",
       "      <td>1.000000</td>\n",
       "      <td>1.000000</td>\n",
       "      <td>1.000000</td>\n",
       "      <td>1.0</td>\n",
       "      <td>1.000000</td>\n",
       "      <td>90.000000</td>\n",
       "      <td>5.000000</td>\n",
       "    </tr>\n",
       "  </tbody>\n",
       "</table>\n",
       "</div>"
      ],
      "text/plain": [
       "                Age   Scholarship  Hipertension      Diabetes    Alcoholism  \\\n",
       "count  35327.000000  35327.000000  35327.000000  35327.000000  35327.000000   \n",
       "mean      37.446429      0.098791      0.192034      0.065729      0.023891   \n",
       "std       22.282020      0.298386      0.393906      0.247811      0.152712   \n",
       "min        0.000000      0.000000      0.000000      0.000000      0.000000   \n",
       "25%       19.000000      0.000000      0.000000      0.000000      0.000000   \n",
       "50%       37.000000      0.000000      0.000000      0.000000      0.000000   \n",
       "75%       55.000000      0.000000      0.000000      0.000000      0.000000   \n",
       "max       98.000000      1.000000      1.000000      1.000000      1.000000   \n",
       "\n",
       "           Handicap  SMS_received       No-show  Days_Between       Day_Num  \n",
       "count  35327.000000       35327.0  35327.000000  35327.000000  35327.000000  \n",
       "mean       0.013559           1.0      0.275795     17.688142      1.676933  \n",
       "std        0.115653           0.0      0.446920     15.757572      1.268645  \n",
       "min        0.000000           1.0      0.000000      2.000000      0.000000  \n",
       "25%        0.000000           1.0      0.000000      6.000000      1.000000  \n",
       "50%        0.000000           1.0      0.000000     13.000000      2.000000  \n",
       "75%        0.000000           1.0      1.000000     26.000000      3.000000  \n",
       "max        1.000000           1.0      1.000000     90.000000      5.000000  "
      ]
     },
     "execution_count": 5,
     "metadata": {},
     "output_type": "execute_result"
    }
   ],
   "source": [
    "# examine df general stats\n",
    "sms_eligible_did_receive_df.describe()"
   ]
  },
  {
   "cell_type": "code",
   "execution_count": 6,
   "id": "52ac3cdc",
   "metadata": {},
   "outputs": [
    {
     "name": "stdout",
     "output_type": "stream",
     "text": [
      "<class 'pandas.core.frame.DataFrame'>\n",
      "RangeIndex: 35327 entries, 0 to 35326\n",
      "Data columns (total 13 columns):\n",
      " #   Column          Non-Null Count  Dtype \n",
      "---  ------          --------------  ----- \n",
      " 0   Gender          35327 non-null  object\n",
      " 1   Age             35327 non-null  int64 \n",
      " 2   Scholarship     35327 non-null  int64 \n",
      " 3   Hipertension    35327 non-null  int64 \n",
      " 4   Diabetes        35327 non-null  int64 \n",
      " 5   Alcoholism      35327 non-null  int64 \n",
      " 6   Handicap        35327 non-null  int64 \n",
      " 7   SMS_received    35327 non-null  int64 \n",
      " 8   No-show         35327 non-null  int64 \n",
      " 9   Days_Between    35327 non-null  int64 \n",
      " 10  Day_Num         35327 non-null  int64 \n",
      " 11  Age Group       35327 non-null  object\n",
      " 12  Interval Group  35327 non-null  object\n",
      "dtypes: int64(10), object(3)\n",
      "memory usage: 3.5+ MB\n"
     ]
    }
   ],
   "source": [
    "# examine df structure\n",
    "sms_eligible_did_receive_df.info()"
   ]
  },
  {
   "cell_type": "code",
   "execution_count": 7,
   "id": "42abc0fc",
   "metadata": {},
   "outputs": [
    {
     "name": "stdout",
     "output_type": "stream",
     "text": [
      "27.58% OF APPOINTMENTS THAT DID RECEIVE A REMINDER WERE NO-SHOW\n",
      "72.42% OF APPOINTMENTS THAT DID RECEIVE A REMINER PRESENTED AT THEIR APPOINTMENT.\n"
     ]
    }
   ],
   "source": [
    "# calculate no-show percentage of SMS-Eligible appointments THAT DID RECEIVE A SMS REMINDER\n",
    "percent_noshow = column_percentage_calculator(sms_eligible_did_receive_df, 'No-show', 1)\n",
    "percent_presented = 100 - round(percent_noshow, 2)\n",
    "print('{}% OF APPOINTMENTS THAT DID RECEIVE A REMINDER WERE NO-SHOW'.format(round(percent_noshow,2)))\n",
    "print('{}% OF APPOINTMENTS THAT DID RECEIVE A REMINER PRESENTED AT THEIR APPOINTMENT.'.format(percent_presented))"
   ]
  },
  {
   "cell_type": "code",
   "execution_count": 8,
   "id": "a652e67f",
   "metadata": {},
   "outputs": [
    {
     "data": {
      "text/plain": [
       "Text(0.5, 1.0, 'No-Show/Presented Binary Distribution')"
      ]
     },
     "execution_count": 8,
     "metadata": {},
     "output_type": "execute_result"
    },
    {
     "data": {
      "image/png": "[encoded data removed]",
      "text/plain": [
       "<Figure size 640x480 with 1 Axes>"
      ]
     },
     "metadata": {},
     "output_type": "display_data"
    }
   ],
   "source": [
    "# visualize gender binary distribution\n",
    "no_show_and_present_percents = [percent_noshow, percent_presented ]\n",
    "labels = ['No-Show', 'Presented At Appointment']\n",
    "\n",
    "fig, ax = plt.subplots()\n",
    "ax.pie(no_show_and_present_percents, labels = labels)\n",
    "ax.set_title('No-Show/Presented Binary Distribution')"
   ]
  },
  {
   "cell_type": "markdown",
   "id": "4c67583f",
   "metadata": {},
   "source": [
    "### AGE "
   ]
  },
  {
   "cell_type": "code",
   "execution_count": 9,
   "id": "a9cd50ef",
   "metadata": {},
   "outputs": [
    {
     "data": {
      "text/plain": [
       "<AxesSubplot:ylabel='Frequency'>"
      ]
     },
     "execution_count": 9,
     "metadata": {},
     "output_type": "execute_result"
    },
    {
     "data": {
      "image/png": "[encoded data removed]",
      "text/plain": [
       "<Figure size 500x500 with 1 Axes>"
      ]
     },
     "metadata": {},
     "output_type": "display_data"
    }
   ],
   "source": [
    "sms_eligible_did_receive_df.Age.plot(kind='hist', figsize=(5,5), color='red')"
   ]
  },
  {
   "cell_type": "code",
   "execution_count": 10,
   "id": "924c8283",
   "metadata": {},
   "outputs": [
    {
     "name": "stdout",
     "output_type": "stream",
     "text": [
      "37.0 is the median age.\n"
     ]
    }
   ],
   "source": [
    "# calculate the median age for SMS-Eligible appointments that DID RECEIVE SMS REMINDER\n",
    "age_median = sms_eligible_did_receive_df.Age.median()\n",
    "print('{} is the median age.'.format(age_median))"
   ]
  },
  {
   "cell_type": "markdown",
   "id": "7d7bb4e6",
   "metadata": {},
   "source": [
    "### DAYS_BETWEEN "
   ]
  },
  {
   "cell_type": "code",
   "execution_count": 11,
   "id": "8f04842b",
   "metadata": {},
   "outputs": [
    {
     "data": {
      "text/plain": [
       "<AxesSubplot:ylabel='Frequency'>"
      ]
     },
     "execution_count": 11,
     "metadata": {},
     "output_type": "execute_result"
    },
    {
     "data": {
      "image/png": "[encoded data removed]",
      "text/plain": [
       "<Figure size 500x300 with 1 Axes>"
      ]
     },
     "metadata": {},
     "output_type": "display_data"
    }
   ],
   "source": [
    "# visualize 'Days_Between' column distribution\n",
    "sms_eligible_did_receive_df.Days_Between.plot(kind='hist', figsize=(5,3), color='blue')"
   ]
  },
  {
   "cell_type": "markdown",
   "id": "61b7c483",
   "metadata": {},
   "source": [
    "### GENDER %s and Pie Graph"
   ]
  },
  {
   "cell_type": "code",
   "execution_count": 12,
   "id": "482c6b79",
   "metadata": {},
   "outputs": [
    {
     "name": "stdout",
     "output_type": "stream",
     "text": [
      "31.78% of SMS-eligible appointments were for male patients.\n",
      "68.22% of SMS-eligible appointments were for female patients.\n"
     ]
    }
   ],
   "source": [
    "# calculate percent each gender of 'SMS-Eligible Did-Receive SMS' rows with column_percentage_calculator already defined\n",
    "sms_eligible_did_receive_SMS_male_percent = column_percentage_calculator(sms_eligible_did_receive_df, 'Gender', 'M')\n",
    "sms_eligible_did_receive_SMS_female_percent = column_percentage_calculator(sms_eligible_did_receive_df, 'Gender', 'F')\n",
    "print('{}% of SMS-eligible appointments were for male patients.'.format(round(sms_eligible_did_receive_SMS_male_percent, 2)))\n",
    "print('{}% of SMS-eligible appointments were for female patients.'.format(round(sms_eligible_did_receive_SMS_female_percent, 2)))"
   ]
  },
  {
   "cell_type": "code",
   "execution_count": 13,
   "id": "945affe9",
   "metadata": {},
   "outputs": [
    {
     "data": {
      "text/plain": [
       "Text(0.5, 1.0, 'SMS-Eligible and SMS Received Gender Percentage')"
      ]
     },
     "execution_count": 13,
     "metadata": {},
     "output_type": "execute_result"
    },
    {
     "data": {
      "image/png": "[encoded data removed]",
      "text/plain": [
       "<Figure size 640x480 with 1 Axes>"
      ]
     },
     "metadata": {},
     "output_type": "display_data"
    }
   ],
   "source": [
    "# visualize gender binary distribution\n",
    "gender_percents = [sms_eligible_did_receive_SMS_male_percent, sms_eligible_did_receive_SMS_female_percent ]\n",
    "labels = ['Male', 'Female']\n",
    "\n",
    "fig, ax = plt.subplots()\n",
    "ax.pie(gender_percents, labels = labels)\n",
    "ax.set_title('SMS-Eligible and SMS Received Gender Percentage')"
   ]
  },
  {
   "cell_type": "markdown",
   "id": "a27b4d1c",
   "metadata": {},
   "source": [
    "### INTERVAL_GROUP %'s and Bar Graph"
   ]
  },
  {
   "cell_type": "code",
   "execution_count": 14,
   "id": "566e589f",
   "metadata": {},
   "outputs": [
    {
     "name": "stdout",
     "output_type": "stream",
     "text": [
      "Percentage of SMS-Eligible THAT RECEIVED SMS REMINDER appointments scheduled between 2 and 30 days out ---> 83.14%\n",
      "Percentage of SMS-Eligible THAT RECEIVED SMS REMINDER appointments scheduled between 31 and 60 days out ---> 13.61%\n",
      "Percentage of SMS-Eligible THAT RECEIVED SMS REMINDER appointments scheduled between 61 and 90 days out ---> 3.24%\n"
     ]
    }
   ],
   "source": [
    "# obtain percentages of Interval Groups using the column_percentage_calculator function defined earlier \n",
    "two_to_thirty_percentage = column_percentage_calculator(sms_eligible_did_receive_df, 'Interval Group', '2 - 30')\n",
    "num_thirtyone_to_sixty_percentage = column_percentage_calculator(sms_eligible_did_receive_df, 'Interval Group', '31 - 60')\n",
    "num_sixtyone_to_ninety_percentage = column_percentage_calculator(sms_eligible_did_receive_df, 'Interval Group', '61 - 90')\n",
    "\n",
    "print('Percentage of SMS-Eligible THAT RECEIVED SMS REMINDER appointments scheduled between 2 and 30 days out ---> {}%'.format(round(two_to_thirty_percentage,2)))\n",
    "print('Percentage of SMS-Eligible THAT RECEIVED SMS REMINDER appointments scheduled between 31 and 60 days out ---> {}%'.format(round(num_thirtyone_to_sixty_percentage, 2)))\n",
    "print('Percentage of SMS-Eligible THAT RECEIVED SMS REMINDER appointments scheduled between 61 and 90 days out ---> {}%'.format(round(num_sixtyone_to_ninety_percentage, 2)))"
   ]
  },
  {
   "cell_type": "code",
   "execution_count": 15,
   "id": "8d8ab872",
   "metadata": {},
   "outputs": [
    {
     "data": {
      "text/plain": [
       "<AxesSubplot:>"
      ]
     },
     "execution_count": 15,
     "metadata": {},
     "output_type": "execute_result"
    },
    {
     "data": {
      "image/png": "[encoded data removed]",
      "text/plain": [
       "<Figure size 500x300 with 1 Axes>"
      ]
     },
     "metadata": {},
     "output_type": "display_data"
    }
   ],
   "source": [
    "# visualize Interval Group categorical distribution in a bar plot\n",
    "sms_eligible_did_receive_df['Interval Group'].value_counts().plot(kind='bar', figsize =(5,3), color='green')"
   ]
  },
  {
   "cell_type": "markdown",
   "id": "cf3d665a",
   "metadata": {},
   "source": [
    "### AGE BRACKETS %'s and Bar Graph"
   ]
  },
  {
   "cell_type": "code",
   "execution_count": 16,
   "id": "3866bfdf",
   "metadata": {},
   "outputs": [
    {
     "name": "stdout",
     "output_type": "stream",
     "text": [
      "Percentage of SMS-Eligible THAT RECEIVED SMS REMINDER appointments for Youths 23.84%\n",
      "Percentage of SMS-Eligible THAT RECEIVED SMS REMINDER appointments for Young Adults 24.95%\n",
      "Percentage of SMS-Eligible THAT RECEIVED SMS REMINDER appointments for Adults 26.77%\n",
      "Percentage of SMS-Eligible THAT RECEIVED SMS REMINDER appointments for Older Adults and Seniors 24.44%\n"
     ]
    }
   ],
   "source": [
    "# calculate percentage for age group categorical column values\n",
    "sms_eligible_youth_percentage = column_percentage_calculator(sms_eligible_did_receive_df, 'Age Group', 'Youth')\n",
    "sms_eligible_young_adult_percentage = column_percentage_calculator(sms_eligible_did_receive_df, 'Age Group', 'Young Adult')\n",
    "sms_eligible_adult_percentage = column_percentage_calculator(sms_eligible_did_receive_df, 'Age Group', 'Adult')\n",
    "sms_eligible_older_adult_percentage = column_percentage_calculator(sms_eligible_did_receive_df, 'Age Group', 'Older Adult and Seniors')\n",
    "\n",
    "print('Percentage of SMS-Eligible THAT RECEIVED SMS REMINDER appointments for Youths {}%'.format(round(sms_eligible_youth_percentage, 2)))\n",
    "print('Percentage of SMS-Eligible THAT RECEIVED SMS REMINDER appointments for Young Adults {}%'.format(round(sms_eligible_young_adult_percentage, 2)))\n",
    "print('Percentage of SMS-Eligible THAT RECEIVED SMS REMINDER appointments for Adults {}%'.format(round(sms_eligible_adult_percentage, 2)))\n",
    "print('Percentage of SMS-Eligible THAT RECEIVED SMS REMINDER appointments for Older Adults and Seniors {}%'.format(round(sms_eligible_older_adult_percentage, 2)))"
   ]
  },
  {
   "cell_type": "code",
   "execution_count": 17,
   "id": "84bf4bb1",
   "metadata": {},
   "outputs": [
    {
     "data": {
      "text/plain": [
       "<AxesSubplot:>"
      ]
     },
     "execution_count": 17,
     "metadata": {},
     "output_type": "execute_result"
    },
    {
     "data": {
      "image/png": "[encoded data removed]",
      "text/plain": [
       "<Figure size 700x500 with 1 Axes>"
      ]
     },
     "metadata": {},
     "output_type": "display_data"
    }
   ],
   "source": [
    "# create basic viz for age brackets/buckets\n",
    "sms_eligible_did_receive_df['Age Group'].value_counts().plot(kind='bar', figsize=(7,5), color='red')"
   ]
  },
  {
   "cell_type": "markdown",
   "id": "f14bc335",
   "metadata": {},
   "source": [
    "### CONDITIONS %s and Bar Graph"
   ]
  },
  {
   "cell_type": "markdown",
   "id": "9082bd9a",
   "metadata": {},
   "source": [
    "__As each 'condition' is it's own column and the values are only binary (0 for no, 1 for yes), the percentages for these variables WRT to all SMS-ELIGIBLE THAT DID RECEIVE SMS REMINDER rows was obtained from the .describe() command and its output above. These values and respective labels will be used to visualize these variables on a bar graph.__"
   ]
  },
  {
   "cell_type": "code",
   "execution_count": 18,
   "id": "68b2128a",
   "metadata": {},
   "outputs": [
    {
     "data": {
      "text/plain": [
       "[Text(0, 0, 'Handicap'),\n",
       " Text(1, 0, 'Alcoholism'),\n",
       " Text(2, 0, 'Diabetes'),\n",
       " Text(3, 0, 'Scholarship Program'),\n",
       " Text(4, 0, 'Hypertension')]"
      ]
     },
     "execution_count": 18,
     "metadata": {},
     "output_type": "execute_result"
    },
    {
     "data": {
      "image/png": "[encoded data removed]",
      "text/plain": [
       "<Figure size 500x500 with 1 Axes>"
      ]
     },
     "metadata": {},
     "output_type": "display_data"
    }
   ],
   "source": [
    "# create pandas series to graph and list of respective labels\n",
    "condition_percents = pd.Series([1.36,  2.39, 6.57, 9.88, 19.20])\n",
    "labels = ['Handicap', 'Alcoholism', 'Diabetes', 'Scholarship Program', 'Hypertension']\n",
    "\n",
    "\n",
    "# plot graph of variable condition percentages\n",
    "plt.figure(figsize=(5,5))\n",
    "ax = condition_percents.plot(kind='bar')\n",
    "ax.set_title('Variable Condition Percents of SMS-Eligible Received SMS Reminder Appointments')\n",
    "ax.set_xlabel('Variable Conditions in SMS-Eligible Received SMS Reminder Appointments Data Set')\n",
    "ax.set_ylabel('Percent of Total Data Set')\n",
    "ax.set_xticklabels(labels, rotation=45, ha='right')"
   ]
  },
  {
   "cell_type": "markdown",
   "id": "39441c8e",
   "metadata": {},
   "source": [
    "# These are descriptive statistics of ROWS THAT DID RECEIVE SMS REMINDER."
   ]
  },
  {
   "cell_type": "markdown",
   "id": "77aaca52",
   "metadata": {},
   "source": [
    "- __27.58% OF APPOINTMENTS THAT DID RECEIVE A SMS REMINDER WERE NO-SHOW.__\n",
    "- __72.42% OF APPOINTMENTS THAT DID RECEIVE A SMS REMINDER PRESENTED AT THEIR APPOINTMENT.__ \n",
    "- __The average age is 37.45.__\n",
    "- __The median age is 37.0__\n",
    "- __The average time between the ScheduledDay and AppointmentDay is 18 (17.6 rounded) days.__\n",
    "- __Approximately 9.88% of SMS-Eligible appointments are for patients enrolled in the 'scholarship' program (explained earlier in analysis).__\n",
    "- __Approximately 19.20% of SMS-Eligible appointments THAT DID RECEIVE A SMS REMINDER are for patients suffering from hipertension (hypertension).__\n",
    "- __Approximately 6.57% of SMS-Eligible appointments THAT DID RECEIVE A SMS REMINDER are for patients suffering from diabetes.__\n",
    "- __Approximately 2.39% of SMS-Eligible appointments THAT DID RECEIVE A SMS REMINDER are for patients suffering from alcoholism.__\n",
    "- __Approximately 1.36% of SMS-Eligible appointments THAT DID RECEIVE A SMS REMINDER are for patients identifying as handicapped.__\n",
    "- __Approximately 31.78% of all SMS-reminder eligible rows were for appointments THAT DID RECEIVE A SMS REMINDER for male patients.__\n",
    "- __Approximately 68.22% of all SMS-reminder elibible rows were for appointments THAT DID RECEIVE A SMS REMINDER for female patients.__\n",
    "- __Approximately 23.84% of SMS-Eligible appointments THAT DID RECEIVE A SMS REMINDER for Youths.__\n",
    "- __Approximately 24.95% of SMS-Eligible appointments THAT DID RECEIVE A SMS REMINDER for Young Adults.__ \n",
    "- __Approximately 26.77% of SMS-Eligible appointments THAT DID RECEIVE A SMS REMINDER for Adults.__\n",
    "- __Approximately 24.44% of SMS-Eligible appointments THAT DID RECEIVE A SMS REMINDER for Older Adults and Seniors.__ \n",
    "- __Approximately 83.14%% of SMS-Eligible appointments THAT DID RECEIVE A SMS REMINDER were scheduled between 2 and 30 days out.__\n",
    "- __Approximately 13.61% of SMS-Eligible appointments THAT DID RECEIVE A SMS REMINDER scheduled between 31 and 60 days out.__\n",
    "- __Approximately 3.24%% of SMS-Eligible appointments THAT DID RECEIVE A SMS REMINDER scheduled between 61 and 90 days out.__"
   ]
  },
  {
   "cell_type": "markdown",
   "id": "f5f2130f",
   "metadata": {},
   "source": [
    "# We need to split this part of the data one more time to glean some deeper insights. From this point, now that we have gathered the statistical information we sought out to find from this population, SMS-ELIGIBLE ROWS THAT DID RECIEVE A REMINDER, we can split this population into 2 new DFs/csvs for further analysis. \n",
    "\n",
    "# The first new DF/csv (1 of 2) will be for SMS-ELIGIBLE DID RECEIVE SMS REMINDER PRESENTED AT APPOINTMENT rows.\n",
    "\n",
    "# The second new DF/csv (2 of 2) will be for SMS-ELIGIBLE DID RECEIVE SMS REMINDER NO SHOW rows."
   ]
  },
  {
   "cell_type": "code",
   "execution_count": 19,
   "id": "8f3af96b",
   "metadata": {},
   "outputs": [
    {
     "data": {
      "text/html": [
       "<div>\n",
       "<style scoped>\n",
       "    .dataframe tbody tr th:only-of-type {\n",
       "        vertical-align: middle;\n",
       "    }\n",
       "\n",
       "    .dataframe tbody tr th {\n",
       "        vertical-align: top;\n",
       "    }\n",
       "\n",
       "    .dataframe thead th {\n",
       "        text-align: right;\n",
       "    }\n",
       "</style>\n",
       "<table border=\"1\" class=\"dataframe\">\n",
       "  <thead>\n",
       "    <tr style=\"text-align: right;\">\n",
       "      <th></th>\n",
       "      <th>Gender</th>\n",
       "      <th>Age</th>\n",
       "      <th>Scholarship</th>\n",
       "      <th>Hipertension</th>\n",
       "      <th>Diabetes</th>\n",
       "      <th>Alcoholism</th>\n",
       "      <th>Handicap</th>\n",
       "      <th>SMS_received</th>\n",
       "      <th>No-show</th>\n",
       "      <th>Days_Between</th>\n",
       "      <th>Day_Num</th>\n",
       "      <th>Age Group</th>\n",
       "      <th>Interval Group</th>\n",
       "    </tr>\n",
       "  </thead>\n",
       "  <tbody>\n",
       "    <tr>\n",
       "      <th>1</th>\n",
       "      <td>F</td>\n",
       "      <td>15</td>\n",
       "      <td>0</td>\n",
       "      <td>0</td>\n",
       "      <td>0</td>\n",
       "      <td>0</td>\n",
       "      <td>0</td>\n",
       "      <td>1</td>\n",
       "      <td>0</td>\n",
       "      <td>2</td>\n",
       "      <td>4</td>\n",
       "      <td>Youth</td>\n",
       "      <td>2 - 30</td>\n",
       "    </tr>\n",
       "    <tr>\n",
       "      <th>2</th>\n",
       "      <td>F</td>\n",
       "      <td>30</td>\n",
       "      <td>1</td>\n",
       "      <td>0</td>\n",
       "      <td>0</td>\n",
       "      <td>0</td>\n",
       "      <td>0</td>\n",
       "      <td>1</td>\n",
       "      <td>0</td>\n",
       "      <td>2</td>\n",
       "      <td>4</td>\n",
       "      <td>Young Adult</td>\n",
       "      <td>2 - 30</td>\n",
       "    </tr>\n",
       "    <tr>\n",
       "      <th>4</th>\n",
       "      <td>M</td>\n",
       "      <td>46</td>\n",
       "      <td>0</td>\n",
       "      <td>1</td>\n",
       "      <td>0</td>\n",
       "      <td>0</td>\n",
       "      <td>0</td>\n",
       "      <td>1</td>\n",
       "      <td>0</td>\n",
       "      <td>2</td>\n",
       "      <td>4</td>\n",
       "      <td>Adult</td>\n",
       "      <td>2 - 30</td>\n",
       "    </tr>\n",
       "    <tr>\n",
       "      <th>5</th>\n",
       "      <td>F</td>\n",
       "      <td>38</td>\n",
       "      <td>1</td>\n",
       "      <td>0</td>\n",
       "      <td>0</td>\n",
       "      <td>0</td>\n",
       "      <td>0</td>\n",
       "      <td>1</td>\n",
       "      <td>0</td>\n",
       "      <td>3</td>\n",
       "      <td>4</td>\n",
       "      <td>Adult</td>\n",
       "      <td>2 - 30</td>\n",
       "    </tr>\n",
       "    <tr>\n",
       "      <th>6</th>\n",
       "      <td>M</td>\n",
       "      <td>85</td>\n",
       "      <td>0</td>\n",
       "      <td>1</td>\n",
       "      <td>0</td>\n",
       "      <td>0</td>\n",
       "      <td>0</td>\n",
       "      <td>1</td>\n",
       "      <td>0</td>\n",
       "      <td>8</td>\n",
       "      <td>4</td>\n",
       "      <td>Older Adult and Seniors</td>\n",
       "      <td>2 - 30</td>\n",
       "    </tr>\n",
       "  </tbody>\n",
       "</table>\n",
       "</div>"
      ],
      "text/plain": [
       "  Gender  Age  Scholarship  Hipertension  Diabetes  Alcoholism  Handicap  \\\n",
       "1      F   15            0             0         0           0         0   \n",
       "2      F   30            1             0         0           0         0   \n",
       "4      M   46            0             1         0           0         0   \n",
       "5      F   38            1             0         0           0         0   \n",
       "6      M   85            0             1         0           0         0   \n",
       "\n",
       "   SMS_received  No-show  Days_Between  Day_Num                Age Group  \\\n",
       "1             1        0             2        4                    Youth   \n",
       "2             1        0             2        4              Young Adult   \n",
       "4             1        0             2        4                    Adult   \n",
       "5             1        0             3        4                    Adult   \n",
       "6             1        0             8        4  Older Adult and Seniors   \n",
       "\n",
       "  Interval Group  \n",
       "1         2 - 30  \n",
       "2         2 - 30  \n",
       "4         2 - 30  \n",
       "5         2 - 30  \n",
       "6         2 - 30  "
      ]
     },
     "execution_count": 19,
     "metadata": {},
     "output_type": "execute_result"
    }
   ],
   "source": [
    "# filter out only rows that PRESENTED AT APPOINTMENT into new df\n",
    "sms_eligible_sms_received_appointment_presented_df = sms_eligible_did_receive_df.loc[(sms_eligible_did_receive_df['No-show'] == 0)]\n",
    "\n",
    "# visually inspect new df\n",
    "sms_eligible_sms_received_appointment_presented_df.head()"
   ]
  },
  {
   "cell_type": "code",
   "execution_count": 20,
   "id": "755be7cf",
   "metadata": {},
   "outputs": [
    {
     "data": {
      "text/html": [
       "<div>\n",
       "<style scoped>\n",
       "    .dataframe tbody tr th:only-of-type {\n",
       "        vertical-align: middle;\n",
       "    }\n",
       "\n",
       "    .dataframe tbody tr th {\n",
       "        vertical-align: top;\n",
       "    }\n",
       "\n",
       "    .dataframe thead th {\n",
       "        text-align: right;\n",
       "    }\n",
       "</style>\n",
       "<table border=\"1\" class=\"dataframe\">\n",
       "  <thead>\n",
       "    <tr style=\"text-align: right;\">\n",
       "      <th></th>\n",
       "      <th>Gender</th>\n",
       "      <th>Age</th>\n",
       "      <th>Scholarship</th>\n",
       "      <th>Hipertension</th>\n",
       "      <th>Diabetes</th>\n",
       "      <th>Alcoholism</th>\n",
       "      <th>Handicap</th>\n",
       "      <th>SMS_received</th>\n",
       "      <th>No-show</th>\n",
       "      <th>Days_Between</th>\n",
       "      <th>Day_Num</th>\n",
       "      <th>Age Group</th>\n",
       "      <th>Interval Group</th>\n",
       "    </tr>\n",
       "  </thead>\n",
       "  <tbody>\n",
       "    <tr>\n",
       "      <th>0</th>\n",
       "      <td>M</td>\n",
       "      <td>29</td>\n",
       "      <td>0</td>\n",
       "      <td>0</td>\n",
       "      <td>0</td>\n",
       "      <td>0</td>\n",
       "      <td>0</td>\n",
       "      <td>1</td>\n",
       "      <td>1</td>\n",
       "      <td>2</td>\n",
       "      <td>4</td>\n",
       "      <td>Young Adult</td>\n",
       "      <td>2 - 30</td>\n",
       "    </tr>\n",
       "    <tr>\n",
       "      <th>3</th>\n",
       "      <td>M</td>\n",
       "      <td>13</td>\n",
       "      <td>0</td>\n",
       "      <td>0</td>\n",
       "      <td>0</td>\n",
       "      <td>0</td>\n",
       "      <td>0</td>\n",
       "      <td>1</td>\n",
       "      <td>1</td>\n",
       "      <td>3</td>\n",
       "      <td>4</td>\n",
       "      <td>Youth</td>\n",
       "      <td>2 - 30</td>\n",
       "    </tr>\n",
       "    <tr>\n",
       "      <th>8</th>\n",
       "      <td>F</td>\n",
       "      <td>58</td>\n",
       "      <td>0</td>\n",
       "      <td>0</td>\n",
       "      <td>0</td>\n",
       "      <td>0</td>\n",
       "      <td>0</td>\n",
       "      <td>1</td>\n",
       "      <td>1</td>\n",
       "      <td>2</td>\n",
       "      <td>4</td>\n",
       "      <td>Older Adult and Seniors</td>\n",
       "      <td>2 - 30</td>\n",
       "    </tr>\n",
       "    <tr>\n",
       "      <th>9</th>\n",
       "      <td>F</td>\n",
       "      <td>27</td>\n",
       "      <td>0</td>\n",
       "      <td>0</td>\n",
       "      <td>0</td>\n",
       "      <td>0</td>\n",
       "      <td>0</td>\n",
       "      <td>1</td>\n",
       "      <td>1</td>\n",
       "      <td>28</td>\n",
       "      <td>4</td>\n",
       "      <td>Young Adult</td>\n",
       "      <td>2 - 30</td>\n",
       "    </tr>\n",
       "    <tr>\n",
       "      <th>10</th>\n",
       "      <td>F</td>\n",
       "      <td>19</td>\n",
       "      <td>0</td>\n",
       "      <td>0</td>\n",
       "      <td>0</td>\n",
       "      <td>0</td>\n",
       "      <td>0</td>\n",
       "      <td>1</td>\n",
       "      <td>1</td>\n",
       "      <td>28</td>\n",
       "      <td>4</td>\n",
       "      <td>Young Adult</td>\n",
       "      <td>2 - 30</td>\n",
       "    </tr>\n",
       "  </tbody>\n",
       "</table>\n",
       "</div>"
      ],
      "text/plain": [
       "   Gender  Age  Scholarship  Hipertension  Diabetes  Alcoholism  Handicap  \\\n",
       "0       M   29            0             0         0           0         0   \n",
       "3       M   13            0             0         0           0         0   \n",
       "8       F   58            0             0         0           0         0   \n",
       "9       F   27            0             0         0           0         0   \n",
       "10      F   19            0             0         0           0         0   \n",
       "\n",
       "    SMS_received  No-show  Days_Between  Day_Num                Age Group  \\\n",
       "0              1        1             2        4              Young Adult   \n",
       "3              1        1             3        4                    Youth   \n",
       "8              1        1             2        4  Older Adult and Seniors   \n",
       "9              1        1            28        4              Young Adult   \n",
       "10             1        1            28        4              Young Adult   \n",
       "\n",
       "   Interval Group  \n",
       "0          2 - 30  \n",
       "3          2 - 30  \n",
       "8          2 - 30  \n",
       "9          2 - 30  \n",
       "10         2 - 30  "
      ]
     },
     "execution_count": 20,
     "metadata": {},
     "output_type": "execute_result"
    }
   ],
   "source": [
    "# filter out only rows that NO-SHOW AT APPOINTMENT into new df\n",
    "sms_eligible_sms_received_appointment_no_show_df = sms_eligible_did_receive_df.loc[(sms_eligible_did_receive_df['No-show'] == 1)]\n",
    "\n",
    "# visually inspect new df\n",
    "sms_eligible_sms_received_appointment_no_show_df.head()"
   ]
  },
  {
   "cell_type": "code",
   "execution_count": 21,
   "id": "504c084f",
   "metadata": {},
   "outputs": [],
   "source": [
    "# # save new dfs to csvs in their new respective folders for further analysis\n",
    "# sms_eligible_sms_received_appointment_presented_df.to_csv(os.path.join('SMS_Eligible_Received_SMS_Presented','sms_received_appointment_presented.csv'), index=False)\n",
    "# sms_eligible_sms_received_appointment_no_show_df.to_csv(os.path.join('SMS_Eligible_Received_SMS_No_Show', 'sms_received_appointment_no_show.csv'), index=False)"
   ]
  },
  {
   "cell_type": "code",
   "execution_count": 22,
   "id": "694302ba",
   "metadata": {},
   "outputs": [
    {
     "data": {
      "text/plain": [
       "True"
      ]
     },
     "execution_count": 22,
     "metadata": {},
     "output_type": "execute_result"
    }
   ],
   "source": [
    "1==1"
   ]
  },
  {
   "cell_type": "markdown",
   "id": "a3268f43",
   "metadata": {},
   "source": [
    "# This is the end of this section of EDA for ROWS THAT RECEIVED SMS REMINDER AND WERE ELIGIBLE "
   ]
  }
 ],
 "metadata": {
  "kernelspec": {
   "display_name": "Python 3 (ipykernel)",
   "language": "python",
   "name": "python3"
  },
  "language_info": {
   "codemirror_mode": {
    "name": "ipython",
    "version": 3
   },
   "file_extension": ".py",
   "mimetype": "text/x-python",
   "name": "python",
   "nbconvert_exporter": "python",
   "pygments_lexer": "ipython3",
   "version": "3.9.13"
  }
 },
 "nbformat": 4,
 "nbformat_minor": 5
}
