{
 "cells": [
  {
   "cell_type": "code",
   "execution_count": 1,
   "id": "c21152dc",
   "metadata": {},
   "outputs": [],
   "source": [
    "# import basic libraries for dataframe usage and viz\n",
    "import numpy as np\n",
    "import pandas as pd\n",
    "import matplotlib.pyplot as plt\n",
    "import seaborn as sns\n",
    "import os"
   ]
  },
  {
   "cell_type": "code",
   "execution_count": 2,
   "id": "4e3aa3ac",
   "metadata": {},
   "outputs": [
    {
     "data": {
      "text/plain": [
       "['.ipynb_checkpoints',\n",
       " 'SMS_Eligible_Recieved_SMS_No_Show.ipynb',\n",
       " 'sms_received_appointment_no_show.csv']"
      ]
     },
     "execution_count": 2,
     "metadata": {},
     "output_type": "execute_result"
    }
   ],
   "source": [
    "## remove this cell before submitting\n",
    "\n",
    "os.listdir()"
   ]
  },
  {
   "cell_type": "code",
   "execution_count": 3,
   "id": "78b6b469",
   "metadata": {},
   "outputs": [],
   "source": [
    "# this function will greatly simplify getting percentages based on condition\n",
    "# this can be used as a template if you want to change the equality operator to inequality (>,<, etc..)\n",
    "def column_percentage_calculator(df, column_name, condition):\n",
    "    total_rows = df.shape[0]\n",
    "    num_matched_rows = len(df.loc[(df[column_name] == condition)])\n",
    "    percentage_matches_condition = (num_matched_rows / total_rows) * 100\n",
    "    return percentage_matches_condition"
   ]
  },
  {
   "cell_type": "markdown",
   "id": "f0c413f3",
   "metadata": {},
   "source": [
    "## It can be assumed that each row that is in data frame was eligible to receive a SMS reminder as the csv it is based on contains only rows from the original dataset that were eligible to recieve SMS reminders."
   ]
  },
  {
   "cell_type": "code",
   "execution_count": 4,
   "id": "e2d8ab36",
   "metadata": {},
   "outputs": [
    {
     "data": {
      "text/html": [
       "<div>\n",
       "<style scoped>\n",
       "    .dataframe tbody tr th:only-of-type {\n",
       "        vertical-align: middle;\n",
       "    }\n",
       "\n",
       "    .dataframe tbody tr th {\n",
       "        vertical-align: top;\n",
       "    }\n",
       "\n",
       "    .dataframe thead th {\n",
       "        text-align: right;\n",
       "    }\n",
       "</style>\n",
       "<table border=\"1\" class=\"dataframe\">\n",
       "  <thead>\n",
       "    <tr style=\"text-align: right;\">\n",
       "      <th></th>\n",
       "      <th>Gender</th>\n",
       "      <th>Age</th>\n",
       "      <th>Scholarship</th>\n",
       "      <th>Hipertension</th>\n",
       "      <th>Diabetes</th>\n",
       "      <th>Alcoholism</th>\n",
       "      <th>Handicap</th>\n",
       "      <th>SMS_received</th>\n",
       "      <th>No-show</th>\n",
       "      <th>Days_Between</th>\n",
       "      <th>Day_Num</th>\n",
       "      <th>Age Group</th>\n",
       "      <th>Interval Group</th>\n",
       "    </tr>\n",
       "  </thead>\n",
       "  <tbody>\n",
       "    <tr>\n",
       "      <th>0</th>\n",
       "      <td>M</td>\n",
       "      <td>29</td>\n",
       "      <td>0</td>\n",
       "      <td>0</td>\n",
       "      <td>0</td>\n",
       "      <td>0</td>\n",
       "      <td>0</td>\n",
       "      <td>1</td>\n",
       "      <td>1</td>\n",
       "      <td>2</td>\n",
       "      <td>4</td>\n",
       "      <td>Young Adult</td>\n",
       "      <td>2 - 30</td>\n",
       "    </tr>\n",
       "    <tr>\n",
       "      <th>1</th>\n",
       "      <td>M</td>\n",
       "      <td>13</td>\n",
       "      <td>0</td>\n",
       "      <td>0</td>\n",
       "      <td>0</td>\n",
       "      <td>0</td>\n",
       "      <td>0</td>\n",
       "      <td>1</td>\n",
       "      <td>1</td>\n",
       "      <td>3</td>\n",
       "      <td>4</td>\n",
       "      <td>Youth</td>\n",
       "      <td>2 - 30</td>\n",
       "    </tr>\n",
       "    <tr>\n",
       "      <th>2</th>\n",
       "      <td>F</td>\n",
       "      <td>58</td>\n",
       "      <td>0</td>\n",
       "      <td>0</td>\n",
       "      <td>0</td>\n",
       "      <td>0</td>\n",
       "      <td>0</td>\n",
       "      <td>1</td>\n",
       "      <td>1</td>\n",
       "      <td>2</td>\n",
       "      <td>4</td>\n",
       "      <td>Older Adult and Seniors</td>\n",
       "      <td>2 - 30</td>\n",
       "    </tr>\n",
       "    <tr>\n",
       "      <th>3</th>\n",
       "      <td>F</td>\n",
       "      <td>27</td>\n",
       "      <td>0</td>\n",
       "      <td>0</td>\n",
       "      <td>0</td>\n",
       "      <td>0</td>\n",
       "      <td>0</td>\n",
       "      <td>1</td>\n",
       "      <td>1</td>\n",
       "      <td>28</td>\n",
       "      <td>4</td>\n",
       "      <td>Young Adult</td>\n",
       "      <td>2 - 30</td>\n",
       "    </tr>\n",
       "    <tr>\n",
       "      <th>4</th>\n",
       "      <td>F</td>\n",
       "      <td>19</td>\n",
       "      <td>0</td>\n",
       "      <td>0</td>\n",
       "      <td>0</td>\n",
       "      <td>0</td>\n",
       "      <td>0</td>\n",
       "      <td>1</td>\n",
       "      <td>1</td>\n",
       "      <td>28</td>\n",
       "      <td>4</td>\n",
       "      <td>Young Adult</td>\n",
       "      <td>2 - 30</td>\n",
       "    </tr>\n",
       "  </tbody>\n",
       "</table>\n",
       "</div>"
      ],
      "text/plain": [
       "  Gender  Age  Scholarship  Hipertension  Diabetes  Alcoholism  Handicap  \\\n",
       "0      M   29            0             0         0           0         0   \n",
       "1      M   13            0             0         0           0         0   \n",
       "2      F   58            0             0         0           0         0   \n",
       "3      F   27            0             0         0           0         0   \n",
       "4      F   19            0             0         0           0         0   \n",
       "\n",
       "   SMS_received  No-show  Days_Between  Day_Num                Age Group  \\\n",
       "0             1        1             2        4              Young Adult   \n",
       "1             1        1             3        4                    Youth   \n",
       "2             1        1             2        4  Older Adult and Seniors   \n",
       "3             1        1            28        4              Young Adult   \n",
       "4             1        1            28        4              Young Adult   \n",
       "\n",
       "  Interval Group  \n",
       "0         2 - 30  \n",
       "1         2 - 30  \n",
       "2         2 - 30  \n",
       "3         2 - 30  \n",
       "4         2 - 30  "
      ]
     },
     "execution_count": 4,
     "metadata": {},
     "output_type": "execute_result"
    }
   ],
   "source": [
    "# import df with pandas and visually inspect the head \n",
    "sms_received_appointment_no_show_df = pd.read_csv('sms_received_appointment_no_show.csv')\n",
    "sms_received_appointment_no_show_df.head()"
   ]
  },
  {
   "cell_type": "code",
   "execution_count": 5,
   "id": "d1af9fa3",
   "metadata": {},
   "outputs": [
    {
     "data": {
      "text/html": [
       "<div>\n",
       "<style scoped>\n",
       "    .dataframe tbody tr th:only-of-type {\n",
       "        vertical-align: middle;\n",
       "    }\n",
       "\n",
       "    .dataframe tbody tr th {\n",
       "        vertical-align: top;\n",
       "    }\n",
       "\n",
       "    .dataframe thead th {\n",
       "        text-align: right;\n",
       "    }\n",
       "</style>\n",
       "<table border=\"1\" class=\"dataframe\">\n",
       "  <thead>\n",
       "    <tr style=\"text-align: right;\">\n",
       "      <th></th>\n",
       "      <th>Age</th>\n",
       "      <th>Scholarship</th>\n",
       "      <th>Hipertension</th>\n",
       "      <th>Diabetes</th>\n",
       "      <th>Alcoholism</th>\n",
       "      <th>Handicap</th>\n",
       "      <th>SMS_received</th>\n",
       "      <th>No-show</th>\n",
       "      <th>Days_Between</th>\n",
       "      <th>Day_Num</th>\n",
       "    </tr>\n",
       "  </thead>\n",
       "  <tbody>\n",
       "    <tr>\n",
       "      <th>count</th>\n",
       "      <td>9743.000000</td>\n",
       "      <td>9743.000000</td>\n",
       "      <td>9743.000000</td>\n",
       "      <td>9743.000000</td>\n",
       "      <td>9743.000000</td>\n",
       "      <td>9743.000000</td>\n",
       "      <td>9743.0</td>\n",
       "      <td>9743.0</td>\n",
       "      <td>9743.000000</td>\n",
       "      <td>9743.000000</td>\n",
       "    </tr>\n",
       "    <tr>\n",
       "      <th>mean</th>\n",
       "      <td>33.845427</td>\n",
       "      <td>0.121215</td>\n",
       "      <td>0.156009</td>\n",
       "      <td>0.055322</td>\n",
       "      <td>0.028225</td>\n",
       "      <td>0.012522</td>\n",
       "      <td>1.0</td>\n",
       "      <td>1.0</td>\n",
       "      <td>18.630812</td>\n",
       "      <td>1.679154</td>\n",
       "    </tr>\n",
       "    <tr>\n",
       "      <th>std</th>\n",
       "      <td>21.029984</td>\n",
       "      <td>0.326394</td>\n",
       "      <td>0.362883</td>\n",
       "      <td>0.228619</td>\n",
       "      <td>0.165625</td>\n",
       "      <td>0.111204</td>\n",
       "      <td>0.0</td>\n",
       "      <td>0.0</td>\n",
       "      <td>15.568865</td>\n",
       "      <td>1.267499</td>\n",
       "    </tr>\n",
       "    <tr>\n",
       "      <th>min</th>\n",
       "      <td>0.000000</td>\n",
       "      <td>0.000000</td>\n",
       "      <td>0.000000</td>\n",
       "      <td>0.000000</td>\n",
       "      <td>0.000000</td>\n",
       "      <td>0.000000</td>\n",
       "      <td>1.0</td>\n",
       "      <td>1.0</td>\n",
       "      <td>2.000000</td>\n",
       "      <td>0.000000</td>\n",
       "    </tr>\n",
       "    <tr>\n",
       "      <th>25%</th>\n",
       "      <td>18.000000</td>\n",
       "      <td>0.000000</td>\n",
       "      <td>0.000000</td>\n",
       "      <td>0.000000</td>\n",
       "      <td>0.000000</td>\n",
       "      <td>0.000000</td>\n",
       "      <td>1.0</td>\n",
       "      <td>1.0</td>\n",
       "      <td>6.000000</td>\n",
       "      <td>1.000000</td>\n",
       "    </tr>\n",
       "    <tr>\n",
       "      <th>50%</th>\n",
       "      <td>32.000000</td>\n",
       "      <td>0.000000</td>\n",
       "      <td>0.000000</td>\n",
       "      <td>0.000000</td>\n",
       "      <td>0.000000</td>\n",
       "      <td>0.000000</td>\n",
       "      <td>1.0</td>\n",
       "      <td>1.0</td>\n",
       "      <td>14.000000</td>\n",
       "      <td>2.000000</td>\n",
       "    </tr>\n",
       "    <tr>\n",
       "      <th>75%</th>\n",
       "      <td>50.000000</td>\n",
       "      <td>0.000000</td>\n",
       "      <td>0.000000</td>\n",
       "      <td>0.000000</td>\n",
       "      <td>0.000000</td>\n",
       "      <td>0.000000</td>\n",
       "      <td>1.0</td>\n",
       "      <td>1.0</td>\n",
       "      <td>27.000000</td>\n",
       "      <td>3.000000</td>\n",
       "    </tr>\n",
       "    <tr>\n",
       "      <th>max</th>\n",
       "      <td>95.000000</td>\n",
       "      <td>1.000000</td>\n",
       "      <td>1.000000</td>\n",
       "      <td>1.000000</td>\n",
       "      <td>1.000000</td>\n",
       "      <td>1.000000</td>\n",
       "      <td>1.0</td>\n",
       "      <td>1.0</td>\n",
       "      <td>90.000000</td>\n",
       "      <td>5.000000</td>\n",
       "    </tr>\n",
       "  </tbody>\n",
       "</table>\n",
       "</div>"
      ],
      "text/plain": [
       "               Age  Scholarship  Hipertension     Diabetes   Alcoholism  \\\n",
       "count  9743.000000  9743.000000   9743.000000  9743.000000  9743.000000   \n",
       "mean     33.845427     0.121215      0.156009     0.055322     0.028225   \n",
       "std      21.029984     0.326394      0.362883     0.228619     0.165625   \n",
       "min       0.000000     0.000000      0.000000     0.000000     0.000000   \n",
       "25%      18.000000     0.000000      0.000000     0.000000     0.000000   \n",
       "50%      32.000000     0.000000      0.000000     0.000000     0.000000   \n",
       "75%      50.000000     0.000000      0.000000     0.000000     0.000000   \n",
       "max      95.000000     1.000000      1.000000     1.000000     1.000000   \n",
       "\n",
       "          Handicap  SMS_received  No-show  Days_Between      Day_Num  \n",
       "count  9743.000000        9743.0   9743.0   9743.000000  9743.000000  \n",
       "mean      0.012522           1.0      1.0     18.630812     1.679154  \n",
       "std       0.111204           0.0      0.0     15.568865     1.267499  \n",
       "min       0.000000           1.0      1.0      2.000000     0.000000  \n",
       "25%       0.000000           1.0      1.0      6.000000     1.000000  \n",
       "50%       0.000000           1.0      1.0     14.000000     2.000000  \n",
       "75%       0.000000           1.0      1.0     27.000000     3.000000  \n",
       "max       1.000000           1.0      1.0     90.000000     5.000000  "
      ]
     },
     "execution_count": 5,
     "metadata": {},
     "output_type": "execute_result"
    }
   ],
   "source": [
    "sms_received_appointment_no_show_df.describe()"
   ]
  },
  {
   "cell_type": "code",
   "execution_count": 6,
   "id": "32feff2c",
   "metadata": {},
   "outputs": [
    {
     "name": "stdout",
     "output_type": "stream",
     "text": [
      "<class 'pandas.core.frame.DataFrame'>\n",
      "RangeIndex: 9743 entries, 0 to 9742\n",
      "Data columns (total 13 columns):\n",
      " #   Column          Non-Null Count  Dtype \n",
      "---  ------          --------------  ----- \n",
      " 0   Gender          9743 non-null   object\n",
      " 1   Age             9743 non-null   int64 \n",
      " 2   Scholarship     9743 non-null   int64 \n",
      " 3   Hipertension    9743 non-null   int64 \n",
      " 4   Diabetes        9743 non-null   int64 \n",
      " 5   Alcoholism      9743 non-null   int64 \n",
      " 6   Handicap        9743 non-null   int64 \n",
      " 7   SMS_received    9743 non-null   int64 \n",
      " 8   No-show         9743 non-null   int64 \n",
      " 9   Days_Between    9743 non-null   int64 \n",
      " 10  Day_Num         9743 non-null   int64 \n",
      " 11  Age Group       9743 non-null   object\n",
      " 12  Interval Group  9743 non-null   object\n",
      "dtypes: int64(10), object(3)\n",
      "memory usage: 989.6+ KB\n"
     ]
    }
   ],
   "source": [
    "# examine df structure\n",
    "sms_received_appointment_no_show_df.info()"
   ]
  },
  {
   "cell_type": "markdown",
   "id": "7ca667bb",
   "metadata": {},
   "source": [
    "## AGE"
   ]
  },
  {
   "cell_type": "code",
   "execution_count": 7,
   "id": "24c4ace0",
   "metadata": {},
   "outputs": [
    {
     "data": {
      "text/plain": [
       "<AxesSubplot:ylabel='Frequency'>"
      ]
     },
     "execution_count": 7,
     "metadata": {},
     "output_type": "execute_result"
    },
    {
     "data": {
      "image/png": "[encoded data removed]",
      "text/plain": [
       "<Figure size 500x500 with 1 Axes>"
      ]
     },
     "metadata": {},
     "output_type": "display_data"
    }
   ],
   "source": [
    "sms_received_appointment_no_show_df.Age.plot(kind='hist', figsize=(5,5), color='red')"
   ]
  },
  {
   "cell_type": "code",
   "execution_count": 8,
   "id": "e8a620a8",
   "metadata": {},
   "outputs": [
    {
     "name": "stdout",
     "output_type": "stream",
     "text": [
      "32.0 is the median age.\n"
     ]
    }
   ],
   "source": [
    "# calculate the median age for appointments that DID RECEIVE SMS REMINDER BUT NO SHOW\n",
    "age_median = sms_received_appointment_no_show_df.Age.median()\n",
    "print('{} is the median age.'.format(age_median))"
   ]
  },
  {
   "cell_type": "markdown",
   "id": "3d88e85b",
   "metadata": {},
   "source": [
    "## DAYS_BETWEEN"
   ]
  },
  {
   "cell_type": "code",
   "execution_count": 9,
   "id": "a3c143ce",
   "metadata": {},
   "outputs": [
    {
     "data": {
      "text/plain": [
       "<AxesSubplot:ylabel='Frequency'>"
      ]
     },
     "execution_count": 9,
     "metadata": {},
     "output_type": "execute_result"
    },
    {
     "data": {
      "image/png": "[encoded data removed]",
      "text/plain": [
       "<Figure size 500x300 with 1 Axes>"
      ]
     },
     "metadata": {},
     "output_type": "display_data"
    }
   ],
   "source": [
    "# visualize 'Days_Between' column distribution\n",
    "sms_received_appointment_no_show_df.Days_Between.plot(kind='hist', figsize=(5,3), color='blue')"
   ]
  },
  {
   "cell_type": "markdown",
   "id": "c050987e",
   "metadata": {},
   "source": [
    "## GENDER"
   ]
  },
  {
   "cell_type": "code",
   "execution_count": 10,
   "id": "7054e8ef",
   "metadata": {},
   "outputs": [
    {
     "name": "stdout",
     "output_type": "stream",
     "text": [
      "31.31% of SMS-eligible appointments that DID RECEIVE SMS REMINDER BUT NO SHOW were for male patients.\n",
      "68.69% of SMS-eligible appointments that DID RECEIVE SMS REMINDER BUT NO SHOW were for female patients.\n"
     ]
    }
   ],
   "source": [
    "# calculate percent each gender that DID RECEIVE SMS REMINDER BUT NO SHOW' rows with column_percentage_calculator already defined\n",
    "did_receive_SMS_no_show_male_percent = column_percentage_calculator(sms_received_appointment_no_show_df, 'Gender', 'M')\n",
    "did_receive_SMS_no_show_female_percent = column_percentage_calculator(sms_received_appointment_no_show_df, 'Gender', 'F')\n",
    "print('{}% of SMS-eligible appointments that DID RECEIVE SMS REMINDER BUT NO SHOW were for male patients.'.format(round(did_receive_SMS_no_show_male_percent, 2)))\n",
    "print('{}% of SMS-eligible appointments that DID RECEIVE SMS REMINDER BUT NO SHOW were for female patients.'.format(round(did_receive_SMS_no_show_female_percent, 2)))"
   ]
  },
  {
   "cell_type": "code",
   "execution_count": 19,
   "id": "cf630145",
   "metadata": {},
   "outputs": [
    {
     "data": {
      "text/plain": [
       "Text(0.5, 1.0, 'SMS-Received and No-Show Gender Percentage')"
      ]
     },
     "execution_count": 19,
     "metadata": {},
     "output_type": "execute_result"
    },
    {
     "data": {
      "image/png": "[encoded data removed]",
      "text/plain": [
       "<Figure size 640x480 with 1 Axes>"
      ]
     },
     "metadata": {},
     "output_type": "display_data"
    }
   ],
   "source": [
    "# visualize gender binary distribution\n",
    "gender_percents = [did_receive_SMS_no_show_male_percent, did_receive_SMS_no_show_female_percent ]\n",
    "labels = ['Male', 'Female']\n",
    "\n",
    "fig, ax = plt.subplots()\n",
    "ax.pie(gender_percents, labels = labels)\n",
    "ax.set_title('SMS-Received and No-Show Gender Percentage')"
   ]
  },
  {
   "cell_type": "markdown",
   "id": "a9bd2048",
   "metadata": {},
   "source": [
    "## INTERVAL GROUP"
   ]
  },
  {
   "cell_type": "code",
   "execution_count": 18,
   "id": "495f13f1",
   "metadata": {},
   "outputs": [
    {
     "name": "stdout",
     "output_type": "stream",
     "text": [
      "Percentage of SMS-RECEIVED AND NO SHOW appointments scheduled between 2 and 30 days out ---> 81.46%\n",
      "Percentage of SMS-RECEIVED AND NO SHOW appointments scheduled between 31 and 60 days out ---> 15.48%\n",
      "Percentage of SMS-RECEIVED AND NO SHOW appointments scheduled between 61 and 90 days out ---> 3.06%\n"
     ]
    }
   ],
   "source": [
    "# obtain percentages of Interval Groups using the column_percentage_calculator function defined earlier \n",
    "two_to_thirty_percentage = column_percentage_calculator(sms_received_appointment_no_show_df, 'Interval Group', '2 - 30')\n",
    "num_thirtyone_to_sixty_percentage = column_percentage_calculator(sms_received_appointment_no_show_df, 'Interval Group', '31 - 60')\n",
    "num_sixtyone_to_ninety_percentage = column_percentage_calculator(sms_received_appointment_no_show_df, 'Interval Group', '61 - 90')\n",
    "\n",
    "print('Percentage of SMS-RECEIVED AND NO SHOW appointments scheduled between 2 and 30 days out ---> {}%'.format(round(two_to_thirty_percentage,2)))\n",
    "print('Percentage of SMS-RECEIVED AND NO SHOW appointments scheduled between 31 and 60 days out ---> {}%'.format(round(num_thirtyone_to_sixty_percentage, 2)))\n",
    "print('Percentage of SMS-RECEIVED AND NO SHOW appointments scheduled between 61 and 90 days out ---> {}%'.format(round(num_sixtyone_to_ninety_percentage, 2)))"
   ]
  },
  {
   "cell_type": "code",
   "execution_count": 13,
   "id": "82655d8f",
   "metadata": {},
   "outputs": [
    {
     "data": {
      "text/plain": [
       "<AxesSubplot:>"
      ]
     },
     "execution_count": 13,
     "metadata": {},
     "output_type": "execute_result"
    },
    {
     "data": {
      "image/png": "[encoded data removed]",
      "text/plain": [
       "<Figure size 500x300 with 1 Axes>"
      ]
     },
     "metadata": {},
     "output_type": "display_data"
    }
   ],
   "source": [
    "# visualize Interval Group categorical distribution in a bar plot\n",
    "sms_received_appointment_no_show_df['Interval Group'].value_counts().plot(kind='bar', figsize =(5,3), color='green')"
   ]
  },
  {
   "cell_type": "markdown",
   "id": "3b1870c7",
   "metadata": {},
   "source": [
    "## AGE BRACKETS"
   ]
  },
  {
   "cell_type": "code",
   "execution_count": 14,
   "id": "3fec5efe",
   "metadata": {},
   "outputs": [
    {
     "name": "stdout",
     "output_type": "stream",
     "text": [
      "Percentage of SMS-Eligible appointments that DID RECEIVE SMS REMINDER BUT NO SHOW for Youths 26.42%\n",
      "Percentage of SMS-Eligible appointments that DID RECEIVE SMS REMINDER BUT NO SHOW for Young Adults 30.63%\n",
      "Percentage of SMS-Eligible appointments that DID RECEIVE SMS REMINDER BUT NO SHOW for Adults 25.42%\n",
      "Percentage of SMS-Eligible appointments that DID RECEIVE SMS REMINDER BUT NO SHOW for Older Adults and Seniors 17.53%\n"
     ]
    }
   ],
   "source": [
    "# calculate percentage for age group categorical column values\n",
    "sms_eligible_youth_percentage = column_percentage_calculator(sms_received_appointment_no_show_df, 'Age Group', 'Youth')\n",
    "sms_eligible_young_adult_percentage = column_percentage_calculator(sms_received_appointment_no_show_df, 'Age Group', 'Young Adult')\n",
    "sms_eligible_adult_percentage = column_percentage_calculator(sms_received_appointment_no_show_df, 'Age Group', 'Adult')\n",
    "sms_eligible_older_adult_percentage = column_percentage_calculator(sms_received_appointment_no_show_df, 'Age Group', 'Older Adult and Seniors')\n",
    "\n",
    "print('Percentage of SMS-Eligible appointments that DID RECEIVE SMS REMINDER BUT NO SHOW for Youths {}%'.format(round(sms_eligible_youth_percentage, 2)))\n",
    "print('Percentage of SMS-Eligible appointments that DID RECEIVE SMS REMINDER BUT NO SHOW for Young Adults {}%'.format(round(sms_eligible_young_adult_percentage, 2)))\n",
    "print('Percentage of SMS-Eligible appointments that DID RECEIVE SMS REMINDER BUT NO SHOW for Adults {}%'.format(round(sms_eligible_adult_percentage, 2)))\n",
    "print('Percentage of SMS-Eligible appointments that DID RECEIVE SMS REMINDER BUT NO SHOW for Older Adults and Seniors {}%'.format(round(sms_eligible_older_adult_percentage, 2)))"
   ]
  },
  {
   "cell_type": "code",
   "execution_count": 15,
   "id": "25dad5fc",
   "metadata": {},
   "outputs": [
    {
     "data": {
      "text/plain": [
       "<AxesSubplot:>"
      ]
     },
     "execution_count": 15,
     "metadata": {},
     "output_type": "execute_result"
    },
    {
     "data": {
      "image/png": "[encoded data removed]",
      "text/plain": [
       "<Figure size 700x500 with 1 Axes>"
      ]
     },
     "metadata": {},
     "output_type": "display_data"
    }
   ],
   "source": [
    "# create basic viz for age brackets/buckets\n",
    "sms_received_appointment_no_show_df['Age Group'].value_counts().plot(kind='bar', figsize=(7,5), color='red')"
   ]
  },
  {
   "cell_type": "markdown",
   "id": "93202a78",
   "metadata": {},
   "source": [
    "## CONDITIONS"
   ]
  },
  {
   "cell_type": "markdown",
   "id": "e5647f36",
   "metadata": {},
   "source": [
    "__As each 'condition' is it's own column and the values are only binary (0 for no, 1 for yes), the percentages for these variables WRT to all ROWS THAT DID RECEIVE SMS REMINDER AND PRESENTED AT THE APPOINTMENT was obtained from the .describe() command and its output above. These values and respective labels will be used to visualize these variables on a bar graph.__"
   ]
  },
  {
   "cell_type": "code",
   "execution_count": 17,
   "id": "c109a858",
   "metadata": {
    "scrolled": true
   },
   "outputs": [
    {
     "data": {
      "text/plain": [
       "[Text(0, 0, 'Handicap'),\n",
       " Text(1, 0, 'Alcoholism'),\n",
       " Text(2, 0, 'Diabetes'),\n",
       " Text(3, 0, 'Scholarship Program'),\n",
       " Text(4, 0, 'Hypertension')]"
      ]
     },
     "execution_count": 17,
     "metadata": {},
     "output_type": "execute_result"
    },
    {
     "data": {
      "image/png": "[encoded data removed]",
      "text/plain": [
       "<Figure size 500x500 with 1 Axes>"
      ]
     },
     "metadata": {},
     "output_type": "display_data"
    }
   ],
   "source": [
    "# create pandas series to graph and list of respective labels\n",
    "condition_percents = pd.Series([1.25,  2.82, 5.53, 12.12, 15.60])\n",
    "labels = ['Handicap', 'Alcoholism', 'Diabetes', 'Scholarship Program', 'Hypertension']\n",
    "\n",
    "\n",
    "# plot graph of variable condition percentages\n",
    "plt.figure(figsize=(5,5))\n",
    "ax = condition_percents.plot(kind='bar')\n",
    "ax.set_title('Variable Condition Percents of SMS-Received No-Show Appointments')\n",
    "ax.set_xlabel('Variable Conditions in SMS-Received No-Show Appointments Data Set')\n",
    "ax.set_ylabel('Percent of Total Data Set')\n",
    "ax.set_xticklabels(labels, rotation=45, ha='right')"
   ]
  },
  {
   "cell_type": "markdown",
   "id": "a825cd7b",
   "metadata": {},
   "source": [
    "# These are descriptive statistics of ROWS THAT RECEIVED SMS REMINDER AND NO-SHOW AT APPOINTMENT. \n",
    "\n",
    "- __The average age for SMS-RECEIVED AND NO SHOW appointments is 34 (33.84 rounded).__\n",
    "- __The median age SMS-RECEIVED AND NO SHOW appointments is 32.__\n",
    "- __The average time between the ScheduledDay and AppointmentDay for SMS-RECEIVED AND NO SHOW appointments is 19 (18.63 rounded) days.__\n",
    "- __Approximately 12.12% of SMS-RECEIVED AND NO SHOW appointments are for patients enrolled in the 'scholarship' program (explained earlier in analysis).__\n",
    "- __Approximately 15.6% of SMS-RECEIVED AND NO SHOW are for patients suffering from hipertension (hypertension).__\n",
    "- __Approximately 5.53% of SMS-RECEIVED AND NO SHOW are for patients suffering from diabetes.__\n",
    "- __Approximately 2.82% of SMS-RECEIVED AND NO SHOW are for patients suffering from alcoholism.__\n",
    "- __Approximately 1.85% of SMS-RECEIVED AND NO SHOW are for patients identifying as handicapped.__\n",
    "- __Approximately 31.31% of SMS-RECEIVED AND NO SHOW rows were for appointments for male patients.__\n",
    "- __Approximately 68.69% of SMS-RECEIVED AND NO SHOW elibible rows were for appointments for female patients.__\n",
    "- __Approximately 26.42% of SMS-RECEIVED AND NO SHOW for Youths.__\n",
    "- __Approximately 30.63% of SMS-RECEIVED AND NO SHOW for Young Adults.__ \n",
    "- __Approximately 25.42% of SMS-RECEIVED AND NO SHOW for Adults.__\n",
    "- __Approximately 17.53% of SMS-RECEIVED AND NO SHOW for Older Adults and Seniors.__ \n",
    "- __Approximately 81.46%% of SMS-RECEIVED AND NO SHOW were scheduled between 2 and 30 days out.__\n",
    "- __Approximately 15.48% of SMS-RECEIVED AND NO SHOW scheduled between 31 and 60 days out.__\n",
    "- __Approximately 3.06% of SMS-RECEIVED AND NO SHOW scheduled between 61 and 90 days out.__"
   ]
  },
  {
   "cell_type": "code",
   "execution_count": null,
   "id": "298cd6a8",
   "metadata": {},
   "outputs": [],
   "source": []
  }
 ],
 "metadata": {
  "kernelspec": {
   "display_name": "Python 3 (ipykernel)",
   "language": "python",
   "name": "python3"
  },
  "language_info": {
   "codemirror_mode": {
    "name": "ipython",
    "version": 3
   },
   "file_extension": ".py",
   "mimetype": "text/x-python",
   "name": "python",
   "nbconvert_exporter": "python",
   "pygments_lexer": "ipython3",
   "version": "3.9.13"
  }
 },
 "nbformat": 4,
 "nbformat_minor": 5
}
